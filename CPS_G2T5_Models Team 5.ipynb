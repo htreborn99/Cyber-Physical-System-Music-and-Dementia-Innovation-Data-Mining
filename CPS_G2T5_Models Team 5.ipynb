{
 "cells": [
  {
   "cell_type": "markdown",
   "id": "e3b18752",
   "metadata": {},
   "source": [
    "# Foundations of Cyber-Physical Project\n",
    "\n",
    "EmotivPro v3.0 Data Analytics\n",
    "\n",
    "`Project Members: Yu Xiang, Jie Peng, Trina , Luqman`\n"
   ]
  },
  {
   "cell_type": "markdown",
   "id": "f7f7b95f",
   "metadata": {},
   "source": [
    "### Project's Problem Statement\n",
    "\n",
    "**Project Goal: Given a brain wave, the Machine Learning will be able to predict whether the song is considered stimulating, non-simulating or neutral to the person.**\n",
    "\n",
    "**Project Value-Add: \n",
    "    1. Feature Importance, telling our stakeholder that some brainwaves are more releveant to the predictiong of song's stimulation. \n",
    "    2. How to know the threshold**\n",
    "\n"
   ]
  },
  {
   "cell_type": "markdown",
   "id": "e9b62ad3",
   "metadata": {},
   "source": [
    "### Project Flow\n",
    "\n",
    "#### Table of Content \n",
    "* 1.0 Import of required libraries \n",
    "* 1.1 Import of CSV Files \n",
    "* 1.2 Preparation of Dataset \n",
    "* 1.3 Retrieval of Required Columns for our Combination in later Sections\n",
    "* 1.4 Classification Function \n",
    "\n",
    "##### Combination 1 (Testing of Yuxiang's 30 Songs on Yuxiang's 6 songs)\n",
    "* 2.1 Preparation and Cleaning of Dataset for Performance Metrics, Beta Waves and All Brain Waves \n",
    "* 2.2 Cleaning of Dataset for Performance Metrics \n",
    "* 2.3 Preparation of Training Model \n",
    "* 2.4 Cleaning of Beta Training Model\n",
    "* 2.5 Preparation of Training Model \n",
    "* 2.6 Dimensionality-Reduction Method Training Model (PCA-Beta Waves) \n",
    "* 2.7 Preparation of Dataset for all brain waves \n",
    "* 2.8 Preparation of Training Model \n",
    "\n",
    "##### Combination 2 (Testing on Yuxiang's 36 songs and test on Luqman's 6 songs) \n",
    "* 3.1 Preparation of Dataset for Performance Metrics, Beta Waves and All Brain Waves \n",
    "* 3.2 Cleaning of Dataset for Performance Metrics\n",
    "* 3.3 Preparation of Training Models\n",
    "* 3.4 Cleaning of Dataset for Beta Waves\n",
    "* 3.5 Preparation of Training Models\n",
    "* 3.6 Dimensionality-reduction method Training Models (PCA-Beta Waves)\n",
    "* 3.7 Cleaning for all brain waves\n",
    "* 3.8 Preparation of Training Model \n",
    "* 3.9 Dimensionality-reduction method Training Models (PCA- All Waves)\n",
    "\n",
    "##### Combination 3 (Combine both Yu Xiang and Luqman's 6 songs each with song aggregation with song Aggregation) \n",
    "* 4.1 Preparation of Dataset for Performance Metrics, Beta Waves and All Brain Waves \n",
    "* 4.2 Cleaning of Dataset for Performance Metrics\n",
    "* 4.3 Preparation of Training Models\n",
    "* 4.4 Cleaning of Dataset for Beta Waves\n",
    "* 4.5 Preparation of Training Models\n",
    "* 4.6 Dimensionality-reduction method Training Models (PCA-Beta Waves)\n",
    "* 4.7 Preparation for all brain waves\n",
    "* 4.8 Dimensionality-reduction method Training Models (PCA- All Waves)\n",
    "\n",
    "##### Combination 4 (Testing of Yu Xiang's 36 songs based on Combi 1 and train test split) \n",
    "* 5.1 Preparation of Dataset for Performance Metrics, Beta Waves and All Brain Waves \n",
    "* 5.2 Cleaning of Dataset for Performance Metrics\n",
    "* 5.3 Preparation of Training Models\n",
    "* 5.4 Cleaning of Dataset for Beta Waves\n",
    "* 5.5 Preparation of Training Models\n",
    "* 5.6 Dimensionality-reduction method Training Models (PCA-Beta Waves)\n",
    "* 5.7 Preparation for all brain waves\n",
    "* 5.8 Dimensionality-reduction method Training Models (PCA- All Waves)\n",
    "\n",
    "##### Combination 5 (Combine both YuXiang and Luqman 6 songs each, and train test split ) \n",
    "* 6.1 Preparation of Dataset for Performance Metrics, Beta Waves and All Brain Waves \n",
    "* 6.2 Cleaning of Dataset for Performance Metrics\n",
    "* 6.3 Preparation of Training Models\n",
    "* 6.4 Cleaning of Dataset for Beta Waves\n",
    "* 6.5 Preparation of Training Models for Beta waves \n",
    "* 6.6 Cleaning of Dataset for other Brain Waves \n",
    "* 6.7 Dimensionality - Reduction Method Training Model (PCA-All Waves)\n"
   ]
  },
  {
   "cell_type": "markdown",
   "id": "fb8ebde5",
   "metadata": {},
   "source": [
    "### Section: 1.0 Import of required libraries "
   ]
  },
  {
   "cell_type": "code",
   "execution_count": 1,
   "id": "b9151ea3",
   "metadata": {},
   "outputs": [],
   "source": [
    "# General import statements \n",
    "import pandas as pd\n",
    "import numpy as np\n",
    "import matplotlib.pyplot as plt\n",
    "import seaborn as sns\n",
    "\n",
    "from sklearn.model_selection import train_test_split\n",
    "from sklearn.model_selection import GridSearchCV\n",
    "from sklearn.model_selection import cross_val_score\n",
    "from sklearn.model_selection import KFold\n",
    "\n",
    "from sklearn.metrics import confusion_matrix\n",
    "from sklearn.metrics import classification_report\n",
    "from sklearn.metrics import accuracy_score\n",
    "from sklearn.metrics import roc_auc_score\n",
    "from sklearn.metrics import roc_curve\n",
    "\n",
    "from sklearn.preprocessing import StandardScaler, LabelEncoder \n",
    "\n",
    "#model\n",
    "from sklearn import tree\n",
    "from sklearn.linear_model import LogisticRegression\n",
    "from sklearn.tree import DecisionTreeClassifier\n",
    "from sklearn.ensemble import RandomForestClassifier\n",
    "from sklearn.naive_bayes import GaussianNB\n",
    "from sklearn.neighbors import KNeighborsClassifier\n",
    "from sklearn.ensemble import BaggingClassifier\n",
    "from sklearn.ensemble import AdaBoostClassifier\n",
    "from sklearn.ensemble import GradientBoostingClassifier\n",
    "from sklearn.ensemble import ExtraTreesClassifier\n",
    "from sklearn.svm import SVC\n",
    "from xgboost import XGBClassifier # pip install xgboost\n",
    "from sklearn.metrics import f1_score,precision_score,recall_score,accuracy_score\n",
    "from sklearn.metrics import fbeta_score, make_scorer\n",
    "\n",
    "from sklearn.decomposition import PCA"
   ]
  },
  {
   "cell_type": "markdown",
   "id": "258e4615",
   "metadata": {},
   "source": [
    "### Section: 1.1 Import of CSV Files  "
   ]
  },
  {
   "cell_type": "code",
   "execution_count": 2,
   "id": "c670ecf4",
   "metadata": {},
   "outputs": [],
   "source": [
    "# read data\n",
    "# Trina' Directory: ##############################################################################\n",
    "# df1 = pd.read_csv(\"Actual_data/4 Oct P1 - Cleaned.csv\", low_memory=False)\n",
    "# df2 = pd.read_csv(\"Actual_data/26 Sep P1 - Cleaned.csv\",skiprows=[0], low_memory=False)\n",
    "# df3 = pd.read_csv(\"Actual_data/26 Sep P2 - Cleaned.csv\",skiprows=[0], low_memory=False)\n",
    "\n",
    "# df4 = pd.read_csv(\"Actual_data/Oct 28 - Yuxiang - Cleaned.csv\",low_memory=False)\n",
    "# df5 = pd.read_csv(\"Actual_data/Oct 28 - Luqman - Cleaned.csv\",skiprows=[0],low_memory=False)\n",
    "# df6 = pd.read_csv(\"Actual_data/Oct 28 - Jiepeng - Cleaned.csv\",skiprows=[0],low_memory=False)\n",
    "# df6.drop(columns=[\"Unnamed: 178\"], inplace=True)\n",
    "\n",
    "\n",
    "# Yu Xiang's Directory: ##########################################################################\n",
    "df1 = pd.read_csv(\"/Users/htreborn/CPS_Project_Data/4 Oct P1 - Cleaned.csv\", low_memory=False)\n",
    "df2 = pd.read_csv(\"/Users/htreborn/CPS_Project_Data/26 Sep P1 - Cleaned.csv\",skiprows=[0], low_memory=False)\n",
    "df3 = pd.read_csv(\"/Users/htreborn/CPS_Project_Data/26 Sep P2 - Cleaned.csv\",skiprows=[0], low_memory=False)\n",
    "\n",
    "df4 = pd.read_csv(\"/users/htreborn/CPS_Project_Data/Oct 28 - Yuxiang - Cleaned.csv\", low_memory=False)\n",
    "df5 = pd.read_csv(\"/users/htreborn/CPS_Project_Data/Oct 28 - Luqman - Cleaned.csv\",skiprows=[0],low_memory=False)\n",
    "df6 = pd.read_csv(\"/users/htreborn/CPS_Project_Data/Oct 28 - Jiepeng - Cleaned.csv\",skiprows=[0],low_memory=False)\n",
    "df6.drop(columns=[\"Unnamed: 178\"], inplace=True)\n",
    "\n",
    "# Luqman's Directory ###############################################################################\n",
    "# df1 = pd.read_csv(\"26 Sep P1 - Cleaned.csv\", skiprows=[0], low_memory=False)\n",
    "# df2 = pd.read_csv(\"26 Sep P2 - Cleaned.csv\", skiprows=[0], low_memory=False)\n",
    "# df3 = pd.read_csv(\"4 Oct P1 - Cleaned.csv\", skiprows=[0], low_memory=False)\n",
    "\n",
    "# JiePeng's Directory ##############################################################################\n",
    "# df1 = pd.read_csv(\"4 Oct P1 - Cleaned.csv\", low_memory=False)\n",
    "# df2 = pd.read_csv(\"26 Sep P1 - Cleaned.csv\",skiprows=[0], low_memory=False)\n",
    "# df3 = pd.read_csv(\"26 Sep P2 - Cleaned.csv\",skiprows=[0], low_memory=False)\n",
    "\n",
    "# df4 = pd.read_csv(\"Oct 28 - Yuxiang - Cleaned.csv\",low_memory=False)\n",
    "# df5 = pd.read_csv(\"Oct 28 - Luqman - Cleaned.csv\",skiprows=[0],low_memory=False)\n",
    "# df6 = pd.read_csv(\"Oct 28 - Jiepeng - Cleaned.csv\",skiprows=[0],low_memory=False)\n",
    "# df6.drop(columns=[\"Unnamed: 178\"], inplace=True)\n",
    "\n",
    "# df.shape"
   ]
  },
  {
   "cell_type": "markdown",
   "id": "bcab0e6e",
   "metadata": {},
   "source": [
    "### Section 1.2 Preparation of Dataset\n",
    "\n",
    "In this portion, we will be preparing and verifying the validity of the dataset. "
   ]
  },
  {
   "cell_type": "code",
   "execution_count": 3,
   "id": "e88dcfe6",
   "metadata": {},
   "outputs": [
    {
     "name": "stdout",
     "output_type": "stream",
     "text": [
      "YuXiang's Dataset 1 (10 Songs)\t: (299287, 181)\n",
      "YuXiang's Dataset 2 (10 Songs)\t: (1048574, 181)\n",
      "YuXiang's Dataset 3 (10 Songs)\t: (307779, 181)\n",
      "YuXiang's Dataset 4 (6 Songs)\t: (1048575, 181)\n",
      "Luqman's Dataset (6 Songs)\t: (157566, 181)\n",
      "JiePeng's Dataset (6 Songs)\t: (225683, 181)\n"
     ]
    }
   ],
   "source": [
    "print(\"YuXiang's Dataset 1 (10 Songs)\\t:\", df1.shape)\n",
    "print(\"YuXiang's Dataset 2 (10 Songs)\\t:\", df2.shape)\n",
    "print(\"YuXiang's Dataset 3 (10 Songs)\\t:\", df3.shape)\n",
    "\n",
    "print(\"YuXiang's Dataset 4 (6 Songs)\\t:\", df4.shape)\n",
    "print(\"Luqman's Dataset (6 Songs)\\t:\", df5.shape)\n",
    "print(\"JiePeng's Dataset (6 Songs)\\t:\", df6.shape)"
   ]
  },
  {
   "cell_type": "markdown",
   "id": "d5cd2f82",
   "metadata": {},
   "source": [
    "#### Preparation of YuXiang's 30 Song"
   ]
  },
  {
   "cell_type": "code",
   "execution_count": 4,
   "id": "c4710871",
   "metadata": {},
   "outputs": [],
   "source": [
    "df = pd.concat([df1,df2,df3])"
   ]
  },
  {
   "cell_type": "markdown",
   "id": "c883bd68",
   "metadata": {},
   "source": [
    "#### Converting our Target Value from [-1,0,1] to [0,1,2]. (NaN will remain as NaN) "
   ]
  },
  {
   "cell_type": "code",
   "execution_count": 5,
   "id": "591d6649",
   "metadata": {},
   "outputs": [],
   "source": [
    "def dummy(charvalue):\n",
    "    if charvalue == -1:\n",
    "        return 0\n",
    "    elif charvalue == 0:\n",
    "        return 0\n",
    "    elif charvalue == 1:\n",
    "        return 1\n",
    "\n",
    "df['Target'] = df['Target'].apply(dummy)\n",
    "df4['Target'] = df4[\"Target\"].apply(dummy)\n",
    "df5['Target'] = df5['Target'].apply(dummy)\n",
    "df6[\"Target\"] = df6[\"Target\"].apply(dummy)"
   ]
  },
  {
   "cell_type": "code",
   "execution_count": 6,
   "id": "b9638a4d",
   "metadata": {},
   "outputs": [
    {
     "data": {
      "text/html": [
       "<div>\n",
       "<style scoped>\n",
       "    .dataframe tbody tr th:only-of-type {\n",
       "        vertical-align: middle;\n",
       "    }\n",
       "\n",
       "    .dataframe tbody tr th {\n",
       "        vertical-align: top;\n",
       "    }\n",
       "\n",
       "    .dataframe thead th {\n",
       "        text-align: right;\n",
       "    }\n",
       "</style>\n",
       "<table border=\"1\" class=\"dataframe\">\n",
       "  <thead>\n",
       "    <tr style=\"text-align: right;\">\n",
       "      <th></th>\n",
       "      <th>Timestamp</th>\n",
       "      <th>OriginalTimestamp</th>\n",
       "      <th>EEG.Counter</th>\n",
       "      <th>EEG.Interpolated</th>\n",
       "      <th>EEG.AF3</th>\n",
       "      <th>EEG.F7</th>\n",
       "      <th>EEG.F3</th>\n",
       "      <th>EEG.FC5</th>\n",
       "      <th>EEG.T7</th>\n",
       "      <th>EEG.P7</th>\n",
       "      <th>...</th>\n",
       "      <th>POW.F8.BetaL</th>\n",
       "      <th>POW.F8.BetaH</th>\n",
       "      <th>POW.F8.Gamma</th>\n",
       "      <th>POW.AF4.Theta</th>\n",
       "      <th>POW.AF4.Alpha</th>\n",
       "      <th>POW.AF4.BetaL</th>\n",
       "      <th>POW.AF4.BetaH</th>\n",
       "      <th>POW.AF4.Gamma</th>\n",
       "      <th>Target</th>\n",
       "      <th>Song</th>\n",
       "    </tr>\n",
       "  </thead>\n",
       "  <tbody>\n",
       "    <tr>\n",
       "      <th>239040</th>\n",
       "      <td>1.664181e+09</td>\n",
       "      <td>1.664181e+09</td>\n",
       "      <td>24.0</td>\n",
       "      <td>0.0</td>\n",
       "      <td>4127.820313</td>\n",
       "      <td>4053.205078</td>\n",
       "      <td>4124.230957</td>\n",
       "      <td>4085.512939</td>\n",
       "      <td>4117.820313</td>\n",
       "      <td>4143.077148</td>\n",
       "      <td>...</td>\n",
       "      <td>NaN</td>\n",
       "      <td>NaN</td>\n",
       "      <td>NaN</td>\n",
       "      <td>NaN</td>\n",
       "      <td>NaN</td>\n",
       "      <td>NaN</td>\n",
       "      <td>NaN</td>\n",
       "      <td>NaN</td>\n",
       "      <td>0.0</td>\n",
       "      <td>18.0</td>\n",
       "    </tr>\n",
       "    <tr>\n",
       "      <th>498045</th>\n",
       "      <td>NaN</td>\n",
       "      <td>NaN</td>\n",
       "      <td>NaN</td>\n",
       "      <td>NaN</td>\n",
       "      <td>NaN</td>\n",
       "      <td>NaN</td>\n",
       "      <td>NaN</td>\n",
       "      <td>NaN</td>\n",
       "      <td>NaN</td>\n",
       "      <td>NaN</td>\n",
       "      <td>...</td>\n",
       "      <td>NaN</td>\n",
       "      <td>NaN</td>\n",
       "      <td>NaN</td>\n",
       "      <td>NaN</td>\n",
       "      <td>NaN</td>\n",
       "      <td>NaN</td>\n",
       "      <td>NaN</td>\n",
       "      <td>NaN</td>\n",
       "      <td>NaN</td>\n",
       "      <td>30.0</td>\n",
       "    </tr>\n",
       "    <tr>\n",
       "      <th>456536</th>\n",
       "      <td>NaN</td>\n",
       "      <td>NaN</td>\n",
       "      <td>NaN</td>\n",
       "      <td>NaN</td>\n",
       "      <td>NaN</td>\n",
       "      <td>NaN</td>\n",
       "      <td>NaN</td>\n",
       "      <td>NaN</td>\n",
       "      <td>NaN</td>\n",
       "      <td>NaN</td>\n",
       "      <td>...</td>\n",
       "      <td>NaN</td>\n",
       "      <td>NaN</td>\n",
       "      <td>NaN</td>\n",
       "      <td>NaN</td>\n",
       "      <td>NaN</td>\n",
       "      <td>NaN</td>\n",
       "      <td>NaN</td>\n",
       "      <td>NaN</td>\n",
       "      <td>NaN</td>\n",
       "      <td>30.0</td>\n",
       "    </tr>\n",
       "    <tr>\n",
       "      <th>220924</th>\n",
       "      <td>1.664176e+09</td>\n",
       "      <td>1.664176e+09</td>\n",
       "      <td>15.0</td>\n",
       "      <td>0.0</td>\n",
       "      <td>4319.487305</td>\n",
       "      <td>4298.077148</td>\n",
       "      <td>4320.897461</td>\n",
       "      <td>4308.461426</td>\n",
       "      <td>4265.256348</td>\n",
       "      <td>4287.948730</td>\n",
       "      <td>...</td>\n",
       "      <td>NaN</td>\n",
       "      <td>NaN</td>\n",
       "      <td>NaN</td>\n",
       "      <td>NaN</td>\n",
       "      <td>NaN</td>\n",
       "      <td>NaN</td>\n",
       "      <td>NaN</td>\n",
       "      <td>NaN</td>\n",
       "      <td>0.0</td>\n",
       "      <td>27.0</td>\n",
       "    </tr>\n",
       "    <tr>\n",
       "      <th>347043</th>\n",
       "      <td>NaN</td>\n",
       "      <td>NaN</td>\n",
       "      <td>NaN</td>\n",
       "      <td>NaN</td>\n",
       "      <td>NaN</td>\n",
       "      <td>NaN</td>\n",
       "      <td>NaN</td>\n",
       "      <td>NaN</td>\n",
       "      <td>NaN</td>\n",
       "      <td>NaN</td>\n",
       "      <td>...</td>\n",
       "      <td>NaN</td>\n",
       "      <td>NaN</td>\n",
       "      <td>NaN</td>\n",
       "      <td>NaN</td>\n",
       "      <td>NaN</td>\n",
       "      <td>NaN</td>\n",
       "      <td>NaN</td>\n",
       "      <td>NaN</td>\n",
       "      <td>NaN</td>\n",
       "      <td>30.0</td>\n",
       "    </tr>\n",
       "  </tbody>\n",
       "</table>\n",
       "<p>5 rows × 181 columns</p>\n",
       "</div>"
      ],
      "text/plain": [
       "           Timestamp  OriginalTimestamp  EEG.Counter  EEG.Interpolated  \\\n",
       "239040  1.664181e+09       1.664181e+09         24.0               0.0   \n",
       "498045           NaN                NaN          NaN               NaN   \n",
       "456536           NaN                NaN          NaN               NaN   \n",
       "220924  1.664176e+09       1.664176e+09         15.0               0.0   \n",
       "347043           NaN                NaN          NaN               NaN   \n",
       "\n",
       "            EEG.AF3       EEG.F7       EEG.F3      EEG.FC5       EEG.T7  \\\n",
       "239040  4127.820313  4053.205078  4124.230957  4085.512939  4117.820313   \n",
       "498045          NaN          NaN          NaN          NaN          NaN   \n",
       "456536          NaN          NaN          NaN          NaN          NaN   \n",
       "220924  4319.487305  4298.077148  4320.897461  4308.461426  4265.256348   \n",
       "347043          NaN          NaN          NaN          NaN          NaN   \n",
       "\n",
       "             EEG.P7  ...  POW.F8.BetaL  POW.F8.BetaH  POW.F8.Gamma  \\\n",
       "239040  4143.077148  ...           NaN           NaN           NaN   \n",
       "498045          NaN  ...           NaN           NaN           NaN   \n",
       "456536          NaN  ...           NaN           NaN           NaN   \n",
       "220924  4287.948730  ...           NaN           NaN           NaN   \n",
       "347043          NaN  ...           NaN           NaN           NaN   \n",
       "\n",
       "        POW.AF4.Theta  POW.AF4.Alpha  POW.AF4.BetaL  POW.AF4.BetaH  \\\n",
       "239040            NaN            NaN            NaN            NaN   \n",
       "498045            NaN            NaN            NaN            NaN   \n",
       "456536            NaN            NaN            NaN            NaN   \n",
       "220924            NaN            NaN            NaN            NaN   \n",
       "347043            NaN            NaN            NaN            NaN   \n",
       "\n",
       "        POW.AF4.Gamma  Target  Song  \n",
       "239040            NaN     0.0  18.0  \n",
       "498045            NaN     NaN  30.0  \n",
       "456536            NaN     NaN  30.0  \n",
       "220924            NaN     0.0  27.0  \n",
       "347043            NaN     NaN  30.0  \n",
       "\n",
       "[5 rows x 181 columns]"
      ]
     },
     "execution_count": 6,
     "metadata": {},
     "output_type": "execute_result"
    }
   ],
   "source": [
    "df.sample(5)"
   ]
  },
  {
   "cell_type": "markdown",
   "id": "5aad03b7",
   "metadata": {},
   "source": [
    "### Section 1.3: Retrieval of Required Columns for our Combination in later Sections."
   ]
  },
  {
   "cell_type": "markdown",
   "id": "3597ab7c",
   "metadata": {},
   "source": [
    "#### Filtering out Performance Metrics Scaled Columns "
   ]
  },
  {
   "cell_type": "code",
   "execution_count": 7,
   "id": "01d0575c",
   "metadata": {},
   "outputs": [],
   "source": [
    "scaled = [i for i in df if i.endswith('Scaled')]\n",
    "scaled_yuxiang = [i for i in df4 if i.endswith('Scaled')]\n",
    "scaled_luqman = [i for i in df5 if i.endswith('Scaled')]\n",
    "scaled_jiepeng = [i for i in df6 if i.endswith('Scaled')]\n",
    "# One for luqman here\n",
    "\n",
    "pm_df = df[scaled]\n",
    "pm_df_yuxiang_6 = df4[scaled_yuxiang]\n",
    "pm_df_luqman_6 = df5[scaled_luqman]\n",
    "pm_df_jiepeng_6 = df6[scaled_jiepeng]"
   ]
  },
  {
   "cell_type": "markdown",
   "id": "365a716c",
   "metadata": {},
   "source": [
    "#### Filtering out Beta Waves, because Beta is the brain wave most linked Active Concentration, movement decision. "
   ]
  },
  {
   "cell_type": "code",
   "execution_count": 8,
   "id": "abdab240",
   "metadata": {},
   "outputs": [],
   "source": [
    "betaL = [i for i in df if i.endswith('BetaL')]\n",
    "betaH = [i for i in df if i.endswith('BetaH')]\n",
    "\n",
    "betaL_yuxiang_6= [i for i in df4 if i.endswith('BetaL')]\n",
    "betaH_yuxiang_6= [i for i in df4 if i.endswith('BetaH')]\n",
    "\n",
    "betaL_luqman_6= [i for i in df5 if i.endswith('BetaL')]\n",
    "betaH_luqman_6= [i for i in df5 if i.endswith('BetaH')]\n",
    "\n",
    "betaL_jiepeng_6 = [i for i in df6 if i.endswith('BetaL')]\n",
    "betaH_jiepeng_6 = [i for i in df6 if i.endswith('BetaH')]\n",
    "\n",
    "beta_df = df[betaL+betaH]\n",
    "beta_yuxiang_6_df = df4[betaL_yuxiang_6+betaH_yuxiang_6]\n",
    "beta_luqman_6_df = df5[betaL_luqman_6+betaH_luqman_6]\n",
    "beta_jiepeng_6_df = df6[betaL_jiepeng_6+betaH_jiepeng_6]"
   ]
  },
  {
   "cell_type": "markdown",
   "id": "cd806089",
   "metadata": {},
   "source": [
    "#### Filtering out All Brain Waves (Theta, Alpha, Gamma,, because Beta is the brain wave most linked Active Concentration, movement decision. "
   ]
  },
  {
   "cell_type": "code",
   "execution_count": 9,
   "id": "2654ff93",
   "metadata": {},
   "outputs": [],
   "source": [
    "# Retrieve Other Brain Waves Data\n",
    "\n",
    "other_brain_waves = [i for i in df if i.startswith(\"POW\")]\n",
    "other_brain_waves_yuxiang_6 = [i for i in df4 if i.startswith(\"POW\")]\n",
    "other_brain_waves_luqman_6 =  [i for i in df5 if i.startswith(\"POW\")]\n",
    "other_brain_waves_jiepeng_6 = [i for i in df6 if i.startswith(\"POW\")]\n",
    "\n",
    "other_brain_df = df[other_brain_waves]\n",
    "other_brain_yuxiang_6_df = df4[other_brain_waves_yuxiang_6]\n",
    "other_brain_luqman_6_df = df5[other_brain_waves_luqman_6]\n",
    "other_brain_jiepeng_6_df = df6[other_brain_waves_jiepeng_6]"
   ]
  },
  {
   "cell_type": "markdown",
   "id": "b0e2619b",
   "metadata": {},
   "source": [
    "##### Filtering out the important values of the Dataset \n",
    "* add_Df_(Name) will contain TimeStamp,OriginalTimestamp, EQ.OVERALL.New,Target,Song."
   ]
  },
  {
   "cell_type": "code",
   "execution_count": 10,
   "id": "f51009ed",
   "metadata": {},
   "outputs": [],
   "source": [
    "add_df = df[['Timestamp','OriginalTimestamp','EQ.OVERALL.New','Target',\"Song\"]]\n",
    "\n",
    "add_df_yuxiang_6_df = df4[['Timestamp','OriginalTimestamp','EQ.OVERALL.New','Target',\"Song\"]]\n",
    "add_df_luqman_6_df = df5[['Timestamp','OriginalTimestamp','EQ.OVERALL.New','Target',\"Song\"]]\n",
    "add_df_jiepeng_6_df = df6[['Timestamp','OriginalTimestamp','EQ.OVERALL.New','Target',\"Song\"]]"
   ]
  },
  {
   "cell_type": "markdown",
   "id": "784511e5",
   "metadata": {},
   "source": [
    "### Section 1.3: Classification Function \n",
    "* This function includes: 1. Logistic Regression, 2. Random Forest, 3. Support Vector Machine 4. K-Nearest Neighbours, 5. Decision Tree Classifier, 6. Gaussian NB, 7. AdaBoost, 8. Gradient Boost, 9. Bagging Classifier, 10. Extreme Gradient Boost, 11. Extra tree Classifier \n"
   ]
  },
  {
   "cell_type": "code",
   "execution_count": 11,
   "id": "402126ae",
   "metadata": {},
   "outputs": [],
   "source": [
    "models = []\n",
    "models.append(('Logistic Regression', LogisticRegression()))\n",
    "models.append(('Random Forest', RandomForestClassifier()))\n",
    "models.append(('SVM', SVC(probability=True)))\n",
    "models.append(('KNN', KNeighborsClassifier()))\n",
    "models.append(('Decision Tree Classifier',DecisionTreeClassifier()))\n",
    "models.append(('Gaussian NB', GaussianNB()))\n",
    "models.append(('Adaboost', AdaBoostClassifier()))\n",
    "models.append((\"Gradientboost\", GradientBoostingClassifier()))\n",
    "models.append((\"BaggingClassifier\", BaggingClassifier()))\n",
    "models.append((\"ExtremeGradientBoost\", XGBClassifier()))\n",
    "models.append((\"ExtraTreesClassifier\", ExtraTreesClassifier()))\n",
    "col = ['Algorithm','Train Accuracy Mean', 'Test Accuracy','Test F1 score']\n",
    "\n",
    "def runmodels(models, X_Train, y_Train, X_Test, y_Test):\n",
    "    index = []\n",
    "    accuracy_list = []\n",
    "    f1_list = []\n",
    "    \n",
    "    for name, model in models:\n",
    "        model.fit(X_Train,y_Train)\n",
    "        y_pred = model.predict(X_Test)\n",
    "        \n",
    "        # Find the accuracy, F1 Scores\n",
    "        accuracy_score_append = accuracy_score(y_Test,y_pred)\n",
    "        f1_score_append = f1_score(y_Test,y_pred)\n",
    "        \n",
    "        index.append(name)\n",
    "        accuracy_list.append(accuracy_score_append)\n",
    "        f1_list.append(f1_score_append)\n",
    "    \n",
    "    meta_data = {\"Accuracy Score\": accuracy_list, \"F1 Score\": f1_list}\n",
    "    data_table = pd.DataFrame(meta_data, index = index)\n",
    "#     print(data_table)\n",
    "    \n",
    "    return data_table.sort_values(by=['F1 Score'],ascending=False)\n",
    "        "
   ]
  },
  {
   "cell_type": "markdown",
   "id": "ab8ff804",
   "metadata": {},
   "source": [
    "## Section 2.0 Combination 1 \n",
    "* In this section, we will be Training on songs from YuXiang (30 Songs), and testing on YuXiang's (6 Songs)"
   ]
  },
  {
   "cell_type": "markdown",
   "id": "9d4f1457",
   "metadata": {},
   "source": [
    "### Section 2.1 Preparation of Dataset for Performance Metrics, Beta Waves and All Brain Waves\n"
   ]
  },
  {
   "cell_type": "code",
   "execution_count": 12,
   "id": "c81cfece",
   "metadata": {},
   "outputs": [],
   "source": [
    "# Performance Metrics ####################################################################################\n",
    "training_yuxiang_30_songs_PM = pd.concat([pm_df,add_df],axis=1)\n",
    "testing_yuxiang_6_songs_PM = pd.concat([pm_df_yuxiang_6,add_df_yuxiang_6_df],axis=1)\n",
    "\n",
    "\n",
    "# Beta Waves #############################################################################################\n",
    "training_yuxiang_30_songs_beta = pd.concat([beta_df,add_df],axis =1)\n",
    "testing_yuxiang_6_songs_beta = pd.concat([beta_yuxiang_6_df,add_df_yuxiang_6_df], axis=1)\n",
    "\n",
    "# All Brain Waves  ########################################################################################\n",
    "training_yuxiang_30_songs_all_waves = pd.concat([other_brain_df,add_df],axis =1)\n",
    "testing_yuxiang_6_songs_all_waves = pd.concat([other_brain_yuxiang_6_df,add_df_yuxiang_6_df],axis =1)\n"
   ]
  },
  {
   "cell_type": "markdown",
   "id": "95657e3f",
   "metadata": {},
   "source": [
    "#### Section 2.2 Cleaning of Dataset for Performance Metrics "
   ]
  },
  {
   "cell_type": "code",
   "execution_count": 13,
   "id": "b881cc28",
   "metadata": {},
   "outputs": [
    {
     "data": {
      "text/plain": [
       "(5883, 11)"
      ]
     },
     "execution_count": 13,
     "metadata": {},
     "output_type": "execute_result"
    }
   ],
   "source": [
    "# Ensure that Yuxiang's Dataset drop all the NaN values\n",
    "training_yuxiang_30_songs_PM.dropna(how=\"any\", axis=0, inplace=True)\n",
    "training_yuxiang_30_songs_PM = training_yuxiang_30_songs_PM.drop(training_yuxiang_30_songs_PM[training_yuxiang_30_songs_PM[\"EQ.OVERALL.New\"] < 90].index)\n",
    "training_yuxiang_30_songs_PM.shape\n"
   ]
  },
  {
   "cell_type": "code",
   "execution_count": 14,
   "id": "52311f60",
   "metadata": {},
   "outputs": [
    {
     "data": {
      "text/plain": [
       "(141, 11)"
      ]
     },
     "execution_count": 14,
     "metadata": {},
     "output_type": "execute_result"
    }
   ],
   "source": [
    "# Ensure that Yuxiang's Dataset drop all the NaN values\n",
    "testing_yuxiang_6_songs_PM.dropna(how=\"any\", axis=0, inplace=True)\n",
    "testing_yuxiang_6_songs_PM = testing_yuxiang_6_songs_PM.drop(testing_yuxiang_6_songs_PM[testing_yuxiang_6_songs_PM[\"EQ.OVERALL.New\"] < 90].index)\n",
    "testing_yuxiang_6_songs_PM.shape\n"
   ]
  },
  {
   "cell_type": "markdown",
   "id": "364d24ac",
   "metadata": {},
   "source": [
    "#### As we can see from this diagram, there are about 5883 (Training) and 141 (Testing), so will proceed with 80% and 20% train test split by removing datarows of Testing by Songs. Roughly about 20% Test"
   ]
  },
  {
   "cell_type": "code",
   "execution_count": 15,
   "id": "1a64bcdb",
   "metadata": {},
   "outputs": [
    {
     "data": {
      "text/plain": [
       "(883, 11)"
      ]
     },
     "execution_count": 15,
     "metadata": {},
     "output_type": "execute_result"
    }
   ],
   "source": [
    "# We will pass songs to testing data \n",
    "training_yuxiang_30_songs_PM['Song'].value_counts()\n",
    "\n",
    "testing_yuxiang_6_songs_PM = pd.concat([testing_yuxiang_6_songs_PM,training_yuxiang_30_songs_PM[training_yuxiang_30_songs_PM['Song'] == 22]])\n",
    "training_yuxiang_30_songs_PM = training_yuxiang_30_songs_PM.drop(training_yuxiang_30_songs_PM[training_yuxiang_30_songs_PM['Song']==22].index)\n",
    "\n",
    "testing_yuxiang_6_songs_PM = pd.concat([testing_yuxiang_6_songs_PM,training_yuxiang_30_songs_PM[training_yuxiang_30_songs_PM['Song'] == 19]])\n",
    "training_yuxiang_30_songs_PM = training_yuxiang_30_songs_PM.drop(training_yuxiang_30_songs_PM[training_yuxiang_30_songs_PM['Song']==19].index)\n",
    "\n",
    "testing_yuxiang_6_songs_PM = pd.concat([testing_yuxiang_6_songs_PM,training_yuxiang_30_songs_PM[training_yuxiang_30_songs_PM['Song'] == 15]])\n",
    "training_yuxiang_30_songs_PM = training_yuxiang_30_songs_PM.drop(training_yuxiang_30_songs_PM[training_yuxiang_30_songs_PM['Song']==15].index)\n",
    "\n",
    "\n",
    "training_yuxiang_30_songs_PM.shape\n",
    "testing_yuxiang_6_songs_PM.shape\n"
   ]
  },
  {
   "cell_type": "markdown",
   "id": "381cdb83",
   "metadata": {},
   "source": [
    "### Section 2.3 Preparation of Training Model "
   ]
  },
  {
   "cell_type": "code",
   "execution_count": 16,
   "id": "a1a3b074",
   "metadata": {},
   "outputs": [
    {
     "data": {
      "text/html": [
       "<div>\n",
       "<style scoped>\n",
       "    .dataframe tbody tr th:only-of-type {\n",
       "        vertical-align: middle;\n",
       "    }\n",
       "\n",
       "    .dataframe tbody tr th {\n",
       "        vertical-align: top;\n",
       "    }\n",
       "\n",
       "    .dataframe thead th {\n",
       "        text-align: right;\n",
       "    }\n",
       "</style>\n",
       "<table border=\"1\" class=\"dataframe\">\n",
       "  <thead>\n",
       "    <tr style=\"text-align: right;\">\n",
       "      <th></th>\n",
       "      <th>Accuracy Score</th>\n",
       "      <th>F1 Score</th>\n",
       "    </tr>\n",
       "  </thead>\n",
       "  <tbody>\n",
       "    <tr>\n",
       "      <th>Gaussian NB</th>\n",
       "      <td>0.559456</td>\n",
       "      <td>0.460472</td>\n",
       "    </tr>\n",
       "    <tr>\n",
       "      <th>KNN</th>\n",
       "      <td>0.522084</td>\n",
       "      <td>0.407303</td>\n",
       "    </tr>\n",
       "    <tr>\n",
       "      <th>Decision Tree Classifier</th>\n",
       "      <td>0.468856</td>\n",
       "      <td>0.356653</td>\n",
       "    </tr>\n",
       "    <tr>\n",
       "      <th>ExtremeGradientBoost</th>\n",
       "      <td>0.515289</td>\n",
       "      <td>0.347561</td>\n",
       "    </tr>\n",
       "    <tr>\n",
       "      <th>Adaboost</th>\n",
       "      <td>0.499434</td>\n",
       "      <td>0.338323</td>\n",
       "    </tr>\n",
       "    <tr>\n",
       "      <th>Random Forest</th>\n",
       "      <td>0.506229</td>\n",
       "      <td>0.278146</td>\n",
       "    </tr>\n",
       "    <tr>\n",
       "      <th>ExtraTreesClassifier</th>\n",
       "      <td>0.505096</td>\n",
       "      <td>0.265546</td>\n",
       "    </tr>\n",
       "    <tr>\n",
       "      <th>BaggingClassifier</th>\n",
       "      <td>0.467724</td>\n",
       "      <td>0.234528</td>\n",
       "    </tr>\n",
       "    <tr>\n",
       "      <th>Gradientboost</th>\n",
       "      <td>0.510759</td>\n",
       "      <td>0.231317</td>\n",
       "    </tr>\n",
       "    <tr>\n",
       "      <th>Logistic Regression</th>\n",
       "      <td>0.516421</td>\n",
       "      <td>0.000000</td>\n",
       "    </tr>\n",
       "    <tr>\n",
       "      <th>SVM</th>\n",
       "      <td>0.516421</td>\n",
       "      <td>0.000000</td>\n",
       "    </tr>\n",
       "  </tbody>\n",
       "</table>\n",
       "</div>"
      ],
      "text/plain": [
       "                          Accuracy Score  F1 Score\n",
       "Gaussian NB                     0.559456  0.460472\n",
       "KNN                             0.522084  0.407303\n",
       "Decision Tree Classifier        0.468856  0.356653\n",
       "ExtremeGradientBoost            0.515289  0.347561\n",
       "Adaboost                        0.499434  0.338323\n",
       "Random Forest                   0.506229  0.278146\n",
       "ExtraTreesClassifier            0.505096  0.265546\n",
       "BaggingClassifier               0.467724  0.234528\n",
       "Gradientboost                   0.510759  0.231317\n",
       "Logistic Regression             0.516421  0.000000\n",
       "SVM                             0.516421  0.000000"
      ]
     },
     "execution_count": 16,
     "metadata": {},
     "output_type": "execute_result"
    }
   ],
   "source": [
    "X_Training_PM_combi1 = training_yuxiang_30_songs_PM.drop(columns=['Timestamp','OriginalTimestamp','Target','EQ.OVERALL.New','Song'])\n",
    "X_Test_PM_combi1 = testing_yuxiang_6_songs_PM.drop(columns=['Timestamp','OriginalTimestamp','Target','EQ.OVERALL.New','Song'])\n",
    "Y_Training_PM_combi1 = training_yuxiang_30_songs_PM['Target']\n",
    "Y_Testing_PM_combi1 = testing_yuxiang_6_songs_PM['Target']\n",
    "\n",
    "\n",
    "\n",
    "runmodels(models,X_Training_PM_combi1,Y_Training_PM_combi1,X_Test_PM_combi1,Y_Testing_PM_combi1)\n"
   ]
  },
  {
   "cell_type": "markdown",
   "id": "ddf44da1",
   "metadata": {},
   "source": [
    "### Section 2.4 Cleaning of Beta Training Model "
   ]
  },
  {
   "cell_type": "code",
   "execution_count": 17,
   "id": "96845236",
   "metadata": {},
   "outputs": [
    {
     "data": {
      "text/plain": [
       "(23513, 33)"
      ]
     },
     "execution_count": 17,
     "metadata": {},
     "output_type": "execute_result"
    }
   ],
   "source": [
    "# Ensure that Yuxiang's Dataset drop all the NaN values\n",
    "training_yuxiang_30_songs_beta.dropna(how=\"any\", axis=0, inplace=True)\n",
    "training_yuxiang_30_songs_beta = training_yuxiang_30_songs_beta.drop(training_yuxiang_30_songs_beta[training_yuxiang_30_songs_beta[\"EQ.OVERALL.New\"] < 90].index)\n",
    "training_yuxiang_30_songs_beta.shape\n"
   ]
  },
  {
   "cell_type": "code",
   "execution_count": 18,
   "id": "b02ea7e6",
   "metadata": {},
   "outputs": [
    {
     "data": {
      "text/plain": [
       "(564, 33)"
      ]
     },
     "execution_count": 18,
     "metadata": {},
     "output_type": "execute_result"
    }
   ],
   "source": [
    "# Ensure that Yuxiang's Dataset drop all the NaN values\n",
    "testing_yuxiang_6_songs_beta.dropna(how=\"any\", axis=0, inplace=True)\n",
    "testing_yuxiang_6_songs_beta = testing_yuxiang_6_songs_beta.drop(testing_yuxiang_6_songs_beta[testing_yuxiang_6_songs_beta[\"EQ.OVERALL.New\"] < 90].index)\n",
    "testing_yuxiang_6_songs_beta.shape\n"
   ]
  },
  {
   "cell_type": "code",
   "execution_count": 19,
   "id": "303bc3fb",
   "metadata": {},
   "outputs": [
    {
     "name": "stdout",
     "output_type": "stream",
     "text": [
      "Training Set(YuXiang 30 Songs) \t: (23513, 33)\n",
      "Testing Set(YuXiang 6 Songs) \t: (564, 33)\n"
     ]
    }
   ],
   "source": [
    "print(\"Training Set(YuXiang 30 Songs) \\t:\", training_yuxiang_30_songs_beta.shape)\n",
    "print(\"Testing Set(YuXiang 6 Songs) \\t:\", testing_yuxiang_6_songs_beta.shape)"
   ]
  },
  {
   "cell_type": "markdown",
   "id": "80fdd602",
   "metadata": {},
   "source": [
    "#### As we can see from this diagram, there are about 23513 (Training) and 564 (Testing), so will proceed with 80% and 20% train test split by removing datarows of Testing by Songs. Roughly about 20% Test"
   ]
  },
  {
   "cell_type": "code",
   "execution_count": 20,
   "id": "06c0e393",
   "metadata": {},
   "outputs": [
    {
     "name": "stdout",
     "output_type": "stream",
     "text": [
      "Training Set(YuXiang 30 Songs) \t: (20157, 33)\n",
      "Testing Set(YuXiang 6 Songs) \t: (3920, 33)\n"
     ]
    }
   ],
   "source": [
    "# We will pass songs to testing data \n",
    "# 22,27,10\n",
    "training_yuxiang_30_songs_beta['Song'].value_counts()\n",
    "\n",
    "testing_yuxiang_6_songs_beta = pd.concat([testing_yuxiang_6_songs_beta,training_yuxiang_30_songs_beta[training_yuxiang_30_songs_beta['Song'] == 22]])\n",
    "training_yuxiang_30_songs_beta = training_yuxiang_30_songs_beta.drop(training_yuxiang_30_songs_beta[training_yuxiang_30_songs_beta['Song']==22].index)\n",
    "\n",
    "testing_yuxiang_6_songs_beta = pd.concat([testing_yuxiang_6_songs_beta,training_yuxiang_30_songs_beta[training_yuxiang_30_songs_beta['Song'] == 27]])\n",
    "training_yuxiang_30_songs_beta = training_yuxiang_30_songs_beta.drop(training_yuxiang_30_songs_beta[training_yuxiang_30_songs_beta['Song']== 27].index)\n",
    "\n",
    "testing_yuxiang_6_songs_beta = pd.concat([testing_yuxiang_6_songs_beta,training_yuxiang_30_songs_beta[training_yuxiang_30_songs_beta['Song'] == 10]])\n",
    "training_yuxiang_30_songs_beta = training_yuxiang_30_songs_beta.drop(training_yuxiang_30_songs_beta[training_yuxiang_30_songs_beta['Song']==10].index)\n",
    "\n",
    "# testing_yuxiang_6_songs_beta = pd.concat([testing_yuxiang_6_songs_beta,training_yuxiang_30_songs_beta[training_yuxiang_30_songs_beta['Song'] == 23]])\n",
    "# training_yuxiang_30_songs_beta = training_yuxiang_30_songs_beta.drop(training_yuxiang_30_songs_beta[training_yuxiang_30_songs_beta['Song']==23].index)\n",
    "\n",
    "\n",
    "print(\"Training Set(YuXiang 30 Songs) \\t:\", training_yuxiang_30_songs_beta.shape)\n",
    "print(\"Testing Set(YuXiang 6 Songs) \\t:\", testing_yuxiang_6_songs_beta.shape)\n"
   ]
  },
  {
   "cell_type": "markdown",
   "id": "9619756e",
   "metadata": {},
   "source": [
    "### Section 2.5 Preparation of Training Model \n"
   ]
  },
  {
   "cell_type": "code",
   "execution_count": 21,
   "id": "2468e76c",
   "metadata": {},
   "outputs": [],
   "source": [
    "# Converting them back to Train and Test Model Split \n",
    "training_dataframe_x_beta_combi1 = training_yuxiang_30_songs_beta.drop(columns=['Timestamp','OriginalTimestamp','Target','EQ.OVERALL.New','Song'])\n",
    "training_dataframe_y_beta_combi1 = training_yuxiang_30_songs_beta['Target']\n",
    "testing_dataframe_x_beta_combi1 = testing_yuxiang_6_songs_beta.drop(columns=['Timestamp','OriginalTimestamp','Target','EQ.OVERALL.New','Song'])\n",
    "testing_dataframe_y_beta_combi1 = testing_yuxiang_6_songs_beta['Target']\n"
   ]
  },
  {
   "cell_type": "code",
   "execution_count": 22,
   "id": "beb0f005",
   "metadata": {},
   "outputs": [],
   "source": [
    "all_x_beta_combi1 = pd.concat([training_dataframe_x_beta_combi1,testing_dataframe_x_beta_combi1])\n"
   ]
  },
  {
   "cell_type": "markdown",
   "id": "41c7cd61",
   "metadata": {},
   "source": [
    "### Section 2.6 Dimensionality-reduction method Training Models (PCA-Beta Waves)\n"
   ]
  },
  {
   "cell_type": "code",
   "execution_count": 23,
   "id": "52a0f984",
   "metadata": {},
   "outputs": [],
   "source": [
    "pca_combi1_beta = PCA(n_components=0.95)\n",
    "pca_components_combi1 = pca_combi1_beta.fit_transform(all_x_beta_combi1)"
   ]
  },
  {
   "cell_type": "code",
   "execution_count": 24,
   "id": "293f573c",
   "metadata": {},
   "outputs": [
    {
     "data": {
      "text/plain": [
       "13"
      ]
     },
     "execution_count": 24,
     "metadata": {},
     "output_type": "execute_result"
    }
   ],
   "source": [
    "len(pca_combi1_beta.components_)"
   ]
  },
  {
   "cell_type": "code",
   "execution_count": 25,
   "id": "b7813498",
   "metadata": {},
   "outputs": [
    {
     "data": {
      "image/png": "[encoded data removed]",
      "text/plain": [
       "<Figure size 640x480 with 1 Axes>"
      ]
     },
     "metadata": {},
     "output_type": "display_data"
    }
   ],
   "source": [
    "# Explained variance\n",
    "explained_variance = pca_combi1_beta.explained_variance_ratio_\n",
    "plt.plot(explained_variance)\n",
    "plt.show()"
   ]
  },
  {
   "cell_type": "code",
   "execution_count": 26,
   "id": "c14c6392",
   "metadata": {},
   "outputs": [],
   "source": [
    "# The 14 components of PCA \n",
    "column_list = []\n",
    "for i in range(13):\n",
    "    col_name = \"PC\" + str(i+1)\n",
    "    column_list.append(col_name)\n",
    "    \n",
    "pca_beta_df_combi1 = pd.DataFrame(pca_components_combi1, columns=column_list)"
   ]
  },
  {
   "cell_type": "code",
   "execution_count": 27,
   "id": "cbe9818f",
   "metadata": {},
   "outputs": [],
   "source": [
    "training_dataframe_x_beta_combi1 = pca_beta_df_combi1.drop(pca_beta_df_combi1.tail(3920).index)\n",
    "training_dataframe_y_beta_combi1 = training_yuxiang_30_songs_beta['Target']\n",
    "testing_dataframe_x_beta_combi1 = pca_beta_df_combi1.tail(3920)\n",
    "testing_dataframe_y_beta_combi1 = testing_yuxiang_6_songs_beta['Target']"
   ]
  },
  {
   "cell_type": "code",
   "execution_count": 28,
   "id": "cb0c366f",
   "metadata": {},
   "outputs": [
    {
     "data": {
      "text/html": [
       "<div>\n",
       "<style scoped>\n",
       "    .dataframe tbody tr th:only-of-type {\n",
       "        vertical-align: middle;\n",
       "    }\n",
       "\n",
       "    .dataframe tbody tr th {\n",
       "        vertical-align: top;\n",
       "    }\n",
       "\n",
       "    .dataframe thead th {\n",
       "        text-align: right;\n",
       "    }\n",
       "</style>\n",
       "<table border=\"1\" class=\"dataframe\">\n",
       "  <thead>\n",
       "    <tr style=\"text-align: right;\">\n",
       "      <th></th>\n",
       "      <th>Accuracy Score</th>\n",
       "      <th>F1 Score</th>\n",
       "    </tr>\n",
       "  </thead>\n",
       "  <tbody>\n",
       "    <tr>\n",
       "      <th>Decision Tree Classifier</th>\n",
       "      <td>0.507143</td>\n",
       "      <td>0.378778</td>\n",
       "    </tr>\n",
       "    <tr>\n",
       "      <th>KNN</th>\n",
       "      <td>0.522704</td>\n",
       "      <td>0.355494</td>\n",
       "    </tr>\n",
       "    <tr>\n",
       "      <th>ExtremeGradientBoost</th>\n",
       "      <td>0.548980</td>\n",
       "      <td>0.298969</td>\n",
       "    </tr>\n",
       "    <tr>\n",
       "      <th>BaggingClassifier</th>\n",
       "      <td>0.530357</td>\n",
       "      <td>0.202685</td>\n",
       "    </tr>\n",
       "    <tr>\n",
       "      <th>Random Forest</th>\n",
       "      <td>0.552296</td>\n",
       "      <td>0.147644</td>\n",
       "    </tr>\n",
       "    <tr>\n",
       "      <th>Adaboost</th>\n",
       "      <td>0.550510</td>\n",
       "      <td>0.142162</td>\n",
       "    </tr>\n",
       "    <tr>\n",
       "      <th>ExtraTreesClassifier</th>\n",
       "      <td>0.555102</td>\n",
       "      <td>0.120968</td>\n",
       "    </tr>\n",
       "    <tr>\n",
       "      <th>SVM</th>\n",
       "      <td>0.558673</td>\n",
       "      <td>0.098958</td>\n",
       "    </tr>\n",
       "    <tr>\n",
       "      <th>Gradientboost</th>\n",
       "      <td>0.553061</td>\n",
       "      <td>0.068085</td>\n",
       "    </tr>\n",
       "    <tr>\n",
       "      <th>Gaussian NB</th>\n",
       "      <td>0.553316</td>\n",
       "      <td>0.044735</td>\n",
       "    </tr>\n",
       "    <tr>\n",
       "      <th>Logistic Regression</th>\n",
       "      <td>0.554337</td>\n",
       "      <td>0.026741</td>\n",
       "    </tr>\n",
       "  </tbody>\n",
       "</table>\n",
       "</div>"
      ],
      "text/plain": [
       "                          Accuracy Score  F1 Score\n",
       "Decision Tree Classifier        0.507143  0.378778\n",
       "KNN                             0.522704  0.355494\n",
       "ExtremeGradientBoost            0.548980  0.298969\n",
       "BaggingClassifier               0.530357  0.202685\n",
       "Random Forest                   0.552296  0.147644\n",
       "Adaboost                        0.550510  0.142162\n",
       "ExtraTreesClassifier            0.555102  0.120968\n",
       "SVM                             0.558673  0.098958\n",
       "Gradientboost                   0.553061  0.068085\n",
       "Gaussian NB                     0.553316  0.044735\n",
       "Logistic Regression             0.554337  0.026741"
      ]
     },
     "execution_count": 28,
     "metadata": {},
     "output_type": "execute_result"
    }
   ],
   "source": [
    "runmodels(models,training_dataframe_x_beta_combi1,training_dataframe_y_beta_combi1,testing_dataframe_x_beta_combi1,testing_dataframe_y_beta_combi1)\n",
    "\n"
   ]
  },
  {
   "cell_type": "markdown",
   "id": "6f8174bc",
   "metadata": {},
   "source": [
    "### Section 2.7 Preparation of Dataset for All Brain Waves "
   ]
  },
  {
   "cell_type": "code",
   "execution_count": 29,
   "id": "e7faba12",
   "metadata": {},
   "outputs": [
    {
     "data": {
      "text/plain": [
       "(23513, 75)"
      ]
     },
     "execution_count": 29,
     "metadata": {},
     "output_type": "execute_result"
    }
   ],
   "source": [
    "# training_yuxiang_30_songs_all_waves = pd.concat([other_brain_df,add_df],axis =1)\n",
    "# testing_yuxiang_6_songs_all_waves = pd.concat([other_brain_yuxiang_6_df,add_df_yuxiang_6_df],axis =1)\n",
    "\n",
    "# Ensure that Yuxiang's Dataset drop all the NaN values\n",
    "training_yuxiang_30_songs_all_waves.dropna(how=\"any\", axis=0, inplace=True)\n",
    "training_yuxiang_30_songs_all_waves = training_yuxiang_30_songs_all_waves.drop(training_yuxiang_30_songs_all_waves[training_yuxiang_30_songs_all_waves[\"EQ.OVERALL.New\"] < 90].index)\n",
    "training_yuxiang_30_songs_all_waves.shape\n"
   ]
  },
  {
   "cell_type": "code",
   "execution_count": 30,
   "id": "d8a325c2",
   "metadata": {},
   "outputs": [
    {
     "data": {
      "text/plain": [
       "(564, 75)"
      ]
     },
     "execution_count": 30,
     "metadata": {},
     "output_type": "execute_result"
    }
   ],
   "source": [
    "# Ensure that Yuxiang's Dataset drop all the NaN values\n",
    "testing_yuxiang_6_songs_all_waves.dropna(how=\"any\", axis=0, inplace=True)\n",
    "testing_yuxiang_6_songs_all_waves = testing_yuxiang_6_songs_all_waves.drop(testing_yuxiang_6_songs_all_waves[testing_yuxiang_6_songs_all_waves[\"EQ.OVERALL.New\"] < 90].index)\n",
    "testing_yuxiang_6_songs_all_waves.shape\n"
   ]
  },
  {
   "cell_type": "markdown",
   "id": "2b0e8a86",
   "metadata": {},
   "source": [
    "#### As we can see from this diagram, there are about 23513 (Training) and 564 (Testing), so will proceed with 80% and 20% train test split by removing datarows of Testing by Songs. Roughly about 20% Test"
   ]
  },
  {
   "cell_type": "code",
   "execution_count": 31,
   "id": "1c7f3f6d",
   "metadata": {},
   "outputs": [
    {
     "name": "stdout",
     "output_type": "stream",
     "text": [
      "Training Set(YuXiang 30 Songs) \t: (20157, 75)\n",
      "Testing Set(YuXiang 6 Songs) \t: (3920, 75)\n"
     ]
    }
   ],
   "source": [
    "# We will pass songs to testing data \n",
    "# 22,27,10\n",
    "\n",
    "testing_yuxiang_6_songs_all_waves = pd.concat([testing_yuxiang_6_songs_all_waves,training_yuxiang_30_songs_all_waves[training_yuxiang_30_songs_all_waves['Song'] == 22]])\n",
    "training_yuxiang_30_songs_all_waves = training_yuxiang_30_songs_all_waves.drop(training_yuxiang_30_songs_all_waves[training_yuxiang_30_songs_all_waves['Song']==22].index)\n",
    "\n",
    "testing_yuxiang_6_songs_all_waves = pd.concat([testing_yuxiang_6_songs_all_waves,training_yuxiang_30_songs_all_waves[training_yuxiang_30_songs_all_waves['Song'] == 27]])\n",
    "training_yuxiang_30_songs_all_waves = training_yuxiang_30_songs_all_waves.drop(training_yuxiang_30_songs_all_waves[training_yuxiang_30_songs_all_waves['Song']==27].index)\n",
    "\n",
    "testing_yuxiang_6_songs_all_waves = pd.concat([testing_yuxiang_6_songs_all_waves,training_yuxiang_30_songs_all_waves[training_yuxiang_30_songs_all_waves['Song'] == 10]])\n",
    "training_yuxiang_30_songs_all_waves = training_yuxiang_30_songs_all_waves.drop(training_yuxiang_30_songs_all_waves[training_yuxiang_30_songs_all_waves['Song']==10].index)\n",
    "\n",
    "print(\"Training Set(YuXiang 30 Songs) \\t:\", training_yuxiang_30_songs_all_waves.shape)\n",
    "print(\"Testing Set(YuXiang 6 Songs) \\t:\", testing_yuxiang_6_songs_all_waves.shape)\n"
   ]
  },
  {
   "cell_type": "code",
   "execution_count": 32,
   "id": "67254acb",
   "metadata": {},
   "outputs": [],
   "source": [
    "training_dataframe_x_allwaves_combi1 = training_yuxiang_30_songs_all_waves.drop(columns=['Timestamp','OriginalTimestamp','Target','EQ.OVERALL.New','Song'])\n",
    "training_dataframe_y_allwaves_combi1 = training_yuxiang_30_songs_all_waves['Target']\n",
    "testing_dataframe_x_allwaves_combi1 = testing_yuxiang_6_songs_all_waves.drop(columns=['Timestamp','OriginalTimestamp','Target','EQ.OVERALL.New','Song'])\n",
    "testing_dataframe_y_allwaves_combi1 = testing_yuxiang_6_songs_all_waves['Target']\n",
    "\n",
    "\n"
   ]
  },
  {
   "cell_type": "code",
   "execution_count": 33,
   "id": "4c1eb5bd",
   "metadata": {},
   "outputs": [],
   "source": [
    "all_x_allwaves_combi1 = pd.concat([training_dataframe_x_allwaves_combi1,testing_dataframe_x_allwaves_combi1])"
   ]
  },
  {
   "cell_type": "markdown",
   "id": "2258642d",
   "metadata": {},
   "source": [
    "### Section 2.8 Preparation of Training Model \n"
   ]
  },
  {
   "cell_type": "code",
   "execution_count": 34,
   "id": "107ff754",
   "metadata": {},
   "outputs": [],
   "source": [
    "pca_combi1_all_waves = PCA(n_components=0.95)\n",
    "pca_components_allwaves_combi1 = pca_combi1_all_waves.fit_transform(all_x_beta_combi1)"
   ]
  },
  {
   "cell_type": "code",
   "execution_count": 35,
   "id": "ad8864ec",
   "metadata": {},
   "outputs": [
    {
     "data": {
      "text/plain": [
       "13"
      ]
     },
     "execution_count": 35,
     "metadata": {},
     "output_type": "execute_result"
    }
   ],
   "source": [
    "len(pca_combi1_all_waves.components_)"
   ]
  },
  {
   "cell_type": "code",
   "execution_count": 36,
   "id": "3f89eba3",
   "metadata": {},
   "outputs": [
    {
     "data": {
      "image/png": "[encoded data removed]",
      "text/plain": [
       "<Figure size 640x480 with 1 Axes>"
      ]
     },
     "metadata": {},
     "output_type": "display_data"
    }
   ],
   "source": [
    "explained_variance = pca_combi1_all_waves.explained_variance_ratio_\n",
    "plt.plot(explained_variance)\n",
    "plt.show()"
   ]
  },
  {
   "cell_type": "code",
   "execution_count": 37,
   "id": "961aeabe",
   "metadata": {},
   "outputs": [],
   "source": [
    "# The 14 components of PCA \n",
    "column_list = []\n",
    "for i in range(13):\n",
    "    col_name = \"PC\" + str(i+1)\n",
    "    column_list.append(col_name)\n",
    "    \n",
    "pca_allwaves_df_combi1 = pd.DataFrame(pca_components_allwaves_combi1, columns=column_list)"
   ]
  },
  {
   "cell_type": "code",
   "execution_count": 38,
   "id": "d967cdd1",
   "metadata": {},
   "outputs": [],
   "source": [
    "training_dataframe_x_allwaves_combi1 = pca_allwaves_df_combi1.drop(pca_beta_df_combi1.tail(3920).index)\n",
    "training_dataframe_y_allwaves_combi1 = training_yuxiang_30_songs_all_waves['Target']\n",
    "testing_dataframe_x_allwaves_combi1 = pca_allwaves_df_combi1.tail(3920)\n",
    "testing_dataframe_y_allwaves_combi1 = testing_yuxiang_6_songs_all_waves['Target']"
   ]
  },
  {
   "cell_type": "code",
   "execution_count": 39,
   "id": "9b6e0005",
   "metadata": {},
   "outputs": [
    {
     "data": {
      "text/html": [
       "<div>\n",
       "<style scoped>\n",
       "    .dataframe tbody tr th:only-of-type {\n",
       "        vertical-align: middle;\n",
       "    }\n",
       "\n",
       "    .dataframe tbody tr th {\n",
       "        vertical-align: top;\n",
       "    }\n",
       "\n",
       "    .dataframe thead th {\n",
       "        text-align: right;\n",
       "    }\n",
       "</style>\n",
       "<table border=\"1\" class=\"dataframe\">\n",
       "  <thead>\n",
       "    <tr style=\"text-align: right;\">\n",
       "      <th></th>\n",
       "      <th>Accuracy Score</th>\n",
       "      <th>F1 Score</th>\n",
       "    </tr>\n",
       "  </thead>\n",
       "  <tbody>\n",
       "    <tr>\n",
       "      <th>Decision Tree Classifier</th>\n",
       "      <td>0.506122</td>\n",
       "      <td>0.381074</td>\n",
       "    </tr>\n",
       "    <tr>\n",
       "      <th>KNN</th>\n",
       "      <td>0.522704</td>\n",
       "      <td>0.355494</td>\n",
       "    </tr>\n",
       "    <tr>\n",
       "      <th>ExtremeGradientBoost</th>\n",
       "      <td>0.548980</td>\n",
       "      <td>0.298969</td>\n",
       "    </tr>\n",
       "    <tr>\n",
       "      <th>BaggingClassifier</th>\n",
       "      <td>0.537500</td>\n",
       "      <td>0.224882</td>\n",
       "    </tr>\n",
       "    <tr>\n",
       "      <th>Random Forest</th>\n",
       "      <td>0.557143</td>\n",
       "      <td>0.167785</td>\n",
       "    </tr>\n",
       "    <tr>\n",
       "      <th>Adaboost</th>\n",
       "      <td>0.550510</td>\n",
       "      <td>0.142162</td>\n",
       "    </tr>\n",
       "    <tr>\n",
       "      <th>ExtraTreesClassifier</th>\n",
       "      <td>0.562500</td>\n",
       "      <td>0.128114</td>\n",
       "    </tr>\n",
       "    <tr>\n",
       "      <th>SVM</th>\n",
       "      <td>0.558673</td>\n",
       "      <td>0.098958</td>\n",
       "    </tr>\n",
       "    <tr>\n",
       "      <th>Gradientboost</th>\n",
       "      <td>0.553061</td>\n",
       "      <td>0.068085</td>\n",
       "    </tr>\n",
       "    <tr>\n",
       "      <th>Gaussian NB</th>\n",
       "      <td>0.553316</td>\n",
       "      <td>0.044735</td>\n",
       "    </tr>\n",
       "    <tr>\n",
       "      <th>Logistic Regression</th>\n",
       "      <td>0.554337</td>\n",
       "      <td>0.026741</td>\n",
       "    </tr>\n",
       "  </tbody>\n",
       "</table>\n",
       "</div>"
      ],
      "text/plain": [
       "                          Accuracy Score  F1 Score\n",
       "Decision Tree Classifier        0.506122  0.381074\n",
       "KNN                             0.522704  0.355494\n",
       "ExtremeGradientBoost            0.548980  0.298969\n",
       "BaggingClassifier               0.537500  0.224882\n",
       "Random Forest                   0.557143  0.167785\n",
       "Adaboost                        0.550510  0.142162\n",
       "ExtraTreesClassifier            0.562500  0.128114\n",
       "SVM                             0.558673  0.098958\n",
       "Gradientboost                   0.553061  0.068085\n",
       "Gaussian NB                     0.553316  0.044735\n",
       "Logistic Regression             0.554337  0.026741"
      ]
     },
     "execution_count": 39,
     "metadata": {},
     "output_type": "execute_result"
    }
   ],
   "source": [
    "runmodels(models,training_dataframe_x_allwaves_combi1,training_dataframe_y_allwaves_combi1,testing_dataframe_x_allwaves_combi1,testing_dataframe_y_allwaves_combi1)\n"
   ]
  },
  {
   "cell_type": "markdown",
   "id": "d68d2e51",
   "metadata": {},
   "source": [
    "## Section 3.0: Combination 2 \n",
    "* In this section, we will be training songs based on Yu Xiang's (36 Songs), and be testing on Luqman's (6 songs). \n",
    "* The purpose of this Combination, is to find out how generalisable the model can be. "
   ]
  },
  {
   "cell_type": "markdown",
   "id": "54d4c68a",
   "metadata": {},
   "source": [
    "### Section 3.1 Preparation of Dataset for Performance Metrics, Beta Waves and All Brain Waves "
   ]
  },
  {
   "cell_type": "code",
   "execution_count": 40,
   "id": "e90b9eda",
   "metadata": {},
   "outputs": [],
   "source": [
    "# Performance Metrics ####################################################################################\n",
    "training_yuxiang_30_songs_PM = pd.concat([pm_df,add_df],axis=1)\n",
    "training_yuxiang_6_songs_PM = pd.concat([pm_df_yuxiang_6,add_df_yuxiang_6_df],axis=1)\n",
    "training_yuxiang_36_songs_PM = pd.concat([training_yuxiang_30_songs_PM,training_yuxiang_6_songs_PM])\n",
    "\n",
    "testing_luqman_6_songs_PM = pd.concat([pm_df_luqman_6,add_df_luqman_6_df],axis=1)\n",
    "\n",
    "# Beta Waves #############################################################################################\n",
    "training_yuxiang_30_songs_beta = pd.concat([beta_df,add_df],axis =1)\n",
    "training_yuxiang_6_songs_beta = pd.concat([beta_yuxiang_6_df,add_df_yuxiang_6_df], axis=1)\n",
    "training_yuxiang_36_songs_beta = pd.concat([training_yuxiang_30_songs_beta,training_yuxiang_6_songs_beta])\n",
    "\n",
    "testing_luqman_6_songs_beta = pd.concat([beta_luqman_6_df,add_df_luqman_6_df], axis=1)\n",
    "\n",
    "# All Brain Waves  ########################################################################################\n",
    "training_yuxiang_30_songs_all_waves = pd.concat([other_brain_df,add_df],axis =1)\n",
    "training_yuxiang_6_songs_all_waves = pd.concat([other_brain_yuxiang_6_df,add_df_yuxiang_6_df],axis =1)\n",
    "\n",
    "training_yuxiang_36_songs_all_waves = pd.concat([training_yuxiang_30_songs_all_waves,training_yuxiang_6_songs_all_waves],axis=0)\n",
    "\n",
    "training_luqman_6_songs_all_waves = pd.concat([other_brain_luqman_6_df,add_df_luqman_6_df],axis=1)"
   ]
  },
  {
   "cell_type": "markdown",
   "id": "6e5b02bd",
   "metadata": {},
   "source": [
    "### Section 3.2 Cleaning of Dataset for Performance Metrics "
   ]
  },
  {
   "cell_type": "code",
   "execution_count": 41,
   "id": "8202b510",
   "metadata": {},
   "outputs": [],
   "source": [
    "# Ensure that Yuxiang's Dataset drop all the NaN values\n",
    "training_yuxiang_36_songs_PM.dropna(how=\"any\", axis=0, inplace=True)\n",
    "training_yuxiang_36_songs_PM = training_yuxiang_36_songs_PM.drop(training_yuxiang_36_songs_PM[training_yuxiang_36_songs_PM[\"EQ.OVERALL.New\"] < 90].index)\n"
   ]
  },
  {
   "cell_type": "code",
   "execution_count": 42,
   "id": "f916cbca",
   "metadata": {},
   "outputs": [
    {
     "data": {
      "text/html": [
       "<div>\n",
       "<style scoped>\n",
       "    .dataframe tbody tr th:only-of-type {\n",
       "        vertical-align: middle;\n",
       "    }\n",
       "\n",
       "    .dataframe tbody tr th {\n",
       "        vertical-align: top;\n",
       "    }\n",
       "\n",
       "    .dataframe thead th {\n",
       "        text-align: right;\n",
       "    }\n",
       "</style>\n",
       "<table border=\"1\" class=\"dataframe\">\n",
       "  <thead>\n",
       "    <tr style=\"text-align: right;\">\n",
       "      <th></th>\n",
       "      <th>PM.Engagement.Scaled</th>\n",
       "      <th>PM.Excitement.Scaled</th>\n",
       "      <th>PM.Stress.Scaled</th>\n",
       "      <th>PM.Relaxation.Scaled</th>\n",
       "      <th>PM.Interest.Scaled</th>\n",
       "      <th>PM.Focus.Scaled</th>\n",
       "      <th>Timestamp</th>\n",
       "      <th>OriginalTimestamp</th>\n",
       "      <th>EQ.OVERALL.New</th>\n",
       "      <th>Target</th>\n",
       "      <th>Song</th>\n",
       "    </tr>\n",
       "  </thead>\n",
       "  <tbody>\n",
       "    <tr>\n",
       "      <th>14336</th>\n",
       "      <td>0.806924</td>\n",
       "      <td>0.660965</td>\n",
       "      <td>0.969186</td>\n",
       "      <td>0.610285</td>\n",
       "      <td>0.517222</td>\n",
       "      <td>0.545122</td>\n",
       "      <td>1.664866e+09</td>\n",
       "      <td>1.664866e+09</td>\n",
       "      <td>91.666664</td>\n",
       "      <td>0.0</td>\n",
       "      <td>1.0</td>\n",
       "    </tr>\n",
       "    <tr>\n",
       "      <th>14464</th>\n",
       "      <td>0.772661</td>\n",
       "      <td>0.577382</td>\n",
       "      <td>0.934792</td>\n",
       "      <td>0.506862</td>\n",
       "      <td>0.489027</td>\n",
       "      <td>0.587190</td>\n",
       "      <td>1.664866e+09</td>\n",
       "      <td>1.664866e+09</td>\n",
       "      <td>100.000000</td>\n",
       "      <td>0.0</td>\n",
       "      <td>1.0</td>\n",
       "    </tr>\n",
       "    <tr>\n",
       "      <th>14528</th>\n",
       "      <td>0.752546</td>\n",
       "      <td>0.525899</td>\n",
       "      <td>0.911572</td>\n",
       "      <td>0.472368</td>\n",
       "      <td>0.483508</td>\n",
       "      <td>0.596452</td>\n",
       "      <td>1.664866e+09</td>\n",
       "      <td>1.664866e+09</td>\n",
       "      <td>100.000000</td>\n",
       "      <td>0.0</td>\n",
       "      <td>1.0</td>\n",
       "    </tr>\n",
       "    <tr>\n",
       "      <th>14592</th>\n",
       "      <td>0.741447</td>\n",
       "      <td>0.483556</td>\n",
       "      <td>0.883894</td>\n",
       "      <td>0.453594</td>\n",
       "      <td>0.481513</td>\n",
       "      <td>0.595686</td>\n",
       "      <td>1.664866e+09</td>\n",
       "      <td>1.664866e+09</td>\n",
       "      <td>100.000000</td>\n",
       "      <td>0.0</td>\n",
       "      <td>1.0</td>\n",
       "    </tr>\n",
       "    <tr>\n",
       "      <th>14976</th>\n",
       "      <td>0.708525</td>\n",
       "      <td>0.297294</td>\n",
       "      <td>0.674149</td>\n",
       "      <td>0.345465</td>\n",
       "      <td>0.466987</td>\n",
       "      <td>0.567835</td>\n",
       "      <td>1.664866e+09</td>\n",
       "      <td>1.664866e+09</td>\n",
       "      <td>100.000000</td>\n",
       "      <td>0.0</td>\n",
       "      <td>1.0</td>\n",
       "    </tr>\n",
       "  </tbody>\n",
       "</table>\n",
       "</div>"
      ],
      "text/plain": [
       "       PM.Engagement.Scaled  PM.Excitement.Scaled  PM.Stress.Scaled  \\\n",
       "14336              0.806924              0.660965          0.969186   \n",
       "14464              0.772661              0.577382          0.934792   \n",
       "14528              0.752546              0.525899          0.911572   \n",
       "14592              0.741447              0.483556          0.883894   \n",
       "14976              0.708525              0.297294          0.674149   \n",
       "\n",
       "       PM.Relaxation.Scaled  PM.Interest.Scaled  PM.Focus.Scaled  \\\n",
       "14336              0.610285            0.517222         0.545122   \n",
       "14464              0.506862            0.489027         0.587190   \n",
       "14528              0.472368            0.483508         0.596452   \n",
       "14592              0.453594            0.481513         0.595686   \n",
       "14976              0.345465            0.466987         0.567835   \n",
       "\n",
       "          Timestamp  OriginalTimestamp  EQ.OVERALL.New  Target  Song  \n",
       "14336  1.664866e+09       1.664866e+09       91.666664     0.0   1.0  \n",
       "14464  1.664866e+09       1.664866e+09      100.000000     0.0   1.0  \n",
       "14528  1.664866e+09       1.664866e+09      100.000000     0.0   1.0  \n",
       "14592  1.664866e+09       1.664866e+09      100.000000     0.0   1.0  \n",
       "14976  1.664866e+09       1.664866e+09      100.000000     0.0   1.0  "
      ]
     },
     "execution_count": 42,
     "metadata": {},
     "output_type": "execute_result"
    }
   ],
   "source": [
    "training_yuxiang_36_songs_PM.head(5)"
   ]
  },
  {
   "cell_type": "code",
   "execution_count": 43,
   "id": "bc622f56",
   "metadata": {},
   "outputs": [],
   "source": [
    "# Ensure that Luqman's Dataset drop all the NaN values\n",
    "testing_luqman_6_songs_PM.dropna(how=\"any\", axis=0, inplace=True)\n",
    "testing_luqman_6_songs_PM = testing_luqman_6_songs_PM.drop(testing_luqman_6_songs_PM[testing_luqman_6_songs_PM[\"EQ.OVERALL.New\"] < 90].index)\n"
   ]
  },
  {
   "cell_type": "code",
   "execution_count": 44,
   "id": "2507f1d0",
   "metadata": {},
   "outputs": [
    {
     "data": {
      "text/html": [
       "<div>\n",
       "<style scoped>\n",
       "    .dataframe tbody tr th:only-of-type {\n",
       "        vertical-align: middle;\n",
       "    }\n",
       "\n",
       "    .dataframe tbody tr th {\n",
       "        vertical-align: top;\n",
       "    }\n",
       "\n",
       "    .dataframe thead th {\n",
       "        text-align: right;\n",
       "    }\n",
       "</style>\n",
       "<table border=\"1\" class=\"dataframe\">\n",
       "  <thead>\n",
       "    <tr style=\"text-align: right;\">\n",
       "      <th></th>\n",
       "      <th>PM.Engagement.Scaled</th>\n",
       "      <th>PM.Excitement.Scaled</th>\n",
       "      <th>PM.Stress.Scaled</th>\n",
       "      <th>PM.Relaxation.Scaled</th>\n",
       "      <th>PM.Interest.Scaled</th>\n",
       "      <th>PM.Focus.Scaled</th>\n",
       "      <th>Timestamp</th>\n",
       "      <th>OriginalTimestamp</th>\n",
       "      <th>EQ.OVERALL.New</th>\n",
       "      <th>Target</th>\n",
       "      <th>Song</th>\n",
       "    </tr>\n",
       "  </thead>\n",
       "  <tbody>\n",
       "    <tr>\n",
       "      <th>16809</th>\n",
       "      <td>0.612268</td>\n",
       "      <td>0.077370</td>\n",
       "      <td>0.362249</td>\n",
       "      <td>0.332213</td>\n",
       "      <td>0.411737</td>\n",
       "      <td>0.247669</td>\n",
       "      <td>1666924608</td>\n",
       "      <td>1666924608</td>\n",
       "      <td>100.000000</td>\n",
       "      <td>0.0</td>\n",
       "      <td>37.0</td>\n",
       "    </tr>\n",
       "    <tr>\n",
       "      <th>16873</th>\n",
       "      <td>0.639352</td>\n",
       "      <td>0.072633</td>\n",
       "      <td>0.376805</td>\n",
       "      <td>0.330345</td>\n",
       "      <td>0.418172</td>\n",
       "      <td>0.251956</td>\n",
       "      <td>1666924608</td>\n",
       "      <td>1666924608</td>\n",
       "      <td>100.000000</td>\n",
       "      <td>0.0</td>\n",
       "      <td>37.0</td>\n",
       "    </tr>\n",
       "    <tr>\n",
       "      <th>16937</th>\n",
       "      <td>0.662994</td>\n",
       "      <td>0.066767</td>\n",
       "      <td>0.379048</td>\n",
       "      <td>0.335726</td>\n",
       "      <td>0.446779</td>\n",
       "      <td>0.248275</td>\n",
       "      <td>1666924609</td>\n",
       "      <td>1666924609</td>\n",
       "      <td>100.000000</td>\n",
       "      <td>0.0</td>\n",
       "      <td>37.0</td>\n",
       "    </tr>\n",
       "    <tr>\n",
       "      <th>17129</th>\n",
       "      <td>0.704478</td>\n",
       "      <td>0.111502</td>\n",
       "      <td>0.378972</td>\n",
       "      <td>0.362833</td>\n",
       "      <td>0.470655</td>\n",
       "      <td>0.234985</td>\n",
       "      <td>1666924610</td>\n",
       "      <td>1666924610</td>\n",
       "      <td>91.666664</td>\n",
       "      <td>0.0</td>\n",
       "      <td>37.0</td>\n",
       "    </tr>\n",
       "    <tr>\n",
       "      <th>17257</th>\n",
       "      <td>0.686515</td>\n",
       "      <td>0.082105</td>\n",
       "      <td>0.366278</td>\n",
       "      <td>0.372128</td>\n",
       "      <td>0.448751</td>\n",
       "      <td>0.225671</td>\n",
       "      <td>1666924611</td>\n",
       "      <td>1666924611</td>\n",
       "      <td>100.000000</td>\n",
       "      <td>0.0</td>\n",
       "      <td>37.0</td>\n",
       "    </tr>\n",
       "  </tbody>\n",
       "</table>\n",
       "</div>"
      ],
      "text/plain": [
       "       PM.Engagement.Scaled  PM.Excitement.Scaled  PM.Stress.Scaled  \\\n",
       "16809              0.612268              0.077370          0.362249   \n",
       "16873              0.639352              0.072633          0.376805   \n",
       "16937              0.662994              0.066767          0.379048   \n",
       "17129              0.704478              0.111502          0.378972   \n",
       "17257              0.686515              0.082105          0.366278   \n",
       "\n",
       "       PM.Relaxation.Scaled  PM.Interest.Scaled  PM.Focus.Scaled   Timestamp  \\\n",
       "16809              0.332213            0.411737         0.247669  1666924608   \n",
       "16873              0.330345            0.418172         0.251956  1666924608   \n",
       "16937              0.335726            0.446779         0.248275  1666924609   \n",
       "17129              0.362833            0.470655         0.234985  1666924610   \n",
       "17257              0.372128            0.448751         0.225671  1666924611   \n",
       "\n",
       "       OriginalTimestamp  EQ.OVERALL.New  Target  Song  \n",
       "16809         1666924608      100.000000     0.0  37.0  \n",
       "16873         1666924608      100.000000     0.0  37.0  \n",
       "16937         1666924609      100.000000     0.0  37.0  \n",
       "17129         1666924610       91.666664     0.0  37.0  \n",
       "17257         1666924611      100.000000     0.0  37.0  "
      ]
     },
     "execution_count": 44,
     "metadata": {},
     "output_type": "execute_result"
    }
   ],
   "source": [
    "testing_luqman_6_songs_PM.head(5)"
   ]
  },
  {
   "cell_type": "markdown",
   "id": "b7562464",
   "metadata": {},
   "source": [
    "#### As we can see from this diagram, there are about 6024 (Training) and 1589 (Testing), so will proceed with 80% and 20% train test split by removing datarows of Testing by Songs. "
   ]
  },
  {
   "cell_type": "code",
   "execution_count": 45,
   "id": "5198b0e8",
   "metadata": {},
   "outputs": [
    {
     "name": "stdout",
     "output_type": "stream",
     "text": [
      "Training Set(YuXiang 36 Songs) \t: (6024, 11)\n",
      "Testing Set(Luqman 6 Songs) \t: (1589, 11)\n"
     ]
    }
   ],
   "source": [
    "print(\"Training Set(YuXiang 36 Songs) \\t:\", training_yuxiang_36_songs_PM.shape)\n",
    "print(\"Testing Set(Luqman 6 Songs) \\t:\", testing_luqman_6_songs_PM.shape)"
   ]
  },
  {
   "cell_type": "markdown",
   "id": "17717767",
   "metadata": {},
   "source": [
    "#### Removing one Random Song from Luqman Testing set (Random Song = 40th) "
   ]
  },
  {
   "cell_type": "code",
   "execution_count": 46,
   "id": "c2379bd3",
   "metadata": {},
   "outputs": [
    {
     "name": "stdout",
     "output_type": "stream",
     "text": [
      "Testing Set(Luqman 5 Songs) \t: (1271, 11)\n"
     ]
    }
   ],
   "source": [
    "# df = df.drop(df[<some boolean condition>].index)\n",
    "testing_luqman_6_songs_PM = testing_luqman_6_songs_PM.drop(testing_luqman_6_songs_PM[testing_luqman_6_songs_PM['Song']==40].index)\n",
    "testing_luqman_6_songs_PM.shape\n",
    "\n",
    "print(\"Testing Set(Luqman 5 Songs) \\t:\", testing_luqman_6_songs_PM.shape)\n"
   ]
  },
  {
   "cell_type": "markdown",
   "id": "81126e68",
   "metadata": {},
   "source": [
    "## Section 3.3 Preparation of Training Models "
   ]
  },
  {
   "cell_type": "code",
   "execution_count": 47,
   "id": "fe3fbc44",
   "metadata": {},
   "outputs": [
    {
     "data": {
      "text/html": [
       "<div>\n",
       "<style scoped>\n",
       "    .dataframe tbody tr th:only-of-type {\n",
       "        vertical-align: middle;\n",
       "    }\n",
       "\n",
       "    .dataframe tbody tr th {\n",
       "        vertical-align: top;\n",
       "    }\n",
       "\n",
       "    .dataframe thead th {\n",
       "        text-align: right;\n",
       "    }\n",
       "</style>\n",
       "<table border=\"1\" class=\"dataframe\">\n",
       "  <thead>\n",
       "    <tr style=\"text-align: right;\">\n",
       "      <th></th>\n",
       "      <th>Accuracy Score</th>\n",
       "      <th>F1 Score</th>\n",
       "    </tr>\n",
       "  </thead>\n",
       "  <tbody>\n",
       "    <tr>\n",
       "      <th>Gaussian NB</th>\n",
       "      <td>0.555468</td>\n",
       "      <td>0.643982</td>\n",
       "    </tr>\n",
       "    <tr>\n",
       "      <th>Decision Tree Classifier</th>\n",
       "      <td>0.481511</td>\n",
       "      <td>0.474062</td>\n",
       "    </tr>\n",
       "    <tr>\n",
       "      <th>KNN</th>\n",
       "      <td>0.475216</td>\n",
       "      <td>0.451931</td>\n",
       "    </tr>\n",
       "    <tr>\n",
       "      <th>BaggingClassifier</th>\n",
       "      <td>0.458694</td>\n",
       "      <td>0.397548</td>\n",
       "    </tr>\n",
       "    <tr>\n",
       "      <th>ExtremeGradientBoost</th>\n",
       "      <td>0.490165</td>\n",
       "      <td>0.390977</td>\n",
       "    </tr>\n",
       "    <tr>\n",
       "      <th>Random Forest</th>\n",
       "      <td>0.474430</td>\n",
       "      <td>0.386029</td>\n",
       "    </tr>\n",
       "    <tr>\n",
       "      <th>Adaboost</th>\n",
       "      <td>0.394965</td>\n",
       "      <td>0.370188</td>\n",
       "    </tr>\n",
       "    <tr>\n",
       "      <th>ExtraTreesClassifier</th>\n",
       "      <td>0.468135</td>\n",
       "      <td>0.356190</td>\n",
       "    </tr>\n",
       "    <tr>\n",
       "      <th>Gradientboost</th>\n",
       "      <td>0.430370</td>\n",
       "      <td>0.309160</td>\n",
       "    </tr>\n",
       "    <tr>\n",
       "      <th>SVM</th>\n",
       "      <td>0.419355</td>\n",
       "      <td>0.068182</td>\n",
       "    </tr>\n",
       "    <tr>\n",
       "      <th>Logistic Regression</th>\n",
       "      <td>0.410700</td>\n",
       "      <td>0.036036</td>\n",
       "    </tr>\n",
       "  </tbody>\n",
       "</table>\n",
       "</div>"
      ],
      "text/plain": [
       "                          Accuracy Score  F1 Score\n",
       "Gaussian NB                     0.555468  0.643982\n",
       "Decision Tree Classifier        0.481511  0.474062\n",
       "KNN                             0.475216  0.451931\n",
       "BaggingClassifier               0.458694  0.397548\n",
       "ExtremeGradientBoost            0.490165  0.390977\n",
       "Random Forest                   0.474430  0.386029\n",
       "Adaboost                        0.394965  0.370188\n",
       "ExtraTreesClassifier            0.468135  0.356190\n",
       "Gradientboost                   0.430370  0.309160\n",
       "SVM                             0.419355  0.068182\n",
       "Logistic Regression             0.410700  0.036036"
      ]
     },
     "execution_count": 47,
     "metadata": {},
     "output_type": "execute_result"
    }
   ],
   "source": [
    "X_Training_PM = training_yuxiang_36_songs_PM.drop(columns=['Timestamp','OriginalTimestamp','Target','EQ.OVERALL.New','Song'])\n",
    "X_Test_PM = testing_luqman_6_songs_PM.drop(columns=['Timestamp','OriginalTimestamp','Target','EQ.OVERALL.New','Song'])\n",
    "Y_Training_PM = training_yuxiang_36_songs_PM['Target']\n",
    "Y_Testing_PM = testing_luqman_6_songs_PM['Target']\n",
    "\n",
    "runmodels(models,X_Training_PM,Y_Training_PM,X_Test_PM,Y_Testing_PM)\n"
   ]
  },
  {
   "cell_type": "markdown",
   "id": "002213f4",
   "metadata": {},
   "source": [
    "### Section 3.4 Cleaning of Dataset for Beta Waves "
   ]
  },
  {
   "cell_type": "code",
   "execution_count": 48,
   "id": "bbdfbec8",
   "metadata": {},
   "outputs": [
    {
     "data": {
      "text/html": [
       "<div>\n",
       "<style scoped>\n",
       "    .dataframe tbody tr th:only-of-type {\n",
       "        vertical-align: middle;\n",
       "    }\n",
       "\n",
       "    .dataframe tbody tr th {\n",
       "        vertical-align: top;\n",
       "    }\n",
       "\n",
       "    .dataframe thead th {\n",
       "        text-align: right;\n",
       "    }\n",
       "</style>\n",
       "<table border=\"1\" class=\"dataframe\">\n",
       "  <thead>\n",
       "    <tr style=\"text-align: right;\">\n",
       "      <th></th>\n",
       "      <th>POW.AF3.BetaL</th>\n",
       "      <th>POW.F7.BetaL</th>\n",
       "      <th>POW.F3.BetaL</th>\n",
       "      <th>POW.FC5.BetaL</th>\n",
       "      <th>POW.T7.BetaL</th>\n",
       "      <th>POW.P7.BetaL</th>\n",
       "      <th>POW.O1.BetaL</th>\n",
       "      <th>POW.O2.BetaL</th>\n",
       "      <th>POW.P8.BetaL</th>\n",
       "      <th>POW.T8.BetaL</th>\n",
       "      <th>...</th>\n",
       "      <th>POW.T8.BetaH</th>\n",
       "      <th>POW.FC6.BetaH</th>\n",
       "      <th>POW.F4.BetaH</th>\n",
       "      <th>POW.F8.BetaH</th>\n",
       "      <th>POW.AF4.BetaH</th>\n",
       "      <th>Timestamp</th>\n",
       "      <th>OriginalTimestamp</th>\n",
       "      <th>EQ.OVERALL.New</th>\n",
       "      <th>Target</th>\n",
       "      <th>Song</th>\n",
       "    </tr>\n",
       "  </thead>\n",
       "  <tbody>\n",
       "    <tr>\n",
       "      <th>14336</th>\n",
       "      <td>0.291856</td>\n",
       "      <td>0.806593</td>\n",
       "      <td>0.216883</td>\n",
       "      <td>0.368497</td>\n",
       "      <td>0.289156</td>\n",
       "      <td>0.317117</td>\n",
       "      <td>0.436535</td>\n",
       "      <td>0.410119</td>\n",
       "      <td>0.220459</td>\n",
       "      <td>0.469042</td>\n",
       "      <td>...</td>\n",
       "      <td>0.580375</td>\n",
       "      <td>0.739434</td>\n",
       "      <td>0.586522</td>\n",
       "      <td>0.575742</td>\n",
       "      <td>0.292627</td>\n",
       "      <td>1.664866e+09</td>\n",
       "      <td>1.664866e+09</td>\n",
       "      <td>91.666664</td>\n",
       "      <td>0.0</td>\n",
       "      <td>1.0</td>\n",
       "    </tr>\n",
       "    <tr>\n",
       "      <th>14352</th>\n",
       "      <td>0.297640</td>\n",
       "      <td>0.985339</td>\n",
       "      <td>0.198240</td>\n",
       "      <td>0.300189</td>\n",
       "      <td>0.243848</td>\n",
       "      <td>0.251670</td>\n",
       "      <td>0.376036</td>\n",
       "      <td>0.555659</td>\n",
       "      <td>0.252427</td>\n",
       "      <td>0.577676</td>\n",
       "      <td>...</td>\n",
       "      <td>0.581711</td>\n",
       "      <td>0.741887</td>\n",
       "      <td>0.600415</td>\n",
       "      <td>0.574014</td>\n",
       "      <td>0.300583</td>\n",
       "      <td>1.664866e+09</td>\n",
       "      <td>1.664866e+09</td>\n",
       "      <td>91.666664</td>\n",
       "      <td>0.0</td>\n",
       "      <td>1.0</td>\n",
       "    </tr>\n",
       "    <tr>\n",
       "      <th>14368</th>\n",
       "      <td>0.323990</td>\n",
       "      <td>1.113016</td>\n",
       "      <td>0.181638</td>\n",
       "      <td>0.239643</td>\n",
       "      <td>0.203473</td>\n",
       "      <td>0.197483</td>\n",
       "      <td>0.336846</td>\n",
       "      <td>0.723103</td>\n",
       "      <td>0.292341</td>\n",
       "      <td>0.668125</td>\n",
       "      <td>...</td>\n",
       "      <td>0.558117</td>\n",
       "      <td>0.699171</td>\n",
       "      <td>0.602544</td>\n",
       "      <td>0.549737</td>\n",
       "      <td>0.307051</td>\n",
       "      <td>1.664866e+09</td>\n",
       "      <td>1.664866e+09</td>\n",
       "      <td>91.666664</td>\n",
       "      <td>0.0</td>\n",
       "      <td>1.0</td>\n",
       "    </tr>\n",
       "    <tr>\n",
       "      <th>14384</th>\n",
       "      <td>0.364966</td>\n",
       "      <td>1.153142</td>\n",
       "      <td>0.177046</td>\n",
       "      <td>0.205866</td>\n",
       "      <td>0.175532</td>\n",
       "      <td>0.167725</td>\n",
       "      <td>0.333368</td>\n",
       "      <td>0.874906</td>\n",
       "      <td>0.342602</td>\n",
       "      <td>0.727792</td>\n",
       "      <td>...</td>\n",
       "      <td>0.509117</td>\n",
       "      <td>0.617686</td>\n",
       "      <td>0.578702</td>\n",
       "      <td>0.507965</td>\n",
       "      <td>0.307365</td>\n",
       "      <td>1.664866e+09</td>\n",
       "      <td>1.664866e+09</td>\n",
       "      <td>91.666664</td>\n",
       "      <td>0.0</td>\n",
       "      <td>1.0</td>\n",
       "    </tr>\n",
       "    <tr>\n",
       "      <th>14464</th>\n",
       "      <td>0.888375</td>\n",
       "      <td>0.616139</td>\n",
       "      <td>0.850566</td>\n",
       "      <td>0.618687</td>\n",
       "      <td>0.313485</td>\n",
       "      <td>0.297490</td>\n",
       "      <td>0.671525</td>\n",
       "      <td>0.852147</td>\n",
       "      <td>0.850851</td>\n",
       "      <td>1.531254</td>\n",
       "      <td>...</td>\n",
       "      <td>0.230359</td>\n",
       "      <td>0.375817</td>\n",
       "      <td>0.453209</td>\n",
       "      <td>0.354055</td>\n",
       "      <td>0.282638</td>\n",
       "      <td>1.664866e+09</td>\n",
       "      <td>1.664866e+09</td>\n",
       "      <td>100.000000</td>\n",
       "      <td>0.0</td>\n",
       "      <td>1.0</td>\n",
       "    </tr>\n",
       "  </tbody>\n",
       "</table>\n",
       "<p>5 rows × 33 columns</p>\n",
       "</div>"
      ],
      "text/plain": [
       "       POW.AF3.BetaL  POW.F7.BetaL  POW.F3.BetaL  POW.FC5.BetaL  POW.T7.BetaL  \\\n",
       "14336       0.291856      0.806593      0.216883       0.368497      0.289156   \n",
       "14352       0.297640      0.985339      0.198240       0.300189      0.243848   \n",
       "14368       0.323990      1.113016      0.181638       0.239643      0.203473   \n",
       "14384       0.364966      1.153142      0.177046       0.205866      0.175532   \n",
       "14464       0.888375      0.616139      0.850566       0.618687      0.313485   \n",
       "\n",
       "       POW.P7.BetaL  POW.O1.BetaL  POW.O2.BetaL  POW.P8.BetaL  POW.T8.BetaL  \\\n",
       "14336      0.317117      0.436535      0.410119      0.220459      0.469042   \n",
       "14352      0.251670      0.376036      0.555659      0.252427      0.577676   \n",
       "14368      0.197483      0.336846      0.723103      0.292341      0.668125   \n",
       "14384      0.167725      0.333368      0.874906      0.342602      0.727792   \n",
       "14464      0.297490      0.671525      0.852147      0.850851      1.531254   \n",
       "\n",
       "       ...  POW.T8.BetaH  POW.FC6.BetaH  POW.F4.BetaH  POW.F8.BetaH  \\\n",
       "14336  ...      0.580375       0.739434      0.586522      0.575742   \n",
       "14352  ...      0.581711       0.741887      0.600415      0.574014   \n",
       "14368  ...      0.558117       0.699171      0.602544      0.549737   \n",
       "14384  ...      0.509117       0.617686      0.578702      0.507965   \n",
       "14464  ...      0.230359       0.375817      0.453209      0.354055   \n",
       "\n",
       "       POW.AF4.BetaH     Timestamp  OriginalTimestamp  EQ.OVERALL.New  Target  \\\n",
       "14336       0.292627  1.664866e+09       1.664866e+09       91.666664     0.0   \n",
       "14352       0.300583  1.664866e+09       1.664866e+09       91.666664     0.0   \n",
       "14368       0.307051  1.664866e+09       1.664866e+09       91.666664     0.0   \n",
       "14384       0.307365  1.664866e+09       1.664866e+09       91.666664     0.0   \n",
       "14464       0.282638  1.664866e+09       1.664866e+09      100.000000     0.0   \n",
       "\n",
       "       Song  \n",
       "14336   1.0  \n",
       "14352   1.0  \n",
       "14368   1.0  \n",
       "14384   1.0  \n",
       "14464   1.0  \n",
       "\n",
       "[5 rows x 33 columns]"
      ]
     },
     "execution_count": 48,
     "metadata": {},
     "output_type": "execute_result"
    }
   ],
   "source": [
    "# Ensure that Yuxiang's Dataset drop all the NaN values\n",
    "training_yuxiang_36_songs_beta.dropna(how=\"any\", axis=0, inplace=True)\n",
    "training_yuxiang_36_songs_beta = training_yuxiang_36_songs_beta.drop(training_yuxiang_36_songs_beta[training_yuxiang_36_songs_beta[\"EQ.OVERALL.New\"] < 90].index)\n",
    "\n",
    "training_yuxiang_36_songs_beta.head()\n"
   ]
  },
  {
   "cell_type": "code",
   "execution_count": 49,
   "id": "b3a9fa5b",
   "metadata": {},
   "outputs": [
    {
     "data": {
      "text/html": [
       "<div>\n",
       "<style scoped>\n",
       "    .dataframe tbody tr th:only-of-type {\n",
       "        vertical-align: middle;\n",
       "    }\n",
       "\n",
       "    .dataframe tbody tr th {\n",
       "        vertical-align: top;\n",
       "    }\n",
       "\n",
       "    .dataframe thead th {\n",
       "        text-align: right;\n",
       "    }\n",
       "</style>\n",
       "<table border=\"1\" class=\"dataframe\">\n",
       "  <thead>\n",
       "    <tr style=\"text-align: right;\">\n",
       "      <th></th>\n",
       "      <th>POW.AF3.BetaL</th>\n",
       "      <th>POW.F7.BetaL</th>\n",
       "      <th>POW.F3.BetaL</th>\n",
       "      <th>POW.FC5.BetaL</th>\n",
       "      <th>POW.T7.BetaL</th>\n",
       "      <th>POW.P7.BetaL</th>\n",
       "      <th>POW.O1.BetaL</th>\n",
       "      <th>POW.O2.BetaL</th>\n",
       "      <th>POW.P8.BetaL</th>\n",
       "      <th>POW.T8.BetaL</th>\n",
       "      <th>...</th>\n",
       "      <th>POW.T8.BetaH</th>\n",
       "      <th>POW.FC6.BetaH</th>\n",
       "      <th>POW.F4.BetaH</th>\n",
       "      <th>POW.F8.BetaH</th>\n",
       "      <th>POW.AF4.BetaH</th>\n",
       "      <th>Timestamp</th>\n",
       "      <th>OriginalTimestamp</th>\n",
       "      <th>EQ.OVERALL.New</th>\n",
       "      <th>Target</th>\n",
       "      <th>Song</th>\n",
       "    </tr>\n",
       "  </thead>\n",
       "  <tbody>\n",
       "    <tr>\n",
       "      <th>16777</th>\n",
       "      <td>1.482152</td>\n",
       "      <td>1.067000</td>\n",
       "      <td>0.810594</td>\n",
       "      <td>1.113165</td>\n",
       "      <td>0.607574</td>\n",
       "      <td>0.638726</td>\n",
       "      <td>0.880134</td>\n",
       "      <td>0.848001</td>\n",
       "      <td>0.877454</td>\n",
       "      <td>1.028235</td>\n",
       "      <td>...</td>\n",
       "      <td>0.571828</td>\n",
       "      <td>0.886914</td>\n",
       "      <td>0.452828</td>\n",
       "      <td>0.971780</td>\n",
       "      <td>0.957985</td>\n",
       "      <td>1666924607</td>\n",
       "      <td>1666924607</td>\n",
       "      <td>100.0</td>\n",
       "      <td>0.0</td>\n",
       "      <td>37.0</td>\n",
       "    </tr>\n",
       "    <tr>\n",
       "      <th>16793</th>\n",
       "      <td>1.989584</td>\n",
       "      <td>1.318115</td>\n",
       "      <td>0.941812</td>\n",
       "      <td>1.284352</td>\n",
       "      <td>0.641752</td>\n",
       "      <td>0.660376</td>\n",
       "      <td>0.988467</td>\n",
       "      <td>1.080360</td>\n",
       "      <td>1.122245</td>\n",
       "      <td>1.339469</td>\n",
       "      <td>...</td>\n",
       "      <td>0.711932</td>\n",
       "      <td>0.936764</td>\n",
       "      <td>0.463533</td>\n",
       "      <td>1.018255</td>\n",
       "      <td>0.977377</td>\n",
       "      <td>1666924608</td>\n",
       "      <td>1666924608</td>\n",
       "      <td>100.0</td>\n",
       "      <td>0.0</td>\n",
       "      <td>37.0</td>\n",
       "    </tr>\n",
       "    <tr>\n",
       "      <th>16809</th>\n",
       "      <td>2.556355</td>\n",
       "      <td>1.630225</td>\n",
       "      <td>1.163628</td>\n",
       "      <td>1.452900</td>\n",
       "      <td>0.677761</td>\n",
       "      <td>0.713623</td>\n",
       "      <td>1.188138</td>\n",
       "      <td>1.413987</td>\n",
       "      <td>1.398005</td>\n",
       "      <td>1.710395</td>\n",
       "      <td>...</td>\n",
       "      <td>0.836215</td>\n",
       "      <td>0.975190</td>\n",
       "      <td>0.461057</td>\n",
       "      <td>1.032230</td>\n",
       "      <td>0.963875</td>\n",
       "      <td>1666924608</td>\n",
       "      <td>1666924608</td>\n",
       "      <td>100.0</td>\n",
       "      <td>0.0</td>\n",
       "      <td>37.0</td>\n",
       "    </tr>\n",
       "    <tr>\n",
       "      <th>16825</th>\n",
       "      <td>3.085340</td>\n",
       "      <td>1.936733</td>\n",
       "      <td>1.449309</td>\n",
       "      <td>1.607061</td>\n",
       "      <td>0.729974</td>\n",
       "      <td>0.811287</td>\n",
       "      <td>1.476887</td>\n",
       "      <td>1.832463</td>\n",
       "      <td>1.674197</td>\n",
       "      <td>2.076093</td>\n",
       "      <td>...</td>\n",
       "      <td>0.915050</td>\n",
       "      <td>0.972425</td>\n",
       "      <td>0.442526</td>\n",
       "      <td>0.996145</td>\n",
       "      <td>0.904463</td>\n",
       "      <td>1666924608</td>\n",
       "      <td>1666924608</td>\n",
       "      <td>100.0</td>\n",
       "      <td>0.0</td>\n",
       "      <td>37.0</td>\n",
       "    </tr>\n",
       "    <tr>\n",
       "      <th>16841</th>\n",
       "      <td>3.489212</td>\n",
       "      <td>2.191942</td>\n",
       "      <td>1.748059</td>\n",
       "      <td>1.749654</td>\n",
       "      <td>0.816361</td>\n",
       "      <td>0.932354</td>\n",
       "      <td>1.795077</td>\n",
       "      <td>2.258492</td>\n",
       "      <td>1.904990</td>\n",
       "      <td>2.349887</td>\n",
       "      <td>...</td>\n",
       "      <td>0.935818</td>\n",
       "      <td>0.924346</td>\n",
       "      <td>0.415242</td>\n",
       "      <td>0.919398</td>\n",
       "      <td>0.815408</td>\n",
       "      <td>1666924608</td>\n",
       "      <td>1666924608</td>\n",
       "      <td>100.0</td>\n",
       "      <td>0.0</td>\n",
       "      <td>37.0</td>\n",
       "    </tr>\n",
       "  </tbody>\n",
       "</table>\n",
       "<p>5 rows × 33 columns</p>\n",
       "</div>"
      ],
      "text/plain": [
       "       POW.AF3.BetaL  POW.F7.BetaL  POW.F3.BetaL  POW.FC5.BetaL  POW.T7.BetaL  \\\n",
       "16777       1.482152      1.067000      0.810594       1.113165      0.607574   \n",
       "16793       1.989584      1.318115      0.941812       1.284352      0.641752   \n",
       "16809       2.556355      1.630225      1.163628       1.452900      0.677761   \n",
       "16825       3.085340      1.936733      1.449309       1.607061      0.729974   \n",
       "16841       3.489212      2.191942      1.748059       1.749654      0.816361   \n",
       "\n",
       "       POW.P7.BetaL  POW.O1.BetaL  POW.O2.BetaL  POW.P8.BetaL  POW.T8.BetaL  \\\n",
       "16777      0.638726      0.880134      0.848001      0.877454      1.028235   \n",
       "16793      0.660376      0.988467      1.080360      1.122245      1.339469   \n",
       "16809      0.713623      1.188138      1.413987      1.398005      1.710395   \n",
       "16825      0.811287      1.476887      1.832463      1.674197      2.076093   \n",
       "16841      0.932354      1.795077      2.258492      1.904990      2.349887   \n",
       "\n",
       "       ...  POW.T8.BetaH  POW.FC6.BetaH  POW.F4.BetaH  POW.F8.BetaH  \\\n",
       "16777  ...      0.571828       0.886914      0.452828      0.971780   \n",
       "16793  ...      0.711932       0.936764      0.463533      1.018255   \n",
       "16809  ...      0.836215       0.975190      0.461057      1.032230   \n",
       "16825  ...      0.915050       0.972425      0.442526      0.996145   \n",
       "16841  ...      0.935818       0.924346      0.415242      0.919398   \n",
       "\n",
       "       POW.AF4.BetaH   Timestamp  OriginalTimestamp  EQ.OVERALL.New  Target  \\\n",
       "16777       0.957985  1666924607         1666924607           100.0     0.0   \n",
       "16793       0.977377  1666924608         1666924608           100.0     0.0   \n",
       "16809       0.963875  1666924608         1666924608           100.0     0.0   \n",
       "16825       0.904463  1666924608         1666924608           100.0     0.0   \n",
       "16841       0.815408  1666924608         1666924608           100.0     0.0   \n",
       "\n",
       "       Song  \n",
       "16777  37.0  \n",
       "16793  37.0  \n",
       "16809  37.0  \n",
       "16825  37.0  \n",
       "16841  37.0  \n",
       "\n",
       "[5 rows x 33 columns]"
      ]
     },
     "execution_count": 49,
     "metadata": {},
     "output_type": "execute_result"
    }
   ],
   "source": [
    "# Ensure that Luqman's Dataset drop all the NaN values\n",
    "testing_luqman_6_songs_beta.dropna(how=\"any\", axis=0, inplace=True)\n",
    "testing_luqman_6_songs_beta = testing_luqman_6_songs_beta.drop(testing_luqman_6_songs_beta[testing_luqman_6_songs_beta[\"EQ.OVERALL.New\"] < 90].index)\n",
    "testing_luqman_6_songs_beta.head()\n"
   ]
  },
  {
   "cell_type": "markdown",
   "id": "e6a8d70f",
   "metadata": {},
   "source": [
    "#### As we can see from this diagram, there are about 6024 (Training) and 1589 (Testing), so will proceed with 80% and 20% train test split by removing datarows of Testing by Songs. "
   ]
  },
  {
   "cell_type": "code",
   "execution_count": 50,
   "id": "1675a2be",
   "metadata": {},
   "outputs": [
    {
     "name": "stdout",
     "output_type": "stream",
     "text": [
      "Training Set(YuXiang 36 Songs) \t: (24077, 33)\n",
      "Testing Set(Luqman 6 Songs) \t: (6357, 33)\n"
     ]
    }
   ],
   "source": [
    "print(\"Training Set(YuXiang 36 Songs) \\t:\", training_yuxiang_36_songs_beta.shape)\n",
    "print(\"Testing Set(Luqman 6 Songs) \\t:\", testing_luqman_6_songs_beta.shape)"
   ]
  },
  {
   "cell_type": "markdown",
   "id": "328ed13e",
   "metadata": {},
   "source": [
    "#### Removing one Random Song from Luqman Testing set (Random Song = 40th) "
   ]
  },
  {
   "cell_type": "code",
   "execution_count": 51,
   "id": "d335ad9e",
   "metadata": {},
   "outputs": [
    {
     "name": "stdout",
     "output_type": "stream",
     "text": [
      "Testing Set(Luqman 5 Songs) \t: (4858, 33)\n"
     ]
    }
   ],
   "source": [
    "# df = df.drop(df[<some boolean condition>].index)\n",
    "# testing_luqman_6_songs_beta['Song'].value_counts()\n",
    "\n",
    "testing_luqman_6_songs_beta = testing_luqman_6_songs_beta.drop(testing_luqman_6_songs_beta[testing_luqman_6_songs_beta['Song']==37].index)\n",
    "testing_luqman_6_songs_beta = testing_luqman_6_songs_beta.drop(testing_luqman_6_songs_beta[testing_luqman_6_songs_beta['Song']==38].index)\n",
    "\n",
    "testing_luqman_6_songs_beta.shape\n",
    "print(\"Testing Set(Luqman 5 Songs) \\t:\", testing_luqman_6_songs_beta.shape)\n"
   ]
  },
  {
   "cell_type": "markdown",
   "id": "49056767",
   "metadata": {},
   "source": [
    "### Section 3.5 Preparation of Training Models"
   ]
  },
  {
   "cell_type": "code",
   "execution_count": 52,
   "id": "68007c85",
   "metadata": {},
   "outputs": [],
   "source": [
    "# Converting them back to Train and Test Model Split \n",
    "training_dataframe_x_beta = training_yuxiang_36_songs_beta.drop(columns=['Timestamp','OriginalTimestamp','Target','EQ.OVERALL.New','Song'])\n",
    "training_dataframe_y_beta = training_yuxiang_36_songs_beta['Target']\n",
    "testing_dataframe_x_beta = testing_luqman_6_songs_beta.drop(columns=['Timestamp','OriginalTimestamp','Target','EQ.OVERALL.New','Song'])\n",
    "testing_dataframe_y_beta = testing_luqman_6_songs_beta['Target']\n"
   ]
  },
  {
   "cell_type": "code",
   "execution_count": 53,
   "id": "79b5a096",
   "metadata": {},
   "outputs": [],
   "source": [
    "all_x_beta_combi2 = pd.concat([training_dataframe_x_beta,testing_dataframe_x_beta])"
   ]
  },
  {
   "cell_type": "markdown",
   "id": "51ec64c2",
   "metadata": {},
   "source": [
    "### Section 3.6 Dimensionality-reduction method Training Models (PCA-Beta Waves)\n"
   ]
  },
  {
   "cell_type": "code",
   "execution_count": 54,
   "id": "514aac98",
   "metadata": {},
   "outputs": [],
   "source": [
    "# Perform PCA (Reduce number of features)\n",
    "\n",
    "pca = PCA(n_components=0.95)\n",
    "pca_components = pca.fit_transform(all_x_beta_combi2)"
   ]
  },
  {
   "cell_type": "code",
   "execution_count": 55,
   "id": "e570e5df",
   "metadata": {},
   "outputs": [
    {
     "data": {
      "text/plain": [
       "14"
      ]
     },
     "execution_count": 55,
     "metadata": {},
     "output_type": "execute_result"
    }
   ],
   "source": [
    "len(pca.components_)"
   ]
  },
  {
   "cell_type": "code",
   "execution_count": 56,
   "id": "80bd40cb",
   "metadata": {},
   "outputs": [
    {
     "data": {
      "image/png": "[encoded data removed]",
      "text/plain": [
       "<Figure size 640x480 with 1 Axes>"
      ]
     },
     "metadata": {},
     "output_type": "display_data"
    }
   ],
   "source": [
    "# Explained variance\n",
    "explained_variance = pca.explained_variance_ratio_\n",
    "plt.plot(explained_variance)\n",
    "plt.show()"
   ]
  },
  {
   "cell_type": "code",
   "execution_count": 57,
   "id": "5b261e00",
   "metadata": {},
   "outputs": [],
   "source": [
    "# The 14 components of PCA \n",
    "column_list = []\n",
    "for i in range(14):\n",
    "    col_name = \"PC\" + str(i+1)\n",
    "    column_list.append(col_name)\n",
    "    \n",
    "pca_beta_df = pd.DataFrame(pca_components, columns=column_list)"
   ]
  },
  {
   "cell_type": "code",
   "execution_count": 58,
   "id": "75e26618",
   "metadata": {},
   "outputs": [],
   "source": [
    "training_dataframe_x_beta = pca_beta_df.drop(pca_beta_df.tail(4858).index)\n",
    "training_dataframe_y_beta = training_yuxiang_36_songs_beta['Target']\n",
    "testing_dataframe_x_beta = pca_beta_df.tail(4858)\n",
    "testing_dataframe_y_beta = testing_luqman_6_songs_beta['Target']"
   ]
  },
  {
   "cell_type": "code",
   "execution_count": 59,
   "id": "048b3291",
   "metadata": {},
   "outputs": [
    {
     "data": {
      "text/html": [
       "<div>\n",
       "<style scoped>\n",
       "    .dataframe tbody tr th:only-of-type {\n",
       "        vertical-align: middle;\n",
       "    }\n",
       "\n",
       "    .dataframe tbody tr th {\n",
       "        vertical-align: top;\n",
       "    }\n",
       "\n",
       "    .dataframe thead th {\n",
       "        text-align: right;\n",
       "    }\n",
       "</style>\n",
       "<table border=\"1\" class=\"dataframe\">\n",
       "  <thead>\n",
       "    <tr style=\"text-align: right;\">\n",
       "      <th></th>\n",
       "      <th>Accuracy Score</th>\n",
       "      <th>F1 Score</th>\n",
       "    </tr>\n",
       "  </thead>\n",
       "  <tbody>\n",
       "    <tr>\n",
       "      <th>Logistic Regression</th>\n",
       "      <td>0.654590</td>\n",
       "      <td>0.773243</td>\n",
       "    </tr>\n",
       "    <tr>\n",
       "      <th>SVM</th>\n",
       "      <td>0.546933</td>\n",
       "      <td>0.671443</td>\n",
       "    </tr>\n",
       "    <tr>\n",
       "      <th>KNN</th>\n",
       "      <td>0.496706</td>\n",
       "      <td>0.582266</td>\n",
       "    </tr>\n",
       "    <tr>\n",
       "      <th>ExtremeGradientBoost</th>\n",
       "      <td>0.518320</td>\n",
       "      <td>0.580194</td>\n",
       "    </tr>\n",
       "    <tr>\n",
       "      <th>Decision Tree Classifier</th>\n",
       "      <td>0.454920</td>\n",
       "      <td>0.488606</td>\n",
       "    </tr>\n",
       "    <tr>\n",
       "      <th>BaggingClassifier</th>\n",
       "      <td>0.439893</td>\n",
       "      <td>0.425343</td>\n",
       "    </tr>\n",
       "    <tr>\n",
       "      <th>Adaboost</th>\n",
       "      <td>0.428160</td>\n",
       "      <td>0.395035</td>\n",
       "    </tr>\n",
       "    <tr>\n",
       "      <th>Random Forest</th>\n",
       "      <td>0.428983</td>\n",
       "      <td>0.361712</td>\n",
       "    </tr>\n",
       "    <tr>\n",
       "      <th>Gradientboost</th>\n",
       "      <td>0.412310</td>\n",
       "      <td>0.286072</td>\n",
       "    </tr>\n",
       "    <tr>\n",
       "      <th>Gaussian NB</th>\n",
       "      <td>0.396871</td>\n",
       "      <td>0.244066</td>\n",
       "    </tr>\n",
       "    <tr>\n",
       "      <th>ExtraTreesClassifier</th>\n",
       "      <td>0.385755</td>\n",
       "      <td>0.224935</td>\n",
       "    </tr>\n",
       "  </tbody>\n",
       "</table>\n",
       "</div>"
      ],
      "text/plain": [
       "                          Accuracy Score  F1 Score\n",
       "Logistic Regression             0.654590  0.773243\n",
       "SVM                             0.546933  0.671443\n",
       "KNN                             0.496706  0.582266\n",
       "ExtremeGradientBoost            0.518320  0.580194\n",
       "Decision Tree Classifier        0.454920  0.488606\n",
       "BaggingClassifier               0.439893  0.425343\n",
       "Adaboost                        0.428160  0.395035\n",
       "Random Forest                   0.428983  0.361712\n",
       "Gradientboost                   0.412310  0.286072\n",
       "Gaussian NB                     0.396871  0.244066\n",
       "ExtraTreesClassifier            0.385755  0.224935"
      ]
     },
     "execution_count": 59,
     "metadata": {},
     "output_type": "execute_result"
    }
   ],
   "source": [
    "runmodels(models,training_dataframe_x_beta,training_dataframe_y_beta,testing_dataframe_x_beta,testing_dataframe_y_beta)"
   ]
  },
  {
   "cell_type": "markdown",
   "id": "5b25bb74",
   "metadata": {},
   "source": [
    "### Section 3.7 Cleaning for all brain waves"
   ]
  },
  {
   "cell_type": "code",
   "execution_count": 60,
   "id": "ce4375f9",
   "metadata": {},
   "outputs": [
    {
     "data": {
      "text/html": [
       "<div>\n",
       "<style scoped>\n",
       "    .dataframe tbody tr th:only-of-type {\n",
       "        vertical-align: middle;\n",
       "    }\n",
       "\n",
       "    .dataframe tbody tr th {\n",
       "        vertical-align: top;\n",
       "    }\n",
       "\n",
       "    .dataframe thead th {\n",
       "        text-align: right;\n",
       "    }\n",
       "</style>\n",
       "<table border=\"1\" class=\"dataframe\">\n",
       "  <thead>\n",
       "    <tr style=\"text-align: right;\">\n",
       "      <th></th>\n",
       "      <th>POW.AF3.Theta</th>\n",
       "      <th>POW.AF3.Alpha</th>\n",
       "      <th>POW.AF3.BetaL</th>\n",
       "      <th>POW.AF3.BetaH</th>\n",
       "      <th>POW.AF3.Gamma</th>\n",
       "      <th>POW.F7.Theta</th>\n",
       "      <th>POW.F7.Alpha</th>\n",
       "      <th>POW.F7.BetaL</th>\n",
       "      <th>POW.F7.BetaH</th>\n",
       "      <th>POW.F7.Gamma</th>\n",
       "      <th>...</th>\n",
       "      <th>POW.AF4.Theta</th>\n",
       "      <th>POW.AF4.Alpha</th>\n",
       "      <th>POW.AF4.BetaL</th>\n",
       "      <th>POW.AF4.BetaH</th>\n",
       "      <th>POW.AF4.Gamma</th>\n",
       "      <th>Timestamp</th>\n",
       "      <th>OriginalTimestamp</th>\n",
       "      <th>EQ.OVERALL.New</th>\n",
       "      <th>Target</th>\n",
       "      <th>Song</th>\n",
       "    </tr>\n",
       "  </thead>\n",
       "  <tbody>\n",
       "    <tr>\n",
       "      <th>14336</th>\n",
       "      <td>9.401283</td>\n",
       "      <td>0.523304</td>\n",
       "      <td>0.291856</td>\n",
       "      <td>0.266432</td>\n",
       "      <td>0.112071</td>\n",
       "      <td>15.248770</td>\n",
       "      <td>2.398155</td>\n",
       "      <td>0.806593</td>\n",
       "      <td>0.413721</td>\n",
       "      <td>0.175000</td>\n",
       "      <td>...</td>\n",
       "      <td>1.864016</td>\n",
       "      <td>0.813742</td>\n",
       "      <td>0.209914</td>\n",
       "      <td>0.292627</td>\n",
       "      <td>0.094594</td>\n",
       "      <td>1.664866e+09</td>\n",
       "      <td>1.664866e+09</td>\n",
       "      <td>91.666664</td>\n",
       "      <td>0.0</td>\n",
       "      <td>1.0</td>\n",
       "    </tr>\n",
       "    <tr>\n",
       "      <th>14352</th>\n",
       "      <td>15.522772</td>\n",
       "      <td>0.525828</td>\n",
       "      <td>0.297640</td>\n",
       "      <td>0.226419</td>\n",
       "      <td>0.099932</td>\n",
       "      <td>14.218265</td>\n",
       "      <td>2.603230</td>\n",
       "      <td>0.985339</td>\n",
       "      <td>0.350578</td>\n",
       "      <td>0.177499</td>\n",
       "      <td>...</td>\n",
       "      <td>2.078890</td>\n",
       "      <td>0.715427</td>\n",
       "      <td>0.184647</td>\n",
       "      <td>0.300583</td>\n",
       "      <td>0.098840</td>\n",
       "      <td>1.664866e+09</td>\n",
       "      <td>1.664866e+09</td>\n",
       "      <td>91.666664</td>\n",
       "      <td>0.0</td>\n",
       "      <td>1.0</td>\n",
       "    </tr>\n",
       "    <tr>\n",
       "      <th>14368</th>\n",
       "      <td>21.853762</td>\n",
       "      <td>0.520928</td>\n",
       "      <td>0.323990</td>\n",
       "      <td>0.200602</td>\n",
       "      <td>0.099235</td>\n",
       "      <td>12.789041</td>\n",
       "      <td>2.757191</td>\n",
       "      <td>1.113016</td>\n",
       "      <td>0.300584</td>\n",
       "      <td>0.181342</td>\n",
       "      <td>...</td>\n",
       "      <td>2.124187</td>\n",
       "      <td>0.592734</td>\n",
       "      <td>0.181434</td>\n",
       "      <td>0.307051</td>\n",
       "      <td>0.108770</td>\n",
       "      <td>1.664866e+09</td>\n",
       "      <td>1.664866e+09</td>\n",
       "      <td>91.666664</td>\n",
       "      <td>0.0</td>\n",
       "      <td>1.0</td>\n",
       "    </tr>\n",
       "    <tr>\n",
       "      <th>14384</th>\n",
       "      <td>26.345743</td>\n",
       "      <td>0.532440</td>\n",
       "      <td>0.364966</td>\n",
       "      <td>0.191223</td>\n",
       "      <td>0.107307</td>\n",
       "      <td>11.122143</td>\n",
       "      <td>2.846779</td>\n",
       "      <td>1.153142</td>\n",
       "      <td>0.271125</td>\n",
       "      <td>0.183708</td>\n",
       "      <td>...</td>\n",
       "      <td>1.996677</td>\n",
       "      <td>0.507211</td>\n",
       "      <td>0.206316</td>\n",
       "      <td>0.307365</td>\n",
       "      <td>0.122329</td>\n",
       "      <td>1.664866e+09</td>\n",
       "      <td>1.664866e+09</td>\n",
       "      <td>91.666664</td>\n",
       "      <td>0.0</td>\n",
       "      <td>1.0</td>\n",
       "    </tr>\n",
       "    <tr>\n",
       "      <th>14464</th>\n",
       "      <td>8.117851</td>\n",
       "      <td>0.975523</td>\n",
       "      <td>0.888375</td>\n",
       "      <td>0.253655</td>\n",
       "      <td>0.165921</td>\n",
       "      <td>21.588953</td>\n",
       "      <td>4.130900</td>\n",
       "      <td>0.616139</td>\n",
       "      <td>0.326287</td>\n",
       "      <td>0.197880</td>\n",
       "      <td>...</td>\n",
       "      <td>1.586329</td>\n",
       "      <td>0.962525</td>\n",
       "      <td>0.815854</td>\n",
       "      <td>0.282638</td>\n",
       "      <td>0.209597</td>\n",
       "      <td>1.664866e+09</td>\n",
       "      <td>1.664866e+09</td>\n",
       "      <td>100.000000</td>\n",
       "      <td>0.0</td>\n",
       "      <td>1.0</td>\n",
       "    </tr>\n",
       "  </tbody>\n",
       "</table>\n",
       "<p>5 rows × 75 columns</p>\n",
       "</div>"
      ],
      "text/plain": [
       "       POW.AF3.Theta  POW.AF3.Alpha  POW.AF3.BetaL  POW.AF3.BetaH  \\\n",
       "14336       9.401283       0.523304       0.291856       0.266432   \n",
       "14352      15.522772       0.525828       0.297640       0.226419   \n",
       "14368      21.853762       0.520928       0.323990       0.200602   \n",
       "14384      26.345743       0.532440       0.364966       0.191223   \n",
       "14464       8.117851       0.975523       0.888375       0.253655   \n",
       "\n",
       "       POW.AF3.Gamma  POW.F7.Theta  POW.F7.Alpha  POW.F7.BetaL  POW.F7.BetaH  \\\n",
       "14336       0.112071     15.248770      2.398155      0.806593      0.413721   \n",
       "14352       0.099932     14.218265      2.603230      0.985339      0.350578   \n",
       "14368       0.099235     12.789041      2.757191      1.113016      0.300584   \n",
       "14384       0.107307     11.122143      2.846779      1.153142      0.271125   \n",
       "14464       0.165921     21.588953      4.130900      0.616139      0.326287   \n",
       "\n",
       "       POW.F7.Gamma  ...  POW.AF4.Theta  POW.AF4.Alpha  POW.AF4.BetaL  \\\n",
       "14336      0.175000  ...       1.864016       0.813742       0.209914   \n",
       "14352      0.177499  ...       2.078890       0.715427       0.184647   \n",
       "14368      0.181342  ...       2.124187       0.592734       0.181434   \n",
       "14384      0.183708  ...       1.996677       0.507211       0.206316   \n",
       "14464      0.197880  ...       1.586329       0.962525       0.815854   \n",
       "\n",
       "       POW.AF4.BetaH  POW.AF4.Gamma     Timestamp  OriginalTimestamp  \\\n",
       "14336       0.292627       0.094594  1.664866e+09       1.664866e+09   \n",
       "14352       0.300583       0.098840  1.664866e+09       1.664866e+09   \n",
       "14368       0.307051       0.108770  1.664866e+09       1.664866e+09   \n",
       "14384       0.307365       0.122329  1.664866e+09       1.664866e+09   \n",
       "14464       0.282638       0.209597  1.664866e+09       1.664866e+09   \n",
       "\n",
       "       EQ.OVERALL.New  Target  Song  \n",
       "14336       91.666664     0.0   1.0  \n",
       "14352       91.666664     0.0   1.0  \n",
       "14368       91.666664     0.0   1.0  \n",
       "14384       91.666664     0.0   1.0  \n",
       "14464      100.000000     0.0   1.0  \n",
       "\n",
       "[5 rows x 75 columns]"
      ]
     },
     "execution_count": 60,
     "metadata": {},
     "output_type": "execute_result"
    }
   ],
   "source": [
    "# training_yuxiang_30_songs_all_waves = pd.concat([other_brain_df,add_df],axis =1)\n",
    "# training_yuxiang_6_songs_all_waves = pd.concat([other_brain_yuxiang_6_df,add_df_yuxiang_6_df],axis =1)\n",
    "\n",
    "# training_yuxiang_36_songs_all_waves = pd.concat([training_yuxiang_30_songs_all_waves,training_yuxiang_6_songs_all_waves],axis=0)\n",
    "\n",
    "# training_luqman_6_songs_all_waves = pd.concat([other_brain_luqman_6_df,add_df_luqman_6_df],axis=1)\n",
    "\n",
    "training_yuxiang_36_songs_all_waves.dropna(how=\"any\", axis=0, inplace=True)\n",
    "training_yuxiang_36_songs_all_waves = training_yuxiang_36_songs_all_waves.drop(training_yuxiang_36_songs_all_waves[training_yuxiang_36_songs_all_waves[\"EQ.OVERALL.New\"] < 90].index)\n",
    "\n",
    "training_yuxiang_36_songs_all_waves.head()"
   ]
  },
  {
   "cell_type": "code",
   "execution_count": 61,
   "id": "c03d7e2c",
   "metadata": {},
   "outputs": [
    {
     "data": {
      "text/html": [
       "<div>\n",
       "<style scoped>\n",
       "    .dataframe tbody tr th:only-of-type {\n",
       "        vertical-align: middle;\n",
       "    }\n",
       "\n",
       "    .dataframe tbody tr th {\n",
       "        vertical-align: top;\n",
       "    }\n",
       "\n",
       "    .dataframe thead th {\n",
       "        text-align: right;\n",
       "    }\n",
       "</style>\n",
       "<table border=\"1\" class=\"dataframe\">\n",
       "  <thead>\n",
       "    <tr style=\"text-align: right;\">\n",
       "      <th></th>\n",
       "      <th>POW.AF3.Theta</th>\n",
       "      <th>POW.AF3.Alpha</th>\n",
       "      <th>POW.AF3.BetaL</th>\n",
       "      <th>POW.AF3.BetaH</th>\n",
       "      <th>POW.AF3.Gamma</th>\n",
       "      <th>POW.F7.Theta</th>\n",
       "      <th>POW.F7.Alpha</th>\n",
       "      <th>POW.F7.BetaL</th>\n",
       "      <th>POW.F7.BetaH</th>\n",
       "      <th>POW.F7.Gamma</th>\n",
       "      <th>...</th>\n",
       "      <th>POW.AF4.Theta</th>\n",
       "      <th>POW.AF4.Alpha</th>\n",
       "      <th>POW.AF4.BetaL</th>\n",
       "      <th>POW.AF4.BetaH</th>\n",
       "      <th>POW.AF4.Gamma</th>\n",
       "      <th>Timestamp</th>\n",
       "      <th>OriginalTimestamp</th>\n",
       "      <th>EQ.OVERALL.New</th>\n",
       "      <th>Target</th>\n",
       "      <th>Song</th>\n",
       "    </tr>\n",
       "  </thead>\n",
       "  <tbody>\n",
       "    <tr>\n",
       "      <th>16777</th>\n",
       "      <td>37.167900</td>\n",
       "      <td>9.783302</td>\n",
       "      <td>1.482152</td>\n",
       "      <td>1.103509</td>\n",
       "      <td>0.565504</td>\n",
       "      <td>27.043716</td>\n",
       "      <td>6.285285</td>\n",
       "      <td>1.067000</td>\n",
       "      <td>0.846473</td>\n",
       "      <td>0.532603</td>\n",
       "      <td>...</td>\n",
       "      <td>22.413984</td>\n",
       "      <td>7.475458</td>\n",
       "      <td>1.672922</td>\n",
       "      <td>0.957985</td>\n",
       "      <td>0.523840</td>\n",
       "      <td>1666924607</td>\n",
       "      <td>1666924607</td>\n",
       "      <td>100.0</td>\n",
       "      <td>0.0</td>\n",
       "      <td>37.0</td>\n",
       "    </tr>\n",
       "    <tr>\n",
       "      <th>16793</th>\n",
       "      <td>39.525978</td>\n",
       "      <td>10.959085</td>\n",
       "      <td>1.989584</td>\n",
       "      <td>1.139067</td>\n",
       "      <td>0.548172</td>\n",
       "      <td>28.530968</td>\n",
       "      <td>7.055654</td>\n",
       "      <td>1.318115</td>\n",
       "      <td>0.926832</td>\n",
       "      <td>0.536570</td>\n",
       "      <td>...</td>\n",
       "      <td>23.435471</td>\n",
       "      <td>9.095606</td>\n",
       "      <td>2.160362</td>\n",
       "      <td>0.977377</td>\n",
       "      <td>0.504673</td>\n",
       "      <td>1666924608</td>\n",
       "      <td>1666924608</td>\n",
       "      <td>100.0</td>\n",
       "      <td>0.0</td>\n",
       "      <td>37.0</td>\n",
       "    </tr>\n",
       "    <tr>\n",
       "      <th>16809</th>\n",
       "      <td>39.039295</td>\n",
       "      <td>11.571865</td>\n",
       "      <td>2.556355</td>\n",
       "      <td>1.110598</td>\n",
       "      <td>0.498951</td>\n",
       "      <td>28.374491</td>\n",
       "      <td>7.554694</td>\n",
       "      <td>1.630225</td>\n",
       "      <td>0.970615</td>\n",
       "      <td>0.521567</td>\n",
       "      <td>...</td>\n",
       "      <td>22.695414</td>\n",
       "      <td>10.361065</td>\n",
       "      <td>2.705513</td>\n",
       "      <td>0.963875</td>\n",
       "      <td>0.458663</td>\n",
       "      <td>1666924608</td>\n",
       "      <td>1666924608</td>\n",
       "      <td>100.0</td>\n",
       "      <td>0.0</td>\n",
       "      <td>37.0</td>\n",
       "    </tr>\n",
       "    <tr>\n",
       "      <th>16825</th>\n",
       "      <td>35.930229</td>\n",
       "      <td>11.466270</td>\n",
       "      <td>3.085340</td>\n",
       "      <td>1.042292</td>\n",
       "      <td>0.433775</td>\n",
       "      <td>26.489855</td>\n",
       "      <td>7.623462</td>\n",
       "      <td>1.936733</td>\n",
       "      <td>0.969910</td>\n",
       "      <td>0.488449</td>\n",
       "      <td>...</td>\n",
       "      <td>20.422644</td>\n",
       "      <td>10.912558</td>\n",
       "      <td>3.203615</td>\n",
       "      <td>0.904463</td>\n",
       "      <td>0.397908</td>\n",
       "      <td>1666924608</td>\n",
       "      <td>1666924608</td>\n",
       "      <td>100.0</td>\n",
       "      <td>0.0</td>\n",
       "      <td>37.0</td>\n",
       "    </tr>\n",
       "    <tr>\n",
       "      <th>16841</th>\n",
       "      <td>30.755667</td>\n",
       "      <td>10.566139</td>\n",
       "      <td>3.489212</td>\n",
       "      <td>0.981426</td>\n",
       "      <td>0.373694</td>\n",
       "      <td>22.932581</td>\n",
       "      <td>7.150863</td>\n",
       "      <td>2.191942</td>\n",
       "      <td>0.938679</td>\n",
       "      <td>0.446321</td>\n",
       "      <td>...</td>\n",
       "      <td>17.081667</td>\n",
       "      <td>10.526581</td>\n",
       "      <td>3.544618</td>\n",
       "      <td>0.815408</td>\n",
       "      <td>0.341539</td>\n",
       "      <td>1666924608</td>\n",
       "      <td>1666924608</td>\n",
       "      <td>100.0</td>\n",
       "      <td>0.0</td>\n",
       "      <td>37.0</td>\n",
       "    </tr>\n",
       "  </tbody>\n",
       "</table>\n",
       "<p>5 rows × 75 columns</p>\n",
       "</div>"
      ],
      "text/plain": [
       "       POW.AF3.Theta  POW.AF3.Alpha  POW.AF3.BetaL  POW.AF3.BetaH  \\\n",
       "16777      37.167900       9.783302       1.482152       1.103509   \n",
       "16793      39.525978      10.959085       1.989584       1.139067   \n",
       "16809      39.039295      11.571865       2.556355       1.110598   \n",
       "16825      35.930229      11.466270       3.085340       1.042292   \n",
       "16841      30.755667      10.566139       3.489212       0.981426   \n",
       "\n",
       "       POW.AF3.Gamma  POW.F7.Theta  POW.F7.Alpha  POW.F7.BetaL  POW.F7.BetaH  \\\n",
       "16777       0.565504     27.043716      6.285285      1.067000      0.846473   \n",
       "16793       0.548172     28.530968      7.055654      1.318115      0.926832   \n",
       "16809       0.498951     28.374491      7.554694      1.630225      0.970615   \n",
       "16825       0.433775     26.489855      7.623462      1.936733      0.969910   \n",
       "16841       0.373694     22.932581      7.150863      2.191942      0.938679   \n",
       "\n",
       "       POW.F7.Gamma  ...  POW.AF4.Theta  POW.AF4.Alpha  POW.AF4.BetaL  \\\n",
       "16777      0.532603  ...      22.413984       7.475458       1.672922   \n",
       "16793      0.536570  ...      23.435471       9.095606       2.160362   \n",
       "16809      0.521567  ...      22.695414      10.361065       2.705513   \n",
       "16825      0.488449  ...      20.422644      10.912558       3.203615   \n",
       "16841      0.446321  ...      17.081667      10.526581       3.544618   \n",
       "\n",
       "       POW.AF4.BetaH  POW.AF4.Gamma   Timestamp  OriginalTimestamp  \\\n",
       "16777       0.957985       0.523840  1666924607         1666924607   \n",
       "16793       0.977377       0.504673  1666924608         1666924608   \n",
       "16809       0.963875       0.458663  1666924608         1666924608   \n",
       "16825       0.904463       0.397908  1666924608         1666924608   \n",
       "16841       0.815408       0.341539  1666924608         1666924608   \n",
       "\n",
       "       EQ.OVERALL.New  Target  Song  \n",
       "16777           100.0     0.0  37.0  \n",
       "16793           100.0     0.0  37.0  \n",
       "16809           100.0     0.0  37.0  \n",
       "16825           100.0     0.0  37.0  \n",
       "16841           100.0     0.0  37.0  \n",
       "\n",
       "[5 rows x 75 columns]"
      ]
     },
     "execution_count": 61,
     "metadata": {},
     "output_type": "execute_result"
    }
   ],
   "source": [
    "# Ensure that Luqman's Dataset drop all the NaN values\n",
    "training_luqman_6_songs_all_waves.dropna(how=\"any\", axis=0, inplace=True)\n",
    "training_luqman_6_songs_all_waves = training_luqman_6_songs_all_waves.drop(training_luqman_6_songs_all_waves[training_luqman_6_songs_all_waves[\"EQ.OVERALL.New\"] < 90].index)\n",
    "training_luqman_6_songs_all_waves.head()\n"
   ]
  },
  {
   "cell_type": "code",
   "execution_count": 62,
   "id": "ff79d3b7",
   "metadata": {},
   "outputs": [
    {
     "name": "stdout",
     "output_type": "stream",
     "text": [
      "Training Set(YuXiang 36 Songs) \t: (24077, 75)\n",
      "Testing Set(Luqman 6 Songs) \t: (6357, 75)\n"
     ]
    }
   ],
   "source": [
    "print(\"Training Set(YuXiang 36 Songs) \\t:\", training_yuxiang_36_songs_all_waves.shape)\n",
    "print(\"Testing Set(Luqman 6 Songs) \\t:\", training_luqman_6_songs_all_waves.shape)"
   ]
  },
  {
   "cell_type": "markdown",
   "id": "c6607079",
   "metadata": {},
   "source": [
    "#### Removing one Random Song from Luqman Testing set (Random Song = XXXXXXX) "
   ]
  },
  {
   "cell_type": "code",
   "execution_count": 63,
   "id": "b2c6f676",
   "metadata": {},
   "outputs": [
    {
     "name": "stdout",
     "output_type": "stream",
     "text": [
      "Testing Set(Luqman 5 Songs) \t: (4858, 75)\n"
     ]
    }
   ],
   "source": [
    "# df = df.drop(df[<some boolean condition>].index)\n",
    "# testing_luqman_6_songs_beta['Song'].value_counts()\n",
    "\n",
    "training_luqman_6_songs_all_waves = training_luqman_6_songs_all_waves.drop(training_luqman_6_songs_all_waves[training_luqman_6_songs_all_waves['Song']==37].index)\n",
    "training_luqman_6_songs_all_waves = training_luqman_6_songs_all_waves.drop(training_luqman_6_songs_all_waves[training_luqman_6_songs_all_waves['Song']==38].index)\n",
    "\n",
    "training_luqman_6_songs_all_waves.shape\n",
    "print(\"Testing Set(Luqman 5 Songs) \\t:\", training_luqman_6_songs_all_waves.shape)\n"
   ]
  },
  {
   "cell_type": "markdown",
   "id": "7ca75acb",
   "metadata": {},
   "source": [
    "### Section 3.8 Preparation of Training Models\n"
   ]
  },
  {
   "cell_type": "code",
   "execution_count": 64,
   "id": "1fa7193d",
   "metadata": {},
   "outputs": [],
   "source": [
    "# Converting them back to Train and Test Model Split \n",
    "training_dataframe_x_allwaves = training_yuxiang_36_songs_all_waves.drop(columns=['Timestamp','OriginalTimestamp','Target','EQ.OVERALL.New','Song'])\n",
    "training_dataframe_y_allwaves = training_yuxiang_36_songs_all_waves['Target']\n",
    "testing_dataframe_x_allwaves = training_luqman_6_songs_all_waves.drop(columns=['Timestamp','OriginalTimestamp','Target','EQ.OVERALL.New','Song'])\n",
    "testing_dataframe_y_allwaves = training_luqman_6_songs_all_waves['Target']\n"
   ]
  },
  {
   "cell_type": "code",
   "execution_count": 65,
   "id": "790bb71b",
   "metadata": {},
   "outputs": [],
   "source": [
    "all_x_brainwaves_combi2 = pd.concat([training_dataframe_x_allwaves,testing_dataframe_x_allwaves])"
   ]
  },
  {
   "cell_type": "markdown",
   "id": "00072589",
   "metadata": {},
   "source": [
    "### Section 3.9  Dimensionality-reduction method Training Models (PCA- All Waves)"
   ]
  },
  {
   "cell_type": "code",
   "execution_count": 66,
   "id": "9083f22b",
   "metadata": {},
   "outputs": [],
   "source": [
    "# Perform PCA (Reduce number of features)\n",
    "\n",
    "pca_38 = PCA(n_components=0.95)\n",
    "pca_components38 = pca_38.fit_transform(all_x_brainwaves_combi2)"
   ]
  },
  {
   "cell_type": "code",
   "execution_count": 67,
   "id": "e84818a0",
   "metadata": {},
   "outputs": [
    {
     "data": {
      "text/plain": [
       "13"
      ]
     },
     "execution_count": 67,
     "metadata": {},
     "output_type": "execute_result"
    }
   ],
   "source": [
    "len(pca_38.components_)"
   ]
  },
  {
   "cell_type": "code",
   "execution_count": 68,
   "id": "e6dee702",
   "metadata": {},
   "outputs": [
    {
     "data": {
      "image/png": "[encoded data removed]",
      "text/plain": [
       "<Figure size 640x480 with 1 Axes>"
      ]
     },
     "metadata": {},
     "output_type": "display_data"
    }
   ],
   "source": [
    "explained_variance = pca_38.explained_variance_ratio_\n",
    "plt.plot(explained_variance)\n",
    "plt.show()"
   ]
  },
  {
   "cell_type": "code",
   "execution_count": 69,
   "id": "a234835e",
   "metadata": {},
   "outputs": [],
   "source": [
    "column_list = []\n",
    "for i in range(13):\n",
    "    col_name = \"PC\" + str(i+1)\n",
    "    column_list.append(col_name)\n",
    "    \n",
    "pca_all_waves_df38 = pd.DataFrame(pca_components38, columns=column_list)"
   ]
  },
  {
   "cell_type": "code",
   "execution_count": 70,
   "id": "3ed07648",
   "metadata": {},
   "outputs": [],
   "source": [
    "training_dataframe_x_allwaves = pca_all_waves_df38.drop(pca_all_waves_df38.tail(4858).index)\n",
    "training_dataframe_y_allwaves = training_yuxiang_36_songs_all_waves['Target']\n",
    "testing_dataframe_x_allwaves= pca_all_waves_df38.tail(4858)\n",
    "testing_dataframe_y_allwaves = training_luqman_6_songs_all_waves['Target']"
   ]
  },
  {
   "cell_type": "code",
   "execution_count": 71,
   "id": "62d9b72a",
   "metadata": {},
   "outputs": [
    {
     "data": {
      "text/html": [
       "<div>\n",
       "<style scoped>\n",
       "    .dataframe tbody tr th:only-of-type {\n",
       "        vertical-align: middle;\n",
       "    }\n",
       "\n",
       "    .dataframe tbody tr th {\n",
       "        vertical-align: top;\n",
       "    }\n",
       "\n",
       "    .dataframe thead th {\n",
       "        text-align: right;\n",
       "    }\n",
       "</style>\n",
       "<table border=\"1\" class=\"dataframe\">\n",
       "  <thead>\n",
       "    <tr style=\"text-align: right;\">\n",
       "      <th></th>\n",
       "      <th>Accuracy Score</th>\n",
       "      <th>F1 Score</th>\n",
       "    </tr>\n",
       "  </thead>\n",
       "  <tbody>\n",
       "    <tr>\n",
       "      <th>Decision Tree Classifier</th>\n",
       "      <td>0.510704</td>\n",
       "      <td>0.584803</td>\n",
       "    </tr>\n",
       "    <tr>\n",
       "      <th>ExtremeGradientBoost</th>\n",
       "      <td>0.478386</td>\n",
       "      <td>0.506043</td>\n",
       "    </tr>\n",
       "    <tr>\n",
       "      <th>KNN</th>\n",
       "      <td>0.470152</td>\n",
       "      <td>0.503472</td>\n",
       "    </tr>\n",
       "    <tr>\n",
       "      <th>BaggingClassifier</th>\n",
       "      <td>0.423425</td>\n",
       "      <td>0.386418</td>\n",
       "    </tr>\n",
       "    <tr>\n",
       "      <th>Random Forest</th>\n",
       "      <td>0.420338</td>\n",
       "      <td>0.349654</td>\n",
       "    </tr>\n",
       "    <tr>\n",
       "      <th>SVM</th>\n",
       "      <td>0.403252</td>\n",
       "      <td>0.246034</td>\n",
       "    </tr>\n",
       "    <tr>\n",
       "      <th>Gradientboost</th>\n",
       "      <td>0.384726</td>\n",
       "      <td>0.209886</td>\n",
       "    </tr>\n",
       "    <tr>\n",
       "      <th>ExtraTreesClassifier</th>\n",
       "      <td>0.374846</td>\n",
       "      <td>0.186009</td>\n",
       "    </tr>\n",
       "    <tr>\n",
       "      <th>Logistic Regression</th>\n",
       "      <td>0.388843</td>\n",
       "      <td>0.185906</td>\n",
       "    </tr>\n",
       "    <tr>\n",
       "      <th>Adaboost</th>\n",
       "      <td>0.370935</td>\n",
       "      <td>0.145892</td>\n",
       "    </tr>\n",
       "    <tr>\n",
       "      <th>Gaussian NB</th>\n",
       "      <td>0.363936</td>\n",
       "      <td>0.132510</td>\n",
       "    </tr>\n",
       "  </tbody>\n",
       "</table>\n",
       "</div>"
      ],
      "text/plain": [
       "                          Accuracy Score  F1 Score\n",
       "Decision Tree Classifier        0.510704  0.584803\n",
       "ExtremeGradientBoost            0.478386  0.506043\n",
       "KNN                             0.470152  0.503472\n",
       "BaggingClassifier               0.423425  0.386418\n",
       "Random Forest                   0.420338  0.349654\n",
       "SVM                             0.403252  0.246034\n",
       "Gradientboost                   0.384726  0.209886\n",
       "ExtraTreesClassifier            0.374846  0.186009\n",
       "Logistic Regression             0.388843  0.185906\n",
       "Adaboost                        0.370935  0.145892\n",
       "Gaussian NB                     0.363936  0.132510"
      ]
     },
     "execution_count": 71,
     "metadata": {},
     "output_type": "execute_result"
    }
   ],
   "source": [
    "runmodels(models,training_dataframe_x_allwaves,training_dataframe_y_allwaves,testing_dataframe_x_allwaves,testing_dataframe_y_allwaves)\n"
   ]
  },
  {
   "cell_type": "markdown",
   "id": "8a14177b",
   "metadata": {},
   "source": [
    "## Section 4.0 Combination 3\n",
    "* In this section, we be combine both Luqman's and YuXiang Data, we introduce each other patterns into the machine learning model, and see if they are able to predict each other's song acccurately. "
   ]
  },
  {
   "cell_type": "markdown",
   "id": "63e6b2ab",
   "metadata": {},
   "source": [
    "### Section 4.1 Preparation of Dataset for Performance Metrics, Beta Waves and All Brain Waves "
   ]
  },
  {
   "cell_type": "code",
   "execution_count": 72,
   "id": "9c430127",
   "metadata": {},
   "outputs": [],
   "source": [
    "# Performance Metrics ####################################################################################\n",
    "combined_pm_df_yuxiang_6 = pd.concat([pm_df_yuxiang_6,add_df_yuxiang_6_df],axis=1)\n",
    "combined_pm_df_luqman_6 = pd.concat([pm_df_luqman_6, add_df_luqman_6_df],axis=1)\n",
    "combined_yuxiang_luqman_6 = pd.concat([combined_pm_df_yuxiang_6,combined_pm_df_luqman_6],axis=0)\n",
    "\n",
    "# Beta Waves #############################################################################################\n",
    "combined_beta_df_yuxiang_6 = pd.concat([beta_yuxiang_6_df,add_df_yuxiang_6_df],axis=1)\n",
    "combined_beta_df_luqman_6 = pd.concat([beta_luqman_6_df, add_df_luqman_6_df],axis=1)\n",
    "combined_yuxiang_luqman_beta_6 = pd.concat([combined_beta_df_yuxiang_6,combined_beta_df_luqman_6],axis=0)\n",
    "\n",
    "# All Brain Waves  ########################################################################################\n",
    "combined_other_df_yuxiang_6 = pd.concat([other_brain_yuxiang_6_df,add_df_yuxiang_6_df],axis=1)\n",
    "combined_other_df_luqman_6 = pd.concat([other_brain_luqman_6_df, add_df_luqman_6_df],axis=1)\n",
    "combined_yuxiang_luqman_other_6 = pd.concat([combined_other_df_yuxiang_6,combined_other_df_luqman_6],axis=0)\n",
    "\n"
   ]
  },
  {
   "cell_type": "markdown",
   "id": "5669b661",
   "metadata": {},
   "source": [
    "### Section 4.2 Cleaning of Dataset for Performance Metrics "
   ]
  },
  {
   "cell_type": "code",
   "execution_count": 73,
   "id": "7b9ed1fa",
   "metadata": {},
   "outputs": [],
   "source": [
    "# Drop any NA Columns\n",
    "combined_yuxiang_luqman_6.dropna( axis=0, inplace=True)\n",
    "# Filter of EQ level is less than 90\n",
    "combined_yuxiang_luqman_6 = combined_yuxiang_luqman_6.drop(combined_yuxiang_luqman_6[combined_yuxiang_luqman_6[\"EQ.OVERALL.New\"]<90].index)"
   ]
  },
  {
   "cell_type": "markdown",
   "id": "22d274e9",
   "metadata": {},
   "source": [
    "### Section 4.3 Preparation of Training Model "
   ]
  },
  {
   "cell_type": "code",
   "execution_count": 74,
   "id": "64c88c30",
   "metadata": {},
   "outputs": [],
   "source": [
    "# THIS IS DONE MANUALLY BY TAKING INTO ACCOUNT THE NUMEBR OF ROW\n",
    "# 80% of the data: 1299\n",
    "trainingdata_combination2 = [40,33,41,34,42,39,32,37]\n",
    "# 20 % of the data: 431\n",
    "testingdata_combination2 = [35,36,38]"
   ]
  },
  {
   "cell_type": "code",
   "execution_count": 75,
   "id": "8c8403ce",
   "metadata": {},
   "outputs": [
    {
     "data": {
      "text/plain": [
       "40.0    318\n",
       "41.0    314\n",
       "42.0    300\n",
       "39.0    282\n",
       "37.0    164\n",
       "33.0     14\n",
       "34.0     14\n",
       "32.0     14\n",
       "Name: Song, dtype: int64"
      ]
     },
     "execution_count": 75,
     "metadata": {},
     "output_type": "execute_result"
    }
   ],
   "source": [
    "# Generating the dataset for the training data\n",
    "training_dataframe_combination2 = pd.DataFrame(columns=['PM.Engagement.Scaled','PM.Excitement.Scaled','PM.Stress.Scaled','PM.Relaxation.Scaled','PM.Interest.Scaled','PM.Focus.Scaled','Timestamp','OriginalTimestamp','EQ.OVERALL.New','Target','Song'])\n",
    "for item in trainingdata_combination2:\n",
    "    dummyframe = combined_yuxiang_luqman_6[combined_yuxiang_luqman_6['Song'] == item]\n",
    "    training_dataframe_combination2 = pd.concat([training_dataframe_combination2,dummyframe],axis=0)\n",
    "training_dataframe_combination2[\"Song\"].value_counts()\n"
   ]
  },
  {
   "cell_type": "code",
   "execution_count": 76,
   "id": "ca2a99bd",
   "metadata": {},
   "outputs": [
    {
     "data": {
      "text/plain": [
       "38.0    211\n",
       "36.0     57\n",
       "35.0     42\n",
       "Name: Song, dtype: int64"
      ]
     },
     "execution_count": 76,
     "metadata": {},
     "output_type": "execute_result"
    }
   ],
   "source": [
    "# Generating the dataset for the training data\n",
    "testing_dataframe_combination2 = pd.DataFrame(columns=['PM.Engagement.Scaled','PM.Excitement.Scaled','PM.Stress.Scaled','PM.Relaxation.Scaled','PM.Interest.Scaled','PM.Focus.Scaled','Timestamp','OriginalTimestamp','EQ.OVERALL.New','Target','Song'])\n",
    "for item in testingdata_combination2:\n",
    "    dummyframe = combined_yuxiang_luqman_6[combined_yuxiang_luqman_6['Song'] == item]\n",
    "    testing_dataframe_combination2 = pd.concat([testing_dataframe_combination2,dummyframe],axis=0)\n",
    "testing_dataframe_combination2[\"Song\"].value_counts()"
   ]
  },
  {
   "cell_type": "code",
   "execution_count": 77,
   "id": "e370e522",
   "metadata": {},
   "outputs": [],
   "source": [
    "training_dataframe_x_combination_2= training_dataframe_combination2.drop(columns=['Timestamp','OriginalTimestamp','Target','EQ.OVERALL.New','Song'])\n",
    "training_dataframe_y_combination2 = training_dataframe_combination2['Target']\n",
    "testing_dataframe_x_combination2 = testing_dataframe_combination2.drop(columns=['Timestamp','OriginalTimestamp','Target','EQ.OVERALL.New','Song'])\n",
    "testing_dataframe_y_combination2 = testing_dataframe_combination2['Target']"
   ]
  },
  {
   "cell_type": "code",
   "execution_count": 78,
   "id": "fff2ae99",
   "metadata": {},
   "outputs": [
    {
     "data": {
      "text/html": [
       "<div>\n",
       "<style scoped>\n",
       "    .dataframe tbody tr th:only-of-type {\n",
       "        vertical-align: middle;\n",
       "    }\n",
       "\n",
       "    .dataframe tbody tr th {\n",
       "        vertical-align: top;\n",
       "    }\n",
       "\n",
       "    .dataframe thead th {\n",
       "        text-align: right;\n",
       "    }\n",
       "</style>\n",
       "<table border=\"1\" class=\"dataframe\">\n",
       "  <thead>\n",
       "    <tr style=\"text-align: right;\">\n",
       "      <th></th>\n",
       "      <th>Accuracy Score</th>\n",
       "      <th>F1 Score</th>\n",
       "    </tr>\n",
       "  </thead>\n",
       "  <tbody>\n",
       "    <tr>\n",
       "      <th>Decision Tree Classifier</th>\n",
       "      <td>0.532258</td>\n",
       "      <td>0.647202</td>\n",
       "    </tr>\n",
       "    <tr>\n",
       "      <th>KNN</th>\n",
       "      <td>0.525806</td>\n",
       "      <td>0.614173</td>\n",
       "    </tr>\n",
       "    <tr>\n",
       "      <th>BaggingClassifier</th>\n",
       "      <td>0.496774</td>\n",
       "      <td>0.573770</td>\n",
       "    </tr>\n",
       "    <tr>\n",
       "      <th>Logistic Regression</th>\n",
       "      <td>0.393548</td>\n",
       "      <td>0.520408</td>\n",
       "    </tr>\n",
       "    <tr>\n",
       "      <th>ExtremeGradientBoost</th>\n",
       "      <td>0.400000</td>\n",
       "      <td>0.502674</td>\n",
       "    </tr>\n",
       "    <tr>\n",
       "      <th>ExtraTreesClassifier</th>\n",
       "      <td>0.377419</td>\n",
       "      <td>0.437318</td>\n",
       "    </tr>\n",
       "    <tr>\n",
       "      <th>Gradientboost</th>\n",
       "      <td>0.358065</td>\n",
       "      <td>0.426513</td>\n",
       "    </tr>\n",
       "    <tr>\n",
       "      <th>Random Forest</th>\n",
       "      <td>0.374194</td>\n",
       "      <td>0.408537</td>\n",
       "    </tr>\n",
       "    <tr>\n",
       "      <th>SVM</th>\n",
       "      <td>0.303226</td>\n",
       "      <td>0.341463</td>\n",
       "    </tr>\n",
       "    <tr>\n",
       "      <th>Gaussian NB</th>\n",
       "      <td>0.248387</td>\n",
       "      <td>0.339943</td>\n",
       "    </tr>\n",
       "    <tr>\n",
       "      <th>Adaboost</th>\n",
       "      <td>0.296774</td>\n",
       "      <td>0.318750</td>\n",
       "    </tr>\n",
       "  </tbody>\n",
       "</table>\n",
       "</div>"
      ],
      "text/plain": [
       "                          Accuracy Score  F1 Score\n",
       "Decision Tree Classifier        0.532258  0.647202\n",
       "KNN                             0.525806  0.614173\n",
       "BaggingClassifier               0.496774  0.573770\n",
       "Logistic Regression             0.393548  0.520408\n",
       "ExtremeGradientBoost            0.400000  0.502674\n",
       "ExtraTreesClassifier            0.377419  0.437318\n",
       "Gradientboost                   0.358065  0.426513\n",
       "Random Forest                   0.374194  0.408537\n",
       "SVM                             0.303226  0.341463\n",
       "Gaussian NB                     0.248387  0.339943\n",
       "Adaboost                        0.296774  0.318750"
      ]
     },
     "execution_count": 78,
     "metadata": {},
     "output_type": "execute_result"
    }
   ],
   "source": [
    "runmodels(models,training_dataframe_x_combination_2,training_dataframe_y_combination2,testing_dataframe_x_combination2,testing_dataframe_y_combination2)\n"
   ]
  },
  {
   "cell_type": "markdown",
   "id": "945c5885",
   "metadata": {},
   "source": [
    "### Section 4.4 Cleaning of Beta Training Model "
   ]
  },
  {
   "cell_type": "code",
   "execution_count": 79,
   "id": "5e5a5105",
   "metadata": {},
   "outputs": [],
   "source": [
    "# Drop any NA Columns\n",
    "combined_yuxiang_luqman_beta_6.dropna( axis=0, inplace=True)\n",
    "# Filter of EQ level is less than 90\n",
    "combined_yuxiang_luqman_beta_6 = combined_yuxiang_luqman_beta_6.drop(combined_yuxiang_luqman_beta_6[combined_yuxiang_luqman_beta_6[\"EQ.OVERALL.New\"]<90].index)\n",
    "\n"
   ]
  },
  {
   "cell_type": "code",
   "execution_count": 80,
   "id": "e8bbc23f",
   "metadata": {},
   "outputs": [],
   "source": [
    "# THIS IS DONE MANUALLY BY TAKING INTO ACCOUNT THE NUMEBR OF ROW\n",
    "# 75% of the data: 1299\n",
    "trainingdata_combination2_beta = [40,33,41,34,42,39,32,35,37]\n",
    "# 25 % of the data: 431\n",
    "testingdata_combination2_beta = [36,38]"
   ]
  },
  {
   "cell_type": "code",
   "execution_count": 81,
   "id": "5292ec31",
   "metadata": {},
   "outputs": [
    {
     "data": {
      "text/plain": [
       "5850"
      ]
     },
     "execution_count": 81,
     "metadata": {},
     "output_type": "execute_result"
    }
   ],
   "source": [
    "# Generating the dataset for the training data (beta combination2)\n",
    "training_dataframe_combination2_beta= pd.DataFrame(columns=combined_yuxiang_luqman_beta_6.columns)\n",
    "for item in trainingdata_combination2_beta:\n",
    "    dummyframe = combined_yuxiang_luqman_beta_6[combined_yuxiang_luqman_beta_6['Song'] == item]\n",
    "#     print(dummyframe)\n",
    "    training_dataframe_combination2_beta = pd.concat([training_dataframe_combination2_beta,dummyframe],axis=0)\n",
    "    \n",
    "training_dataframe_combination2_beta[\"Song\"].value_counts().sum()\n"
   ]
  },
  {
   "cell_type": "code",
   "execution_count": 82,
   "id": "f53eb37c",
   "metadata": {},
   "outputs": [
    {
     "data": {
      "text/plain": [
       "1071"
      ]
     },
     "execution_count": 82,
     "metadata": {},
     "output_type": "execute_result"
    }
   ],
   "source": [
    "# Generating the dataset for the testing data (beta combination2)\n",
    "testing_dataframe_combination2_beta = pd.DataFrame(columns=combined_yuxiang_luqman_beta_6.columns)\n",
    "for item in testingdata_combination2_beta:\n",
    "    dummyframe = combined_yuxiang_luqman_beta_6[combined_yuxiang_luqman_beta_6['Song'] == item]\n",
    "    testing_dataframe_combination2_beta = pd.concat([testing_dataframe_combination2_beta,dummyframe],axis=0)\n",
    "    \n",
    "testing_dataframe_combination2_beta['Song'].value_counts().sum()"
   ]
  },
  {
   "cell_type": "markdown",
   "id": "32b7bddc",
   "metadata": {},
   "source": [
    "### Section 4.5 Preparation of Training Model "
   ]
  },
  {
   "cell_type": "code",
   "execution_count": 83,
   "id": "3e3a8c4d",
   "metadata": {},
   "outputs": [],
   "source": [
    "training_dataframe_x_combination2_beta= training_dataframe_combination2_beta.drop(columns=['Timestamp','OriginalTimestamp','Target','EQ.OVERALL.New','Song'])\n",
    "training_dataframe_y_combination2_beta = training_dataframe_combination2_beta['Target']\n",
    "testing_dataframe_x_combination2_beta = testing_dataframe_combination2_beta.drop(columns=['Timestamp','OriginalTimestamp','Target','EQ.OVERALL.New','Song'])\n",
    "testing_dataframe_y_combination2_beta = testing_dataframe_combination2_beta['Target']\n"
   ]
  },
  {
   "cell_type": "code",
   "execution_count": 84,
   "id": "2d5a42c3",
   "metadata": {},
   "outputs": [
    {
     "data": {
      "text/plain": [
       "(6921, 28)"
      ]
     },
     "execution_count": 84,
     "metadata": {},
     "output_type": "execute_result"
    }
   ],
   "source": [
    "all_x_beta_combi3 = pd.concat([training_dataframe_x_combination2_beta,testing_dataframe_x_combination2_beta])\n",
    "all_x_beta_combi3.shape"
   ]
  },
  {
   "cell_type": "markdown",
   "id": "42436e46",
   "metadata": {},
   "source": [
    "### Section 4.6 Dimensionality - Reduction Method Training Models (PCA-Beta Waves)"
   ]
  },
  {
   "cell_type": "code",
   "execution_count": 85,
   "id": "316df29f",
   "metadata": {},
   "outputs": [],
   "source": [
    "# Perform PCA (Reduce number of features)\n",
    "\n",
    "pca_46 = PCA(n_components=0.95)\n",
    "pca_components46 = pca_46.fit_transform(all_x_beta_combi3)"
   ]
  },
  {
   "cell_type": "code",
   "execution_count": 86,
   "id": "bb7aa41a",
   "metadata": {},
   "outputs": [
    {
     "data": {
      "text/plain": [
       "14"
      ]
     },
     "execution_count": 86,
     "metadata": {},
     "output_type": "execute_result"
    }
   ],
   "source": [
    "len(pca_46.components_)"
   ]
  },
  {
   "cell_type": "code",
   "execution_count": 87,
   "id": "70116a57",
   "metadata": {},
   "outputs": [
    {
     "data": {
      "image/png": "[encoded data removed]",
      "text/plain": [
       "<Figure size 640x480 with 1 Axes>"
      ]
     },
     "metadata": {},
     "output_type": "display_data"
    }
   ],
   "source": [
    "explained_variance = pca_46.explained_variance_ratio_\n",
    "plt.plot(explained_variance)\n",
    "plt.show()"
   ]
  },
  {
   "cell_type": "code",
   "execution_count": 88,
   "id": "0332c146",
   "metadata": {},
   "outputs": [],
   "source": [
    "column_list = []\n",
    "for i in range(14):\n",
    "    col_name = \"PC\" + str(i+1)\n",
    "    column_list.append(col_name)\n",
    "    \n",
    "pca_all_waves_df46 = pd.DataFrame(pca_components46, columns=column_list)"
   ]
  },
  {
   "cell_type": "code",
   "execution_count": 89,
   "id": "a1e33fbe",
   "metadata": {},
   "outputs": [],
   "source": [
    "training_dataframe_x_beta_combi3 = pca_all_waves_df46.drop(pca_all_waves_df46.tail(1071).index)\n",
    "training_dataframe_y_beta_combi3 = training_dataframe_combination2_beta['Target']\n",
    "testing_dataframe_x_beta_combi3 = pca_all_waves_df46.tail(1071)\n",
    "testing_dataframe_y_beta_combi3 = testing_dataframe_combination2_beta['Target']"
   ]
  },
  {
   "cell_type": "code",
   "execution_count": 90,
   "id": "6a37b270",
   "metadata": {},
   "outputs": [
    {
     "data": {
      "text/html": [
       "<div>\n",
       "<style scoped>\n",
       "    .dataframe tbody tr th:only-of-type {\n",
       "        vertical-align: middle;\n",
       "    }\n",
       "\n",
       "    .dataframe tbody tr th {\n",
       "        vertical-align: top;\n",
       "    }\n",
       "\n",
       "    .dataframe thead th {\n",
       "        text-align: right;\n",
       "    }\n",
       "</style>\n",
       "<table border=\"1\" class=\"dataframe\">\n",
       "  <thead>\n",
       "    <tr style=\"text-align: right;\">\n",
       "      <th></th>\n",
       "      <th>Accuracy Score</th>\n",
       "      <th>F1 Score</th>\n",
       "    </tr>\n",
       "  </thead>\n",
       "  <tbody>\n",
       "    <tr>\n",
       "      <th>Random Forest</th>\n",
       "      <td>0.556489</td>\n",
       "      <td>0.648928</td>\n",
       "    </tr>\n",
       "    <tr>\n",
       "      <th>ExtraTreesClassifier</th>\n",
       "      <td>0.549020</td>\n",
       "      <td>0.648216</td>\n",
       "    </tr>\n",
       "    <tr>\n",
       "      <th>SVM</th>\n",
       "      <td>0.545285</td>\n",
       "      <td>0.633007</td>\n",
       "    </tr>\n",
       "    <tr>\n",
       "      <th>Logistic Regression</th>\n",
       "      <td>0.542484</td>\n",
       "      <td>0.628225</td>\n",
       "    </tr>\n",
       "    <tr>\n",
       "      <th>Decision Tree Classifier</th>\n",
       "      <td>0.523810</td>\n",
       "      <td>0.615964</td>\n",
       "    </tr>\n",
       "    <tr>\n",
       "      <th>Gradientboost</th>\n",
       "      <td>0.521942</td>\n",
       "      <td>0.609160</td>\n",
       "    </tr>\n",
       "    <tr>\n",
       "      <th>KNN</th>\n",
       "      <td>0.517274</td>\n",
       "      <td>0.595778</td>\n",
       "    </tr>\n",
       "    <tr>\n",
       "      <th>ExtremeGradientBoost</th>\n",
       "      <td>0.507937</td>\n",
       "      <td>0.594927</td>\n",
       "    </tr>\n",
       "    <tr>\n",
       "      <th>Adaboost</th>\n",
       "      <td>0.507003</td>\n",
       "      <td>0.581616</td>\n",
       "    </tr>\n",
       "    <tr>\n",
       "      <th>BaggingClassifier</th>\n",
       "      <td>0.477124</td>\n",
       "      <td>0.551282</td>\n",
       "    </tr>\n",
       "    <tr>\n",
       "      <th>Gaussian NB</th>\n",
       "      <td>0.432306</td>\n",
       "      <td>0.444241</td>\n",
       "    </tr>\n",
       "  </tbody>\n",
       "</table>\n",
       "</div>"
      ],
      "text/plain": [
       "                          Accuracy Score  F1 Score\n",
       "Random Forest                   0.556489  0.648928\n",
       "ExtraTreesClassifier            0.549020  0.648216\n",
       "SVM                             0.545285  0.633007\n",
       "Logistic Regression             0.542484  0.628225\n",
       "Decision Tree Classifier        0.523810  0.615964\n",
       "Gradientboost                   0.521942  0.609160\n",
       "KNN                             0.517274  0.595778\n",
       "ExtremeGradientBoost            0.507937  0.594927\n",
       "Adaboost                        0.507003  0.581616\n",
       "BaggingClassifier               0.477124  0.551282\n",
       "Gaussian NB                     0.432306  0.444241"
      ]
     },
     "execution_count": 90,
     "metadata": {},
     "output_type": "execute_result"
    }
   ],
   "source": [
    "runmodels(models,training_dataframe_x_beta_combi3,training_dataframe_y_beta_combi3,testing_dataframe_x_beta_combi3,testing_dataframe_y_beta_combi3)\n"
   ]
  },
  {
   "cell_type": "markdown",
   "id": "48e4c8d7",
   "metadata": {},
   "source": [
    "### Section 4.7 Preparation of All Brain Waves "
   ]
  },
  {
   "cell_type": "code",
   "execution_count": 91,
   "id": "36eb474b",
   "metadata": {},
   "outputs": [],
   "source": [
    "combined_yuxiang_luqman_other_6\n",
    "\n",
    "# Drop any NA Columns\n",
    "combined_yuxiang_luqman_other_6.dropna( axis=0, inplace=True)\n",
    "# Filter of EQ level is less than 90\n",
    "combined_yuxiang_luqman_other_6 = combined_yuxiang_luqman_other_6.drop(combined_yuxiang_luqman_other_6[combined_yuxiang_luqman_other_6[\"EQ.OVERALL.New\"]<90].index)\n",
    "\n"
   ]
  },
  {
   "cell_type": "code",
   "execution_count": 92,
   "id": "39312c8a",
   "metadata": {},
   "outputs": [],
   "source": [
    "# THIS IS DONE MANUALLY BY TAKING INTO ACCOUNT THE NUMEBR OF ROW\n",
    "# 80% of the data: 1299\n",
    "trainingdata_combination2_beta = [40,33,41,34,42,39,32,35,37]\n",
    "# 20 % of the data: 431\n",
    "testingdata_combination2_beta = [36,38]"
   ]
  },
  {
   "cell_type": "code",
   "execution_count": 93,
   "id": "410ac0de",
   "metadata": {},
   "outputs": [
    {
     "data": {
      "text/plain": [
       "5850"
      ]
     },
     "execution_count": 93,
     "metadata": {},
     "output_type": "execute_result"
    }
   ],
   "source": [
    "# Generating the dataset for the training data (beta combination2)\n",
    "training_dataframe_combination3_allwaves= pd.DataFrame(columns=combined_yuxiang_luqman_other_6.columns)\n",
    "for item in trainingdata_combination2_beta:\n",
    "    dummyframe = combined_yuxiang_luqman_other_6[combined_yuxiang_luqman_other_6['Song'] == item]\n",
    "#     print(dummyframe)\n",
    "    training_dataframe_combination3_allwaves = pd.concat([training_dataframe_combination3_allwaves,dummyframe],axis=0)\n",
    "    \n",
    "training_dataframe_combination3_allwaves[\"Song\"].value_counts().sum()"
   ]
  },
  {
   "cell_type": "code",
   "execution_count": 94,
   "id": "6b28590a",
   "metadata": {},
   "outputs": [
    {
     "data": {
      "text/plain": [
       "1071"
      ]
     },
     "execution_count": 94,
     "metadata": {},
     "output_type": "execute_result"
    }
   ],
   "source": [
    "# Generating the dataset for the testing data (beta combination2)\n",
    "testing_dataframe_combination3_allwaves = pd.DataFrame(columns=combined_yuxiang_luqman_other_6.columns)\n",
    "for item in testingdata_combination2_beta:\n",
    "    dummyframe = combined_yuxiang_luqman_other_6[combined_yuxiang_luqman_other_6['Song'] == item]\n",
    "    testing_dataframe_combination3_allwaves = pd.concat([testing_dataframe_combination3_allwaves,dummyframe],axis=0)\n",
    "    \n",
    "testing_dataframe_combination3_allwaves['Song'].value_counts().sum()"
   ]
  },
  {
   "cell_type": "code",
   "execution_count": 95,
   "id": "368200fd",
   "metadata": {},
   "outputs": [],
   "source": [
    "training_dataframe_x_combination3_allwaves= training_dataframe_combination3_allwaves.drop(columns=['Timestamp','OriginalTimestamp','Target','EQ.OVERALL.New','Song'])\n",
    "training_dataframe_y_combination3_allwaves = training_dataframe_combination3_allwaves['Target']\n",
    "testing_dataframe_x_combination3_allwaves = testing_dataframe_combination3_allwaves.drop(columns=['Timestamp','OriginalTimestamp','Target','EQ.OVERALL.New','Song'])\n",
    "testing_dataframe_y_combination3_allwaves = testing_dataframe_combination3_allwaves['Target']\n",
    "\n"
   ]
  },
  {
   "cell_type": "code",
   "execution_count": 96,
   "id": "c7ff012c",
   "metadata": {},
   "outputs": [
    {
     "data": {
      "text/plain": [
       "(6921, 70)"
      ]
     },
     "execution_count": 96,
     "metadata": {},
     "output_type": "execute_result"
    }
   ],
   "source": [
    "all_x_beta_combi3_allwaves = pd.concat([training_dataframe_x_combination3_allwaves,testing_dataframe_x_combination3_allwaves])\n",
    "all_x_beta_combi3_allwaves.shape\n"
   ]
  },
  {
   "cell_type": "markdown",
   "id": "46ea4f1d",
   "metadata": {},
   "source": [
    "### Section 4.8 Dimensionality - Reduction Method Training Models (PCA-All Waves)"
   ]
  },
  {
   "cell_type": "code",
   "execution_count": 97,
   "id": "47226cee",
   "metadata": {},
   "outputs": [],
   "source": [
    "# Perform PCA (Reduce number of features)\n",
    "\n",
    "pca_48 = PCA(n_components=0.95)\n",
    "pca_components48 = pca_48.fit_transform(all_x_beta_combi3_allwaves)"
   ]
  },
  {
   "cell_type": "code",
   "execution_count": 98,
   "id": "fe14de1b",
   "metadata": {},
   "outputs": [
    {
     "data": {
      "text/plain": [
       "13"
      ]
     },
     "execution_count": 98,
     "metadata": {},
     "output_type": "execute_result"
    }
   ],
   "source": [
    "len(pca_48.components_)"
   ]
  },
  {
   "cell_type": "code",
   "execution_count": 99,
   "id": "5a877a1f",
   "metadata": {},
   "outputs": [
    {
     "data": {
      "image/png": "[encoded data removed]",
      "text/plain": [
       "<Figure size 640x480 with 1 Axes>"
      ]
     },
     "metadata": {},
     "output_type": "display_data"
    }
   ],
   "source": [
    "explained_variance = pca_48.explained_variance_ratio_\n",
    "plt.plot(explained_variance)\n",
    "plt.show()"
   ]
  },
  {
   "cell_type": "code",
   "execution_count": 100,
   "id": "fb983e3c",
   "metadata": {},
   "outputs": [],
   "source": [
    "column_list = []\n",
    "for i in range(13):\n",
    "    col_name = \"PC\" + str(i+1)\n",
    "    column_list.append(col_name)\n",
    "    \n",
    "pca_all_waves_df48 = pd.DataFrame(pca_components48, columns=column_list)"
   ]
  },
  {
   "cell_type": "code",
   "execution_count": 101,
   "id": "f38721bb",
   "metadata": {},
   "outputs": [],
   "source": [
    "training_dataframe_x_allwaves_combi3 = pca_all_waves_df48.drop(pca_all_waves_df48.tail(1071).index)\n",
    "training_dataframe_y_allwaves_combi3 = training_dataframe_combination3_allwaves['Target']\n",
    "testing_dataframe_x_allwaves_combi3 = pca_all_waves_df48.tail(1071)\n",
    "testing_dataframe_y_allwaves_combi3 = testing_dataframe_combination3_allwaves['Target']"
   ]
  },
  {
   "cell_type": "code",
   "execution_count": 102,
   "id": "1ffc974b",
   "metadata": {},
   "outputs": [
    {
     "data": {
      "text/html": [
       "<div>\n",
       "<style scoped>\n",
       "    .dataframe tbody tr th:only-of-type {\n",
       "        vertical-align: middle;\n",
       "    }\n",
       "\n",
       "    .dataframe tbody tr th {\n",
       "        vertical-align: top;\n",
       "    }\n",
       "\n",
       "    .dataframe thead th {\n",
       "        text-align: right;\n",
       "    }\n",
       "</style>\n",
       "<table border=\"1\" class=\"dataframe\">\n",
       "  <thead>\n",
       "    <tr style=\"text-align: right;\">\n",
       "      <th></th>\n",
       "      <th>Accuracy Score</th>\n",
       "      <th>F1 Score</th>\n",
       "    </tr>\n",
       "  </thead>\n",
       "  <tbody>\n",
       "    <tr>\n",
       "      <th>Gaussian NB</th>\n",
       "      <td>0.672269</td>\n",
       "      <td>0.760082</td>\n",
       "    </tr>\n",
       "    <tr>\n",
       "      <th>SVM</th>\n",
       "      <td>0.557423</td>\n",
       "      <td>0.650957</td>\n",
       "    </tr>\n",
       "    <tr>\n",
       "      <th>Logistic Regression</th>\n",
       "      <td>0.546218</td>\n",
       "      <td>0.644217</td>\n",
       "    </tr>\n",
       "    <tr>\n",
       "      <th>ExtraTreesClassifier</th>\n",
       "      <td>0.533147</td>\n",
       "      <td>0.635036</td>\n",
       "    </tr>\n",
       "    <tr>\n",
       "      <th>Random Forest</th>\n",
       "      <td>0.535948</td>\n",
       "      <td>0.628827</td>\n",
       "    </tr>\n",
       "    <tr>\n",
       "      <th>Gradientboost</th>\n",
       "      <td>0.526611</td>\n",
       "      <td>0.622487</td>\n",
       "    </tr>\n",
       "    <tr>\n",
       "      <th>Adaboost</th>\n",
       "      <td>0.513539</td>\n",
       "      <td>0.610904</td>\n",
       "    </tr>\n",
       "    <tr>\n",
       "      <th>KNN</th>\n",
       "      <td>0.527544</td>\n",
       "      <td>0.599049</td>\n",
       "    </tr>\n",
       "    <tr>\n",
       "      <th>ExtremeGradientBoost</th>\n",
       "      <td>0.500467</td>\n",
       "      <td>0.596835</td>\n",
       "    </tr>\n",
       "    <tr>\n",
       "      <th>Decision Tree Classifier</th>\n",
       "      <td>0.492997</td>\n",
       "      <td>0.576112</td>\n",
       "    </tr>\n",
       "    <tr>\n",
       "      <th>BaggingClassifier</th>\n",
       "      <td>0.478992</td>\n",
       "      <td>0.547812</td>\n",
       "    </tr>\n",
       "  </tbody>\n",
       "</table>\n",
       "</div>"
      ],
      "text/plain": [
       "                          Accuracy Score  F1 Score\n",
       "Gaussian NB                     0.672269  0.760082\n",
       "SVM                             0.557423  0.650957\n",
       "Logistic Regression             0.546218  0.644217\n",
       "ExtraTreesClassifier            0.533147  0.635036\n",
       "Random Forest                   0.535948  0.628827\n",
       "Gradientboost                   0.526611  0.622487\n",
       "Adaboost                        0.513539  0.610904\n",
       "KNN                             0.527544  0.599049\n",
       "ExtremeGradientBoost            0.500467  0.596835\n",
       "Decision Tree Classifier        0.492997  0.576112\n",
       "BaggingClassifier               0.478992  0.547812"
      ]
     },
     "execution_count": 102,
     "metadata": {},
     "output_type": "execute_result"
    }
   ],
   "source": [
    "runmodels(models,training_dataframe_x_allwaves_combi3,training_dataframe_y_allwaves_combi3,testing_dataframe_x_allwaves_combi3,testing_dataframe_y_allwaves_combi3)\n"
   ]
  },
  {
   "cell_type": "markdown",
   "id": "a1958f4d",
   "metadata": {},
   "source": [
    "## Section 5.0 Combination 4\n",
    "* Testing of YuXiang's 36 without song aggregation, Train Test Split 80% to 20%"
   ]
  },
  {
   "cell_type": "markdown",
   "id": "e60810d4",
   "metadata": {},
   "source": [
    "### Section 5.1 Preparation of Data set for Performance Metrics, Beta Waves and All Brain Waves "
   ]
  },
  {
   "cell_type": "code",
   "execution_count": 133,
   "id": "aaeae0be",
   "metadata": {},
   "outputs": [],
   "source": [
    "# Performance Metrics ####################################################################################\n",
    "training_yuxiang_30_songs_PM = pd.concat([pm_df,add_df],axis=1)\n",
    "testing_yuxiang_6_songs_PM = pd.concat([pm_df_yuxiang_6,add_df_yuxiang_6_df],axis=1)\n",
    "\n",
    "\n",
    "# Beta Waves #############################################################################################\n",
    "training_yuxiang_30_songs_beta = pd.concat([beta_df,add_df],axis =1)\n",
    "testing_yuxiang_6_songs_beta = pd.concat([beta_yuxiang_6_df,add_df_yuxiang_6_df], axis=1)\n",
    "\n",
    "# All Brain Waves  ########################################################################################\n",
    "training_yuxiang_30_songs_all_waves = pd.concat([other_brain_df,add_df],axis =1)\n",
    "testing_yuxiang_6_songs_all_waves = pd.concat([other_brain_yuxiang_6_df,add_df_yuxiang_6_df],axis =1)\n",
    "\n"
   ]
  },
  {
   "cell_type": "markdown",
   "id": "0b99146b",
   "metadata": {},
   "source": [
    "### Section 5.2 Cleaning of Dataset for Performance Metrics "
   ]
  },
  {
   "cell_type": "code",
   "execution_count": 134,
   "id": "71e4c36e",
   "metadata": {},
   "outputs": [
    {
     "data": {
      "text/plain": [
       "(2704215, 11)"
      ]
     },
     "execution_count": 134,
     "metadata": {},
     "output_type": "execute_result"
    }
   ],
   "source": [
    "yuxiang_36_songs = pd.concat([training_yuxiang_30_songs_PM,testing_yuxiang_6_songs_PM],axis=0)\n",
    "yuxiang_36_songs.shape"
   ]
  },
  {
   "cell_type": "code",
   "execution_count": 135,
   "id": "cd2b5790",
   "metadata": {},
   "outputs": [
    {
     "data": {
      "text/plain": [
       "(6024, 11)"
      ]
     },
     "execution_count": 135,
     "metadata": {},
     "output_type": "execute_result"
    }
   ],
   "source": [
    "yuxiang_36_songs.dropna(how=\"any\", axis=0, inplace=True)\n",
    "yuxiang_36_songs = yuxiang_36_songs.drop(yuxiang_36_songs[yuxiang_36_songs[\"EQ.OVERALL.New\"] < 90].index)\n",
    "yuxiang_36_songs.shape\n"
   ]
  },
  {
   "cell_type": "markdown",
   "id": "da3eca72",
   "metadata": {},
   "source": [
    "### Section 5.3 Preparation of Training Model"
   ]
  },
  {
   "cell_type": "code",
   "execution_count": 136,
   "id": "f0216f5e",
   "metadata": {},
   "outputs": [
    {
     "data": {
      "text/plain": [
       "(6024,)"
      ]
     },
     "execution_count": 136,
     "metadata": {},
     "output_type": "execute_result"
    }
   ],
   "source": [
    "dataframe_x= yuxiang_36_songs.drop(columns=['Timestamp','OriginalTimestamp','Target','EQ.OVERALL.New','Song'])\n",
    "dataframe_y = yuxiang_36_songs['Target']\n",
    "\n",
    "dataframe_y.shape"
   ]
  },
  {
   "cell_type": "code",
   "execution_count": 137,
   "id": "3d29512b",
   "metadata": {},
   "outputs": [],
   "source": [
    "X_train, X_test, y_train, Y_test = train_test_split(dataframe_x, dataframe_y, test_size=0.20, random_state=101)\n"
   ]
  },
  {
   "cell_type": "code",
   "execution_count": 138,
   "id": "58ac6d02",
   "metadata": {},
   "outputs": [
    {
     "data": {
      "text/html": [
       "<div>\n",
       "<style scoped>\n",
       "    .dataframe tbody tr th:only-of-type {\n",
       "        vertical-align: middle;\n",
       "    }\n",
       "\n",
       "    .dataframe tbody tr th {\n",
       "        vertical-align: top;\n",
       "    }\n",
       "\n",
       "    .dataframe thead th {\n",
       "        text-align: right;\n",
       "    }\n",
       "</style>\n",
       "<table border=\"1\" class=\"dataframe\">\n",
       "  <thead>\n",
       "    <tr style=\"text-align: right;\">\n",
       "      <th></th>\n",
       "      <th>Accuracy Score</th>\n",
       "      <th>F1 Score</th>\n",
       "    </tr>\n",
       "  </thead>\n",
       "  <tbody>\n",
       "    <tr>\n",
       "      <th>ExtraTreesClassifier</th>\n",
       "      <td>0.940249</td>\n",
       "      <td>0.916084</td>\n",
       "    </tr>\n",
       "    <tr>\n",
       "      <th>Random Forest</th>\n",
       "      <td>0.917012</td>\n",
       "      <td>0.881797</td>\n",
       "    </tr>\n",
       "    <tr>\n",
       "      <th>ExtremeGradientBoost</th>\n",
       "      <td>0.885477</td>\n",
       "      <td>0.839161</td>\n",
       "    </tr>\n",
       "    <tr>\n",
       "      <th>BaggingClassifier</th>\n",
       "      <td>0.882988</td>\n",
       "      <td>0.825279</td>\n",
       "    </tr>\n",
       "    <tr>\n",
       "      <th>KNN</th>\n",
       "      <td>0.863900</td>\n",
       "      <td>0.811927</td>\n",
       "    </tr>\n",
       "    <tr>\n",
       "      <th>Decision Tree Classifier</th>\n",
       "      <td>0.827386</td>\n",
       "      <td>0.760369</td>\n",
       "    </tr>\n",
       "    <tr>\n",
       "      <th>Gradientboost</th>\n",
       "      <td>0.730290</td>\n",
       "      <td>0.512744</td>\n",
       "    </tr>\n",
       "    <tr>\n",
       "      <th>Gaussian NB</th>\n",
       "      <td>0.596680</td>\n",
       "      <td>0.494802</td>\n",
       "    </tr>\n",
       "    <tr>\n",
       "      <th>Adaboost</th>\n",
       "      <td>0.655602</td>\n",
       "      <td>0.383358</td>\n",
       "    </tr>\n",
       "    <tr>\n",
       "      <th>SVM</th>\n",
       "      <td>0.643154</td>\n",
       "      <td>0.107884</td>\n",
       "    </tr>\n",
       "    <tr>\n",
       "      <th>Logistic Regression</th>\n",
       "      <td>0.633195</td>\n",
       "      <td>0.034934</td>\n",
       "    </tr>\n",
       "  </tbody>\n",
       "</table>\n",
       "</div>"
      ],
      "text/plain": [
       "                          Accuracy Score  F1 Score\n",
       "ExtraTreesClassifier            0.940249  0.916084\n",
       "Random Forest                   0.917012  0.881797\n",
       "ExtremeGradientBoost            0.885477  0.839161\n",
       "BaggingClassifier               0.882988  0.825279\n",
       "KNN                             0.863900  0.811927\n",
       "Decision Tree Classifier        0.827386  0.760369\n",
       "Gradientboost                   0.730290  0.512744\n",
       "Gaussian NB                     0.596680  0.494802\n",
       "Adaboost                        0.655602  0.383358\n",
       "SVM                             0.643154  0.107884\n",
       "Logistic Regression             0.633195  0.034934"
      ]
     },
     "execution_count": 138,
     "metadata": {},
     "output_type": "execute_result"
    }
   ],
   "source": [
    "runmodels(models,X_train,y_train,X_test,Y_test)"
   ]
  },
  {
   "cell_type": "markdown",
   "id": "3d770e8f",
   "metadata": {},
   "source": [
    "### Section 5.4 Cleaning of Dataset for Beta Waves "
   ]
  },
  {
   "cell_type": "code",
   "execution_count": 139,
   "id": "e2c8a408",
   "metadata": {},
   "outputs": [
    {
     "data": {
      "text/plain": [
       "(2704215, 33)"
      ]
     },
     "execution_count": 139,
     "metadata": {},
     "output_type": "execute_result"
    }
   ],
   "source": [
    "yuxiang_36_songs_beta_74 = pd.concat([training_yuxiang_30_songs_beta,testing_yuxiang_6_songs_beta],axis=0)\n",
    "yuxiang_36_songs_beta_74.shape"
   ]
  },
  {
   "cell_type": "code",
   "execution_count": 140,
   "id": "a5576e63",
   "metadata": {},
   "outputs": [
    {
     "data": {
      "text/plain": [
       "(24077, 33)"
      ]
     },
     "execution_count": 140,
     "metadata": {},
     "output_type": "execute_result"
    }
   ],
   "source": [
    "yuxiang_36_songs_beta_74.dropna(how=\"any\", axis=0, inplace=True)\n",
    "yuxiang_36_songs_beta_74 = yuxiang_36_songs_beta_74.drop(yuxiang_36_songs_beta_74[yuxiang_36_songs_beta_74[\"EQ.OVERALL.New\"] < 90].index)\n",
    "yuxiang_36_songs_beta_74.shape\n"
   ]
  },
  {
   "cell_type": "markdown",
   "id": "d8893510",
   "metadata": {},
   "source": [
    "### Section 5.5 Preparation of Training Model for Beta Waves "
   ]
  },
  {
   "cell_type": "code",
   "execution_count": 141,
   "id": "208c4287",
   "metadata": {},
   "outputs": [],
   "source": [
    "dataframe_x= yuxiang_36_songs_beta_74.drop(columns=['Timestamp','OriginalTimestamp','Target','EQ.OVERALL.New','Song'])\n",
    "dataframe_y = yuxiang_36_songs_beta_74['Target']"
   ]
  },
  {
   "cell_type": "code",
   "execution_count": 142,
   "id": "353d8301",
   "metadata": {},
   "outputs": [],
   "source": [
    "X_train, X_test, y_train, Y_test = train_test_split(dataframe_x, dataframe_y, test_size=0.20, random_state=101)\n"
   ]
  },
  {
   "cell_type": "code",
   "execution_count": 143,
   "id": "e37bdbf0",
   "metadata": {},
   "outputs": [
    {
     "name": "stderr",
     "output_type": "stream",
     "text": [
      "/Users/htreborn/miniforge3/lib/python3.10/site-packages/sklearn/linear_model/_logistic.py:444: ConvergenceWarning: lbfgs failed to converge (status=1):\n",
      "STOP: TOTAL NO. of ITERATIONS REACHED LIMIT.\n",
      "\n",
      "Increase the number of iterations (max_iter) or scale the data as shown in:\n",
      "    https://scikit-learn.org/stable/modules/preprocessing.html\n",
      "Please also refer to the documentation for alternative solver options:\n",
      "    https://scikit-learn.org/stable/modules/linear_model.html#logistic-regression\n",
      "  n_iter_i = _check_optimize_result(\n"
     ]
    },
    {
     "data": {
      "text/html": [
       "<div>\n",
       "<style scoped>\n",
       "    .dataframe tbody tr th:only-of-type {\n",
       "        vertical-align: middle;\n",
       "    }\n",
       "\n",
       "    .dataframe tbody tr th {\n",
       "        vertical-align: top;\n",
       "    }\n",
       "\n",
       "    .dataframe thead th {\n",
       "        text-align: right;\n",
       "    }\n",
       "</style>\n",
       "<table border=\"1\" class=\"dataframe\">\n",
       "  <thead>\n",
       "    <tr style=\"text-align: right;\">\n",
       "      <th></th>\n",
       "      <th>Accuracy Score</th>\n",
       "      <th>F1 Score</th>\n",
       "    </tr>\n",
       "  </thead>\n",
       "  <tbody>\n",
       "    <tr>\n",
       "      <th>ExtraTreesClassifier</th>\n",
       "      <td>0.910507</td>\n",
       "      <td>0.859196</td>\n",
       "    </tr>\n",
       "    <tr>\n",
       "      <th>KNN</th>\n",
       "      <td>0.898048</td>\n",
       "      <td>0.853477</td>\n",
       "    </tr>\n",
       "    <tr>\n",
       "      <th>Random Forest</th>\n",
       "      <td>0.874377</td>\n",
       "      <td>0.793445</td>\n",
       "    </tr>\n",
       "    <tr>\n",
       "      <th>BaggingClassifier</th>\n",
       "      <td>0.823505</td>\n",
       "      <td>0.704656</td>\n",
       "    </tr>\n",
       "    <tr>\n",
       "      <th>ExtremeGradientBoost</th>\n",
       "      <td>0.813123</td>\n",
       "      <td>0.700997</td>\n",
       "    </tr>\n",
       "    <tr>\n",
       "      <th>Decision Tree Classifier</th>\n",
       "      <td>0.736296</td>\n",
       "      <td>0.632948</td>\n",
       "    </tr>\n",
       "    <tr>\n",
       "      <th>Gradientboost</th>\n",
       "      <td>0.686254</td>\n",
       "      <td>0.336408</td>\n",
       "    </tr>\n",
       "    <tr>\n",
       "      <th>Adaboost</th>\n",
       "      <td>0.660507</td>\n",
       "      <td>0.330193</td>\n",
       "    </tr>\n",
       "    <tr>\n",
       "      <th>Gaussian NB</th>\n",
       "      <td>0.612334</td>\n",
       "      <td>0.306206</td>\n",
       "    </tr>\n",
       "    <tr>\n",
       "      <th>SVM</th>\n",
       "      <td>0.691030</td>\n",
       "      <td>0.283927</td>\n",
       "    </tr>\n",
       "    <tr>\n",
       "      <th>Logistic Regression</th>\n",
       "      <td>0.649502</td>\n",
       "      <td>0.173359</td>\n",
       "    </tr>\n",
       "  </tbody>\n",
       "</table>\n",
       "</div>"
      ],
      "text/plain": [
       "                          Accuracy Score  F1 Score\n",
       "ExtraTreesClassifier            0.910507  0.859196\n",
       "KNN                             0.898048  0.853477\n",
       "Random Forest                   0.874377  0.793445\n",
       "BaggingClassifier               0.823505  0.704656\n",
       "ExtremeGradientBoost            0.813123  0.700997\n",
       "Decision Tree Classifier        0.736296  0.632948\n",
       "Gradientboost                   0.686254  0.336408\n",
       "Adaboost                        0.660507  0.330193\n",
       "Gaussian NB                     0.612334  0.306206\n",
       "SVM                             0.691030  0.283927\n",
       "Logistic Regression             0.649502  0.173359"
      ]
     },
     "execution_count": 143,
     "metadata": {},
     "output_type": "execute_result"
    }
   ],
   "source": [
    "runmodels(models,X_train,y_train,X_test,Y_test)"
   ]
  },
  {
   "cell_type": "markdown",
   "id": "00811bc3",
   "metadata": {},
   "source": [
    "### Section 5.6 Cleaning of Dataset for other Brain Waves "
   ]
  },
  {
   "cell_type": "code",
   "execution_count": 144,
   "id": "8be6d34d",
   "metadata": {},
   "outputs": [
    {
     "data": {
      "text/plain": [
       "(2704215, 75)"
      ]
     },
     "execution_count": 144,
     "metadata": {},
     "output_type": "execute_result"
    }
   ],
   "source": [
    "yuxiang_36_songs_allwaves_75 = pd.concat([training_yuxiang_30_songs_all_waves,testing_yuxiang_6_songs_all_waves],axis=0)\n",
    "yuxiang_36_songs_allwaves_75.shape\n"
   ]
  },
  {
   "cell_type": "code",
   "execution_count": 145,
   "id": "8f11a9b1",
   "metadata": {},
   "outputs": [
    {
     "data": {
      "text/plain": [
       "(24077, 75)"
      ]
     },
     "execution_count": 145,
     "metadata": {},
     "output_type": "execute_result"
    }
   ],
   "source": [
    "yuxiang_36_songs_allwaves_75.dropna(how=\"any\", axis=0, inplace=True)\n",
    "yuxiang_36_songs_allwaves_75 = yuxiang_36_songs_allwaves_75.drop(yuxiang_36_songs_allwaves_75[yuxiang_36_songs_allwaves_75[\"EQ.OVERALL.New\"] < 90].index)\n",
    "yuxiang_36_songs_allwaves_75.shape\n"
   ]
  },
  {
   "cell_type": "markdown",
   "id": "6443b422",
   "metadata": {},
   "source": [
    "### Section 5.7 Dimensionality - Reduction Method Training Model (PCA-All Waves)"
   ]
  },
  {
   "cell_type": "code",
   "execution_count": 146,
   "id": "ed90c78e",
   "metadata": {},
   "outputs": [],
   "source": [
    "dataframe_x_allwaves_combi6 = yuxiang_36_songs_allwaves_75.drop(columns=['Timestamp','OriginalTimestamp','Target','EQ.OVERALL.New','Song'])\n",
    "dataframe_y_allwaves_combi6 = yuxiang_36_songs_allwaves_75['Target']\n"
   ]
  },
  {
   "cell_type": "code",
   "execution_count": 147,
   "id": "b1c2079e",
   "metadata": {},
   "outputs": [],
   "source": [
    "pca_combi6_allwaves = PCA(n_components=0.95)\n",
    "pca_components_allwaves_combi6 = pca_combi6_allwaves.fit_transform(dataframe_x_allwaves_combi6)"
   ]
  },
  {
   "cell_type": "code",
   "execution_count": 148,
   "id": "cbc60ad8",
   "metadata": {},
   "outputs": [
    {
     "data": {
      "text/plain": [
       "11"
      ]
     },
     "execution_count": 148,
     "metadata": {},
     "output_type": "execute_result"
    }
   ],
   "source": [
    "len(pca_combi6_allwaves.components_)"
   ]
  },
  {
   "cell_type": "code",
   "execution_count": 149,
   "id": "c5e63593",
   "metadata": {},
   "outputs": [
    {
     "data": {
      "image/png": "[encoded data removed]",
      "text/plain": [
       "<Figure size 640x480 with 1 Axes>"
      ]
     },
     "metadata": {},
     "output_type": "display_data"
    }
   ],
   "source": [
    "explained_variance = pca_combi6_allwaves.explained_variance_ratio_\n",
    "plt.plot(explained_variance)\n",
    "plt.show()"
   ]
  },
  {
   "cell_type": "code",
   "execution_count": 150,
   "id": "33ae96f5",
   "metadata": {},
   "outputs": [],
   "source": [
    "# The 14 components of PCA \n",
    "column_list = []\n",
    "for i in range(11):\n",
    "    col_name = \"PC\" + str(i+1)\n",
    "    column_list.append(col_name)\n",
    "    \n",
    "pca_allwaves_df_combi6 = pd.DataFrame(pca_components_allwaves_combi6, columns=column_list)"
   ]
  },
  {
   "cell_type": "code",
   "execution_count": 151,
   "id": "879990c1",
   "metadata": {},
   "outputs": [
    {
     "data": {
      "text/plain": [
       "(24077, 11)"
      ]
     },
     "execution_count": 151,
     "metadata": {},
     "output_type": "execute_result"
    }
   ],
   "source": [
    "pca_allwaves_df_combi6.shape"
   ]
  },
  {
   "cell_type": "code",
   "execution_count": 152,
   "id": "2fdfcc1c",
   "metadata": {},
   "outputs": [],
   "source": [
    "X_train, X_test, y_train, Y_test = train_test_split(pca_allwaves_df_combi6, dataframe_y_allwaves_combi6, test_size=0.20, random_state=101)\n"
   ]
  },
  {
   "cell_type": "code",
   "execution_count": 153,
   "id": "af03e4df",
   "metadata": {},
   "outputs": [
    {
     "data": {
      "text/html": [
       "<div>\n",
       "<style scoped>\n",
       "    .dataframe tbody tr th:only-of-type {\n",
       "        vertical-align: middle;\n",
       "    }\n",
       "\n",
       "    .dataframe tbody tr th {\n",
       "        vertical-align: top;\n",
       "    }\n",
       "\n",
       "    .dataframe thead th {\n",
       "        text-align: right;\n",
       "    }\n",
       "</style>\n",
       "<table border=\"1\" class=\"dataframe\">\n",
       "  <thead>\n",
       "    <tr style=\"text-align: right;\">\n",
       "      <th></th>\n",
       "      <th>Accuracy Score</th>\n",
       "      <th>F1 Score</th>\n",
       "    </tr>\n",
       "  </thead>\n",
       "  <tbody>\n",
       "    <tr>\n",
       "      <th>ExtraTreesClassifier</th>\n",
       "      <td>0.843231</td>\n",
       "      <td>0.731603</td>\n",
       "    </tr>\n",
       "    <tr>\n",
       "      <th>KNN</th>\n",
       "      <td>0.794228</td>\n",
       "      <td>0.693474</td>\n",
       "    </tr>\n",
       "    <tr>\n",
       "      <th>Random Forest</th>\n",
       "      <td>0.822051</td>\n",
       "      <td>0.689830</td>\n",
       "    </tr>\n",
       "    <tr>\n",
       "      <th>BaggingClassifier</th>\n",
       "      <td>0.775540</td>\n",
       "      <td>0.615986</td>\n",
       "    </tr>\n",
       "    <tr>\n",
       "      <th>Decision Tree Classifier</th>\n",
       "      <td>0.702658</td>\n",
       "      <td>0.582264</td>\n",
       "    </tr>\n",
       "    <tr>\n",
       "      <th>ExtremeGradientBoost</th>\n",
       "      <td>0.724045</td>\n",
       "      <td>0.523485</td>\n",
       "    </tr>\n",
       "    <tr>\n",
       "      <th>Gradientboost</th>\n",
       "      <td>0.668812</td>\n",
       "      <td>0.230584</td>\n",
       "    </tr>\n",
       "    <tr>\n",
       "      <th>Adaboost</th>\n",
       "      <td>0.646387</td>\n",
       "      <td>0.196319</td>\n",
       "    </tr>\n",
       "    <tr>\n",
       "      <th>SVM</th>\n",
       "      <td>0.666321</td>\n",
       "      <td>0.182188</td>\n",
       "    </tr>\n",
       "    <tr>\n",
       "      <th>Gaussian NB</th>\n",
       "      <td>0.638912</td>\n",
       "      <td>0.173086</td>\n",
       "    </tr>\n",
       "    <tr>\n",
       "      <th>Logistic Regression</th>\n",
       "      <td>0.647425</td>\n",
       "      <td>0.094883</td>\n",
       "    </tr>\n",
       "  </tbody>\n",
       "</table>\n",
       "</div>"
      ],
      "text/plain": [
       "                          Accuracy Score  F1 Score\n",
       "ExtraTreesClassifier            0.843231  0.731603\n",
       "KNN                             0.794228  0.693474\n",
       "Random Forest                   0.822051  0.689830\n",
       "BaggingClassifier               0.775540  0.615986\n",
       "Decision Tree Classifier        0.702658  0.582264\n",
       "ExtremeGradientBoost            0.724045  0.523485\n",
       "Gradientboost                   0.668812  0.230584\n",
       "Adaboost                        0.646387  0.196319\n",
       "SVM                             0.666321  0.182188\n",
       "Gaussian NB                     0.638912  0.173086\n",
       "Logistic Regression             0.647425  0.094883"
      ]
     },
     "execution_count": 153,
     "metadata": {},
     "output_type": "execute_result"
    }
   ],
   "source": [
    "runmodels(models,X_train,y_train,X_test,Y_test)"
   ]
  },
  {
   "cell_type": "markdown",
   "id": "caa15bb1",
   "metadata": {},
   "source": [
    "## Section 6.0 Combination 5\n",
    "* This combine both YuXiang;s and luqman's 6 songs each without Song Aggregation but with Train Test Split "
   ]
  },
  {
   "cell_type": "markdown",
   "id": "211ce730",
   "metadata": {},
   "source": [
    "### Section 6.1 Preparation of Dataset for Performance Metrics, Beta Waves and all brain waves "
   ]
  },
  {
   "cell_type": "code",
   "execution_count": 154,
   "id": "38c2ea9c",
   "metadata": {},
   "outputs": [],
   "source": [
    "# Performance Metrics ####################################################################################\n",
    "combined_pm_df_yuxiang_6 = pd.concat([pm_df_yuxiang_6,add_df_yuxiang_6_df],axis=1)\n",
    "combined_pm_df_luqman_6 = pd.concat([pm_df_luqman_6, add_df_luqman_6_df],axis=1)\n",
    "combined_yuxiang_luqman_6 = pd.concat([combined_pm_df_yuxiang_6,combined_pm_df_luqman_6],axis=0)\n",
    "\n",
    "# Beta Waves #############################################################################################\n",
    "combined_beta_df_yuxiang_6 = pd.concat([beta_yuxiang_6_df,add_df_yuxiang_6_df],axis=1)\n",
    "combined_beta_df_luqman_6 = pd.concat([beta_luqman_6_df, add_df_luqman_6_df],axis=1)\n",
    "combined_yuxiang_luqman_beta_6 = pd.concat([combined_beta_df_yuxiang_6,combined_beta_df_luqman_6],axis=0)\n",
    "\n",
    "# All Brain Waves  ########################################################################################\n",
    "combined_other_df_yuxiang_6 = pd.concat([other_brain_yuxiang_6_df,add_df_yuxiang_6_df],axis=1)\n",
    "combined_other_df_luqman_6 = pd.concat([other_brain_luqman_6_df, add_df_luqman_6_df],axis=1)\n",
    "combined_yuxiang_luqman_other_6 = pd.concat([combined_other_df_yuxiang_6,combined_other_df_luqman_6],axis=0)"
   ]
  },
  {
   "cell_type": "markdown",
   "id": "0516083d",
   "metadata": {},
   "source": [
    "### Section 6.2 Cleaning of Dataset for Performance Metrics "
   ]
  },
  {
   "cell_type": "code",
   "execution_count": 155,
   "id": "460a22d4",
   "metadata": {},
   "outputs": [
    {
     "data": {
      "text/plain": [
       "(1730, 11)"
      ]
     },
     "execution_count": 155,
     "metadata": {},
     "output_type": "execute_result"
    }
   ],
   "source": [
    "# Drop any NA Columns\n",
    "combined_yuxiang_luqman_6.dropna( axis=0, inplace=True)\n",
    "# Filter of EQ level is less than 90\n",
    "combined_yuxiang_luqman_6_82 = combined_yuxiang_luqman_6.drop(combined_yuxiang_luqman_6[combined_yuxiang_luqman_6[\"EQ.OVERALL.New\"]<90].index)\n",
    "\n",
    "combined_yuxiang_luqman_6_82.shape"
   ]
  },
  {
   "cell_type": "markdown",
   "id": "164b7a89",
   "metadata": {},
   "source": [
    "### Section 6.3 Preparation of Training Model "
   ]
  },
  {
   "cell_type": "code",
   "execution_count": 156,
   "id": "76a724e3",
   "metadata": {},
   "outputs": [
    {
     "data": {
      "text/plain": [
       "(1730, 6)"
      ]
     },
     "execution_count": 156,
     "metadata": {},
     "output_type": "execute_result"
    }
   ],
   "source": [
    "dataframe_x_allwaves_combi7 = combined_yuxiang_luqman_6_82.drop(columns=['Timestamp','OriginalTimestamp','Target','EQ.OVERALL.New','Song'])\n",
    "dataframe_y_allwaves_combi7 = combined_yuxiang_luqman_6_82['Target']\n",
    "\n",
    "\n",
    "dataframe_x_allwaves_combi7.shape"
   ]
  },
  {
   "cell_type": "code",
   "execution_count": 157,
   "id": "39b5c6ce",
   "metadata": {},
   "outputs": [],
   "source": [
    "X_train, X_test, y_train, Y_test = train_test_split(dataframe_x_allwaves_combi7, dataframe_y_allwaves_combi7, test_size=0.20, random_state=101)\n"
   ]
  },
  {
   "cell_type": "code",
   "execution_count": 158,
   "id": "5a84b4e7",
   "metadata": {},
   "outputs": [
    {
     "data": {
      "text/html": [
       "<div>\n",
       "<style scoped>\n",
       "    .dataframe tbody tr th:only-of-type {\n",
       "        vertical-align: middle;\n",
       "    }\n",
       "\n",
       "    .dataframe tbody tr th {\n",
       "        vertical-align: top;\n",
       "    }\n",
       "\n",
       "    .dataframe thead th {\n",
       "        text-align: right;\n",
       "    }\n",
       "</style>\n",
       "<table border=\"1\" class=\"dataframe\">\n",
       "  <thead>\n",
       "    <tr style=\"text-align: right;\">\n",
       "      <th></th>\n",
       "      <th>Accuracy Score</th>\n",
       "      <th>F1 Score</th>\n",
       "    </tr>\n",
       "  </thead>\n",
       "  <tbody>\n",
       "    <tr>\n",
       "      <th>ExtraTreesClassifier</th>\n",
       "      <td>0.947977</td>\n",
       "      <td>0.958140</td>\n",
       "    </tr>\n",
       "    <tr>\n",
       "      <th>Random Forest</th>\n",
       "      <td>0.927746</td>\n",
       "      <td>0.942263</td>\n",
       "    </tr>\n",
       "    <tr>\n",
       "      <th>ExtremeGradientBoost</th>\n",
       "      <td>0.916185</td>\n",
       "      <td>0.933025</td>\n",
       "    </tr>\n",
       "    <tr>\n",
       "      <th>KNN</th>\n",
       "      <td>0.910405</td>\n",
       "      <td>0.926714</td>\n",
       "    </tr>\n",
       "    <tr>\n",
       "      <th>BaggingClassifier</th>\n",
       "      <td>0.901734</td>\n",
       "      <td>0.919048</td>\n",
       "    </tr>\n",
       "    <tr>\n",
       "      <th>Decision Tree Classifier</th>\n",
       "      <td>0.861272</td>\n",
       "      <td>0.888372</td>\n",
       "    </tr>\n",
       "    <tr>\n",
       "      <th>Gradientboost</th>\n",
       "      <td>0.858382</td>\n",
       "      <td>0.886836</td>\n",
       "    </tr>\n",
       "    <tr>\n",
       "      <th>Adaboost</th>\n",
       "      <td>0.736994</td>\n",
       "      <td>0.797327</td>\n",
       "    </tr>\n",
       "    <tr>\n",
       "      <th>SVM</th>\n",
       "      <td>0.638728</td>\n",
       "      <td>0.763705</td>\n",
       "    </tr>\n",
       "    <tr>\n",
       "      <th>Logistic Regression</th>\n",
       "      <td>0.618497</td>\n",
       "      <td>0.754647</td>\n",
       "    </tr>\n",
       "    <tr>\n",
       "      <th>Gaussian NB</th>\n",
       "      <td>0.598266</td>\n",
       "      <td>0.734226</td>\n",
       "    </tr>\n",
       "  </tbody>\n",
       "</table>\n",
       "</div>"
      ],
      "text/plain": [
       "                          Accuracy Score  F1 Score\n",
       "ExtraTreesClassifier            0.947977  0.958140\n",
       "Random Forest                   0.927746  0.942263\n",
       "ExtremeGradientBoost            0.916185  0.933025\n",
       "KNN                             0.910405  0.926714\n",
       "BaggingClassifier               0.901734  0.919048\n",
       "Decision Tree Classifier        0.861272  0.888372\n",
       "Gradientboost                   0.858382  0.886836\n",
       "Adaboost                        0.736994  0.797327\n",
       "SVM                             0.638728  0.763705\n",
       "Logistic Regression             0.618497  0.754647\n",
       "Gaussian NB                     0.598266  0.734226"
      ]
     },
     "execution_count": 158,
     "metadata": {},
     "output_type": "execute_result"
    }
   ],
   "source": [
    "runmodels(models,X_train,y_train,X_test,Y_test)"
   ]
  },
  {
   "cell_type": "markdown",
   "id": "1e416f8a",
   "metadata": {},
   "source": [
    "### Section 6.4 Cleaning of Beta waves "
   ]
  },
  {
   "cell_type": "code",
   "execution_count": 159,
   "id": "5e316c63",
   "metadata": {},
   "outputs": [
    {
     "data": {
      "text/plain": [
       "(6921, 33)"
      ]
     },
     "execution_count": 159,
     "metadata": {},
     "output_type": "execute_result"
    }
   ],
   "source": [
    "# Drop any NA Columns\n",
    "combined_yuxiang_luqman_beta_6.dropna( axis=0, inplace=True)\n",
    "# Filter of EQ level is less than 90\n",
    "combined_yuxiang_luqman_beta_6 = combined_yuxiang_luqman_beta_6.drop(combined_yuxiang_luqman_beta_6[combined_yuxiang_luqman_beta_6[\"EQ.OVERALL.New\"]<90].index)\n",
    "\n",
    "combined_yuxiang_luqman_beta_6.shape"
   ]
  },
  {
   "cell_type": "code",
   "execution_count": 160,
   "id": "cfd162bc",
   "metadata": {},
   "outputs": [
    {
     "data": {
      "text/plain": [
       "(6921, 28)"
      ]
     },
     "execution_count": 160,
     "metadata": {},
     "output_type": "execute_result"
    }
   ],
   "source": [
    "all_beta_X = combined_yuxiang_luqman_beta_6.drop(columns=['Timestamp','OriginalTimestamp','Target','EQ.OVERALL.New','Song'])\n",
    "all_beta_Y = combined_yuxiang_luqman_beta_6['Target']\n",
    "\n",
    "\n",
    "all_beta_X.shape"
   ]
  },
  {
   "cell_type": "markdown",
   "id": "c3c9ab2a",
   "metadata": {},
   "source": [
    "### Section 6.5 Dimensionality - Reduction Method Training Model (PCA-All Beta Waves)\n"
   ]
  },
  {
   "cell_type": "code",
   "execution_count": 161,
   "id": "e49dfbfc",
   "metadata": {},
   "outputs": [],
   "source": [
    "# Perform PCA (Reduce number of features)\n",
    "\n",
    "pca_85 = PCA(n_components=0.95)\n",
    "pca_components85 = pca_85.fit_transform(all_beta_X)"
   ]
  },
  {
   "cell_type": "code",
   "execution_count": 162,
   "id": "a4764220",
   "metadata": {},
   "outputs": [
    {
     "data": {
      "text/plain": [
       "14"
      ]
     },
     "execution_count": 162,
     "metadata": {},
     "output_type": "execute_result"
    }
   ],
   "source": [
    "len(pca_85.components_)"
   ]
  },
  {
   "cell_type": "code",
   "execution_count": 163,
   "id": "5267629c",
   "metadata": {},
   "outputs": [
    {
     "data": {
      "image/png": "[encoded data removed]",
      "text/plain": [
       "<Figure size 640x480 with 1 Axes>"
      ]
     },
     "metadata": {},
     "output_type": "display_data"
    }
   ],
   "source": [
    "explained_variance = pca_85.explained_variance_ratio_\n",
    "plt.plot(explained_variance)\n",
    "plt.show()"
   ]
  },
  {
   "cell_type": "code",
   "execution_count": 164,
   "id": "67e3b73c",
   "metadata": {},
   "outputs": [],
   "source": [
    "column_list = []\n",
    "for i in range(14):\n",
    "    col_name = \"PC\" + str(i+1)\n",
    "    column_list.append(col_name)\n",
    "    \n",
    "pca_beta_waves_df85 = pd.DataFrame(pca_components85, columns=column_list)"
   ]
  },
  {
   "cell_type": "code",
   "execution_count": 165,
   "id": "0f7ce202",
   "metadata": {},
   "outputs": [
    {
     "data": {
      "text/plain": [
       "(6921, 14)"
      ]
     },
     "execution_count": 165,
     "metadata": {},
     "output_type": "execute_result"
    }
   ],
   "source": [
    "dataframe_x_beta_combi6 = pca_beta_waves_df85\n",
    "dataframe_y_beta_combi6 = combined_yuxiang_luqman_beta_6['Target']\n",
    "\n",
    "\n",
    "dataframe_x_beta_combi6.shape"
   ]
  },
  {
   "cell_type": "code",
   "execution_count": 166,
   "id": "e981ac5b",
   "metadata": {},
   "outputs": [],
   "source": [
    "X_train, X_test, y_train, Y_test = train_test_split(dataframe_x_beta_combi6, dataframe_y_beta_combi6, test_size=0.20, random_state=101)\n"
   ]
  },
  {
   "cell_type": "code",
   "execution_count": 167,
   "id": "9556be4f",
   "metadata": {},
   "outputs": [
    {
     "data": {
      "text/html": [
       "<div>\n",
       "<style scoped>\n",
       "    .dataframe tbody tr th:only-of-type {\n",
       "        vertical-align: middle;\n",
       "    }\n",
       "\n",
       "    .dataframe tbody tr th {\n",
       "        vertical-align: top;\n",
       "    }\n",
       "\n",
       "    .dataframe thead th {\n",
       "        text-align: right;\n",
       "    }\n",
       "</style>\n",
       "<table border=\"1\" class=\"dataframe\">\n",
       "  <thead>\n",
       "    <tr style=\"text-align: right;\">\n",
       "      <th></th>\n",
       "      <th>Accuracy Score</th>\n",
       "      <th>F1 Score</th>\n",
       "    </tr>\n",
       "  </thead>\n",
       "  <tbody>\n",
       "    <tr>\n",
       "      <th>ExtraTreesClassifier</th>\n",
       "      <td>0.929964</td>\n",
       "      <td>0.942570</td>\n",
       "    </tr>\n",
       "    <tr>\n",
       "      <th>Random Forest</th>\n",
       "      <td>0.872202</td>\n",
       "      <td>0.897983</td>\n",
       "    </tr>\n",
       "    <tr>\n",
       "      <th>KNN</th>\n",
       "      <td>0.854152</td>\n",
       "      <td>0.876225</td>\n",
       "    </tr>\n",
       "    <tr>\n",
       "      <th>ExtremeGradientBoost</th>\n",
       "      <td>0.820217</td>\n",
       "      <td>0.852924</td>\n",
       "    </tr>\n",
       "    <tr>\n",
       "      <th>BaggingClassifier</th>\n",
       "      <td>0.797112</td>\n",
       "      <td>0.829179</td>\n",
       "    </tr>\n",
       "    <tr>\n",
       "      <th>SVM</th>\n",
       "      <td>0.685199</td>\n",
       "      <td>0.770285</td>\n",
       "    </tr>\n",
       "    <tr>\n",
       "      <th>Decision Tree Classifier</th>\n",
       "      <td>0.707581</td>\n",
       "      <td>0.759072</td>\n",
       "    </tr>\n",
       "    <tr>\n",
       "      <th>Gradientboost</th>\n",
       "      <td>0.673646</td>\n",
       "      <td>0.755146</td>\n",
       "    </tr>\n",
       "    <tr>\n",
       "      <th>Logistic Regression</th>\n",
       "      <td>0.620217</td>\n",
       "      <td>0.729145</td>\n",
       "    </tr>\n",
       "    <tr>\n",
       "      <th>Gaussian NB</th>\n",
       "      <td>0.612996</td>\n",
       "      <td>0.710270</td>\n",
       "    </tr>\n",
       "    <tr>\n",
       "      <th>Adaboost</th>\n",
       "      <td>0.628881</td>\n",
       "      <td>0.710259</td>\n",
       "    </tr>\n",
       "  </tbody>\n",
       "</table>\n",
       "</div>"
      ],
      "text/plain": [
       "                          Accuracy Score  F1 Score\n",
       "ExtraTreesClassifier            0.929964  0.942570\n",
       "Random Forest                   0.872202  0.897983\n",
       "KNN                             0.854152  0.876225\n",
       "ExtremeGradientBoost            0.820217  0.852924\n",
       "BaggingClassifier               0.797112  0.829179\n",
       "SVM                             0.685199  0.770285\n",
       "Decision Tree Classifier        0.707581  0.759072\n",
       "Gradientboost                   0.673646  0.755146\n",
       "Logistic Regression             0.620217  0.729145\n",
       "Gaussian NB                     0.612996  0.710270\n",
       "Adaboost                        0.628881  0.710259"
      ]
     },
     "execution_count": 167,
     "metadata": {},
     "output_type": "execute_result"
    }
   ],
   "source": [
    "runmodels(models,X_train,y_train,X_test,Y_test)\n"
   ]
  },
  {
   "cell_type": "markdown",
   "id": "f74b6413",
   "metadata": {},
   "source": [
    "### Section 6.6 Cleaning of All Brain Waves "
   ]
  },
  {
   "cell_type": "code",
   "execution_count": 168,
   "id": "aede4600",
   "metadata": {},
   "outputs": [
    {
     "data": {
      "text/plain": [
       "(6921, 75)"
      ]
     },
     "execution_count": 168,
     "metadata": {},
     "output_type": "execute_result"
    }
   ],
   "source": [
    "# Drop any NA Columns\n",
    "combined_yuxiang_luqman_other_6.dropna( axis=0, inplace=True)\n",
    "# Filter of EQ level is less than 90\n",
    "combined_yuxiang_luqman_other_6 = combined_yuxiang_luqman_other_6.drop(combined_yuxiang_luqman_other_6[combined_yuxiang_luqman_other_6[\"EQ.OVERALL.New\"]<90].index)\n",
    "\n",
    "combined_yuxiang_luqman_other_6.shape"
   ]
  },
  {
   "cell_type": "code",
   "execution_count": 169,
   "id": "8d083273",
   "metadata": {},
   "outputs": [
    {
     "data": {
      "text/plain": [
       "(6921, 70)"
      ]
     },
     "execution_count": 169,
     "metadata": {},
     "output_type": "execute_result"
    }
   ],
   "source": [
    "all_brain_X_86 = combined_yuxiang_luqman_other_6.drop(columns=['Timestamp','OriginalTimestamp','Target','EQ.OVERALL.New','Song'])\n",
    "all_brain_Y_86 = combined_yuxiang_luqman_other_6['Target']\n",
    "\n",
    "\n",
    "all_brain_X_86.shape"
   ]
  },
  {
   "cell_type": "markdown",
   "id": "29f14579",
   "metadata": {},
   "source": [
    "### Section 6.7 Dimensionality - Reduction Method Training Model (PCA-All Brain Waves)\n"
   ]
  },
  {
   "cell_type": "code",
   "execution_count": 170,
   "id": "82e79051",
   "metadata": {},
   "outputs": [],
   "source": [
    "pca_87 = PCA(n_components=0.95)\n",
    "pca_components87 = pca_87.fit_transform(all_brain_X_86)"
   ]
  },
  {
   "cell_type": "code",
   "execution_count": 171,
   "id": "76ad23a6",
   "metadata": {},
   "outputs": [
    {
     "data": {
      "text/plain": [
       "13"
      ]
     },
     "execution_count": 171,
     "metadata": {},
     "output_type": "execute_result"
    }
   ],
   "source": [
    "len(pca_87.components_)"
   ]
  },
  {
   "cell_type": "code",
   "execution_count": 172,
   "id": "3a12be88",
   "metadata": {},
   "outputs": [
    {
     "data": {
      "image/png": "[encoded data removed]",
      "text/plain": [
       "<Figure size 640x480 with 1 Axes>"
      ]
     },
     "metadata": {},
     "output_type": "display_data"
    }
   ],
   "source": [
    "explained_variance = pca_87.explained_variance_ratio_\n",
    "plt.plot(explained_variance)\n",
    "plt.show()"
   ]
  },
  {
   "cell_type": "code",
   "execution_count": 173,
   "id": "bcc6a29f",
   "metadata": {},
   "outputs": [],
   "source": [
    "column_list = []\n",
    "for i in range(13):\n",
    "    col_name = \"PC\" + str(i+1)\n",
    "    column_list.append(col_name)\n",
    "    \n",
    "pca_all_waves_df87 = pd.DataFrame(pca_components87, columns=column_list)"
   ]
  },
  {
   "cell_type": "code",
   "execution_count": 174,
   "id": "ceb1d6bf",
   "metadata": {},
   "outputs": [],
   "source": [
    "X_train, X_test, y_train, Y_test = train_test_split(pca_all_waves_df87, all_brain_Y_86, test_size=0.20, random_state=101)\n"
   ]
  },
  {
   "cell_type": "code",
   "execution_count": 175,
   "id": "4b48c15e",
   "metadata": {},
   "outputs": [
    {
     "data": {
      "text/html": [
       "<div>\n",
       "<style scoped>\n",
       "    .dataframe tbody tr th:only-of-type {\n",
       "        vertical-align: middle;\n",
       "    }\n",
       "\n",
       "    .dataframe tbody tr th {\n",
       "        vertical-align: top;\n",
       "    }\n",
       "\n",
       "    .dataframe thead th {\n",
       "        text-align: right;\n",
       "    }\n",
       "</style>\n",
       "<table border=\"1\" class=\"dataframe\">\n",
       "  <thead>\n",
       "    <tr style=\"text-align: right;\">\n",
       "      <th></th>\n",
       "      <th>Accuracy Score</th>\n",
       "      <th>F1 Score</th>\n",
       "    </tr>\n",
       "  </thead>\n",
       "  <tbody>\n",
       "    <tr>\n",
       "      <th>ExtraTreesClassifier</th>\n",
       "      <td>0.907581</td>\n",
       "      <td>0.926267</td>\n",
       "    </tr>\n",
       "    <tr>\n",
       "      <th>Random Forest</th>\n",
       "      <td>0.864260</td>\n",
       "      <td>0.892816</td>\n",
       "    </tr>\n",
       "    <tr>\n",
       "      <th>ExtremeGradientBoost</th>\n",
       "      <td>0.821661</td>\n",
       "      <td>0.858453</td>\n",
       "    </tr>\n",
       "    <tr>\n",
       "      <th>KNN</th>\n",
       "      <td>0.826715</td>\n",
       "      <td>0.855247</td>\n",
       "    </tr>\n",
       "    <tr>\n",
       "      <th>BaggingClassifier</th>\n",
       "      <td>0.796390</td>\n",
       "      <td>0.826141</td>\n",
       "    </tr>\n",
       "    <tr>\n",
       "      <th>Decision Tree Classifier</th>\n",
       "      <td>0.727798</td>\n",
       "      <td>0.774387</td>\n",
       "    </tr>\n",
       "    <tr>\n",
       "      <th>Gradientboost</th>\n",
       "      <td>0.693863</td>\n",
       "      <td>0.773987</td>\n",
       "    </tr>\n",
       "    <tr>\n",
       "      <th>SVM</th>\n",
       "      <td>0.677978</td>\n",
       "      <td>0.770576</td>\n",
       "    </tr>\n",
       "    <tr>\n",
       "      <th>Logistic Regression</th>\n",
       "      <td>0.627437</td>\n",
       "      <td>0.742515</td>\n",
       "    </tr>\n",
       "    <tr>\n",
       "      <th>Adaboost</th>\n",
       "      <td>0.638989</td>\n",
       "      <td>0.732334</td>\n",
       "    </tr>\n",
       "    <tr>\n",
       "      <th>Gaussian NB</th>\n",
       "      <td>0.615162</td>\n",
       "      <td>0.726807</td>\n",
       "    </tr>\n",
       "  </tbody>\n",
       "</table>\n",
       "</div>"
      ],
      "text/plain": [
       "                          Accuracy Score  F1 Score\n",
       "ExtraTreesClassifier            0.907581  0.926267\n",
       "Random Forest                   0.864260  0.892816\n",
       "ExtremeGradientBoost            0.821661  0.858453\n",
       "KNN                             0.826715  0.855247\n",
       "BaggingClassifier               0.796390  0.826141\n",
       "Decision Tree Classifier        0.727798  0.774387\n",
       "Gradientboost                   0.693863  0.773987\n",
       "SVM                             0.677978  0.770576\n",
       "Logistic Regression             0.627437  0.742515\n",
       "Adaboost                        0.638989  0.732334\n",
       "Gaussian NB                     0.615162  0.726807"
      ]
     },
     "execution_count": 175,
     "metadata": {},
     "output_type": "execute_result"
    }
   ],
   "source": [
    "runmodels(models,X_train,y_train,X_test,Y_test)\n"
   ]
  }
 ],
 "metadata": {
  "kernelspec": {
   "display_name": "Python 3 (ipykernel)",
   "language": "python",
   "name": "python3"
  },
  "language_info": {
   "codemirror_mode": {
    "name": "ipython",
    "version": 3
   },
   "file_extension": ".py",
   "mimetype": "text/x-python",
   "name": "python",
   "nbconvert_exporter": "python",
   "pygments_lexer": "ipython3",
   "version": "3.10.6"
  }
 },
 "nbformat": 4,
 "nbformat_minor": 5
}
